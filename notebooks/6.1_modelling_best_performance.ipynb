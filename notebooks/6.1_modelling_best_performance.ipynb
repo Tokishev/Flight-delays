{
 "cells": [
  {
   "cell_type": "code",
   "execution_count": 36,
   "id": "af2ce315-683b-4bc5-b53e-547d1abc69c2",
   "metadata": {},
   "outputs": [],
   "source": [
    "import pandas as pd\n",
    "import numpy as np\n",
    "from datetime import datetime,timedelta\n",
    "import seaborn as sns\n",
    "import matplotlib.pyplot as plt\n",
    "# Import stats from scipy library\n",
    "from scipy import stats\n",
    "import statsmodels.api as sm\n",
    "\n",
    "\n",
    "from sklearn.model_selection import train_test_split,GridSearchCV,RandomizedSearchCV\n",
    "from sklearn.decomposition import PCA\n",
    "from sklearn.preprocessing import StandardScaler,MinMaxScaler\n",
    "from sklearn.linear_model import LinearRegression\n",
    "\n",
    "from sklearn.preprocessing import PolynomialFeatures\n",
    "\n",
    "from sklearn.metrics import r2_score,mean_absolute_error,mean_squared_error\n",
    "from sklearn.feature_selection import SequentialFeatureSelector"
   ]
  },
  {
   "cell_type": "markdown",
   "id": "3a541187-8808-4f1a-b7dc-e54d24848352",
   "metadata": {},
   "source": [
    "# Including weather data"
   ]
  },
  {
   "cell_type": "code",
   "execution_count": 50,
   "id": "5330a11b-fe51-4d2e-871f-59ef7e574982",
   "metadata": {},
   "outputs": [],
   "source": [
    "flights_fe = pd.read_csv(r\"../data/interim/2_feature_engineered/train_data_Akhmet.csv\")"
   ]
  },
  {
   "cell_type": "code",
   "execution_count": 51,
   "id": "a7cf037f-03df-4c6c-a127-9af90809a84d",
   "metadata": {},
   "outputs": [
    {
     "data": {
      "text/html": [
       "<div>\n",
       "<style scoped>\n",
       "    .dataframe tbody tr th:only-of-type {\n",
       "        vertical-align: middle;\n",
       "    }\n",
       "\n",
       "    .dataframe tbody tr th {\n",
       "        vertical-align: top;\n",
       "    }\n",
       "\n",
       "    .dataframe thead th {\n",
       "        text-align: right;\n",
       "    }\n",
       "</style>\n",
       "<table border=\"1\" class=\"dataframe\">\n",
       "  <thead>\n",
       "    <tr style=\"text-align: right;\">\n",
       "      <th></th>\n",
       "      <th>mkt_unique_carrier</th>\n",
       "      <th>op_unique_carrier</th>\n",
       "      <th>op_carrier_fl_num</th>\n",
       "      <th>arr_delay</th>\n",
       "      <th>crs_elapsed_time</th>\n",
       "      <th>distance</th>\n",
       "      <th>inbound_flights</th>\n",
       "      <th>weather_data</th>\n",
       "      <th>arr_flights</th>\n",
       "      <th>dep_flights</th>\n",
       "      <th>...</th>\n",
       "      <th>hub_type_des</th>\n",
       "      <th>ownership_status_des</th>\n",
       "      <th>facility_use_des</th>\n",
       "      <th>area_des</th>\n",
       "      <th>fss_on_airport_des</th>\n",
       "      <th>beacon_color_des</th>\n",
       "      <th>total_operations_annual_des</th>\n",
       "      <th>Rank_des</th>\n",
       "      <th>origin_state</th>\n",
       "      <th>dest_state</th>\n",
       "    </tr>\n",
       "  </thead>\n",
       "  <tbody>\n",
       "    <tr>\n",
       "      <th>0</th>\n",
       "      <td>DL</td>\n",
       "      <td>9E</td>\n",
       "      <td>5187</td>\n",
       "      <td>-17.0</td>\n",
       "      <td>125.0</td>\n",
       "      <td>692.0</td>\n",
       "      <td>4</td>\n",
       "      <td>Rain</td>\n",
       "      <td>0</td>\n",
       "      <td>0</td>\n",
       "      <td>...</td>\n",
       "      <td>Non-Hub</td>\n",
       "      <td>PUBLIC</td>\n",
       "      <td>PUBLIC</td>\n",
       "      <td>2278.0</td>\n",
       "      <td>NO</td>\n",
       "      <td>Clear and Green</td>\n",
       "      <td>87505</td>\n",
       "      <td>143.0</td>\n",
       "      <td>GA</td>\n",
       "      <td>PA</td>\n",
       "    </tr>\n",
       "    <tr>\n",
       "      <th>1</th>\n",
       "      <td>DL</td>\n",
       "      <td>9E</td>\n",
       "      <td>5443</td>\n",
       "      <td>-18.0</td>\n",
       "      <td>124.0</td>\n",
       "      <td>692.0</td>\n",
       "      <td>3</td>\n",
       "      <td>Fog</td>\n",
       "      <td>0</td>\n",
       "      <td>11</td>\n",
       "      <td>...</td>\n",
       "      <td>Non-Hub</td>\n",
       "      <td>PUBLIC</td>\n",
       "      <td>PUBLIC</td>\n",
       "      <td>2278.0</td>\n",
       "      <td>NO</td>\n",
       "      <td>Clear and Green</td>\n",
       "      <td>87505</td>\n",
       "      <td>143.0</td>\n",
       "      <td>GA</td>\n",
       "      <td>PA</td>\n",
       "    </tr>\n",
       "    <tr>\n",
       "      <th>2</th>\n",
       "      <td>DL</td>\n",
       "      <td>9E</td>\n",
       "      <td>5454</td>\n",
       "      <td>4.0</td>\n",
       "      <td>120.0</td>\n",
       "      <td>692.0</td>\n",
       "      <td>11</td>\n",
       "      <td>Precipitation</td>\n",
       "      <td>0</td>\n",
       "      <td>1</td>\n",
       "      <td>...</td>\n",
       "      <td>Non-Hub</td>\n",
       "      <td>PUBLIC</td>\n",
       "      <td>PUBLIC</td>\n",
       "      <td>2278.0</td>\n",
       "      <td>NO</td>\n",
       "      <td>Clear and Green</td>\n",
       "      <td>87505</td>\n",
       "      <td>143.0</td>\n",
       "      <td>GA</td>\n",
       "      <td>PA</td>\n",
       "    </tr>\n",
       "    <tr>\n",
       "      <th>3</th>\n",
       "      <td>DL</td>\n",
       "      <td>9E</td>\n",
       "      <td>5172</td>\n",
       "      <td>-15.0</td>\n",
       "      <td>123.0</td>\n",
       "      <td>692.0</td>\n",
       "      <td>7</td>\n",
       "      <td>Rain</td>\n",
       "      <td>0</td>\n",
       "      <td>4</td>\n",
       "      <td>...</td>\n",
       "      <td>Non-Hub</td>\n",
       "      <td>PUBLIC</td>\n",
       "      <td>PUBLIC</td>\n",
       "      <td>2278.0</td>\n",
       "      <td>NO</td>\n",
       "      <td>Clear and Green</td>\n",
       "      <td>87505</td>\n",
       "      <td>143.0</td>\n",
       "      <td>GA</td>\n",
       "      <td>PA</td>\n",
       "    </tr>\n",
       "    <tr>\n",
       "      <th>4</th>\n",
       "      <td>DL</td>\n",
       "      <td>9E</td>\n",
       "      <td>5172</td>\n",
       "      <td>-16.0</td>\n",
       "      <td>123.0</td>\n",
       "      <td>692.0</td>\n",
       "      <td>4</td>\n",
       "      <td>Fog</td>\n",
       "      <td>0</td>\n",
       "      <td>7</td>\n",
       "      <td>...</td>\n",
       "      <td>Non-Hub</td>\n",
       "      <td>PUBLIC</td>\n",
       "      <td>PUBLIC</td>\n",
       "      <td>2278.0</td>\n",
       "      <td>NO</td>\n",
       "      <td>Clear and Green</td>\n",
       "      <td>87505</td>\n",
       "      <td>143.0</td>\n",
       "      <td>GA</td>\n",
       "      <td>PA</td>\n",
       "    </tr>\n",
       "  </tbody>\n",
       "</table>\n",
       "<p>5 rows × 36 columns</p>\n",
       "</div>"
      ],
      "text/plain": [
       "  mkt_unique_carrier op_unique_carrier  op_carrier_fl_num  arr_delay  \\\n",
       "0                 DL                9E               5187      -17.0   \n",
       "1                 DL                9E               5443      -18.0   \n",
       "2                 DL                9E               5454        4.0   \n",
       "3                 DL                9E               5172      -15.0   \n",
       "4                 DL                9E               5172      -16.0   \n",
       "\n",
       "   crs_elapsed_time  distance  inbound_flights   weather_data  arr_flights  \\\n",
       "0             125.0     692.0                4           Rain            0   \n",
       "1             124.0     692.0                3            Fog            0   \n",
       "2             120.0     692.0               11  Precipitation            0   \n",
       "3             123.0     692.0                7           Rain            0   \n",
       "4             123.0     692.0                4            Fog            0   \n",
       "\n",
       "   dep_flights  ...  hub_type_des  ownership_status_des  facility_use_des  \\\n",
       "0            0  ...       Non-Hub                PUBLIC            PUBLIC   \n",
       "1           11  ...       Non-Hub                PUBLIC            PUBLIC   \n",
       "2            1  ...       Non-Hub                PUBLIC            PUBLIC   \n",
       "3            4  ...       Non-Hub                PUBLIC            PUBLIC   \n",
       "4            7  ...       Non-Hub                PUBLIC            PUBLIC   \n",
       "\n",
       "   area_des  fss_on_airport_des  beacon_color_des total_operations_annual_des  \\\n",
       "0    2278.0                  NO   Clear and Green                       87505   \n",
       "1    2278.0                  NO   Clear and Green                       87505   \n",
       "2    2278.0                  NO   Clear and Green                       87505   \n",
       "3    2278.0                  NO   Clear and Green                       87505   \n",
       "4    2278.0                  NO   Clear and Green                       87505   \n",
       "\n",
       "  Rank_des origin_state dest_state  \n",
       "0    143.0           GA         PA  \n",
       "1    143.0           GA         PA  \n",
       "2    143.0           GA         PA  \n",
       "3    143.0           GA         PA  \n",
       "4    143.0           GA         PA  \n",
       "\n",
       "[5 rows x 36 columns]"
      ]
     },
     "execution_count": 51,
     "metadata": {},
     "output_type": "execute_result"
    }
   ],
   "source": [
    "flights_fe.head()"
   ]
  },
  {
   "cell_type": "code",
   "execution_count": 52,
   "id": "7efb8a48-80bc-4b34-8ea6-af7581ceb63e",
   "metadata": {},
   "outputs": [],
   "source": [
    "df = flights_fe.copy()"
   ]
  },
  {
   "cell_type": "code",
   "execution_count": 53,
   "id": "7a35f51e-d320-4830-abcc-d61d73b76a6e",
   "metadata": {},
   "outputs": [],
   "source": [
    "X,y= df.drop(columns=[\"arr_delay\"]),df[[\"arr_delay\"]]\n",
    "\n",
    "X_dummy = X.drop(columns=[\"op_carrier_fl_num\",'beacon_color_or','beacon_color_des','ownership_status_des','facility_use_des','ownership_status_or','facility_use_or'])"
   ]
  },
  {
   "cell_type": "code",
   "execution_count": 54,
   "id": "3809fca9-5d30-4098-8ce9-aa48bd576a39",
   "metadata": {},
   "outputs": [],
   "source": [
    "X_dummy = pd.get_dummies(\n",
    "    data=X_dummy,columns=[\"mkt_unique_carrier\",\"op_unique_carrier\",\n",
    "                          'arr_month','arr_day_of_week','arr_hour','dep_month','dep_day_of_week','dep_hour', \n",
    "                          \n",
    "                          'service_level_or','hub_type_or','fss_on_airport_or',\n",
    "                          'service_level_des', \n",
    "                          'hub_type_des','fss_on_airport_des'  \n",
    "                          \n",
    "                          ,'origin_state','dest_state',\n",
    "                          \"weather_data\"\n",
    "                          ])"
   ]
  },
  {
   "cell_type": "code",
   "execution_count": 55,
   "id": "54696de5-01fe-4da1-9003-73ec62e05225",
   "metadata": {},
   "outputs": [
    {
     "data": {
      "text/plain": [
       "(80043, 250)"
      ]
     },
     "execution_count": 55,
     "metadata": {},
     "output_type": "execute_result"
    }
   ],
   "source": [
    "X_dummy.shape"
   ]
  },
  {
   "cell_type": "code",
   "execution_count": 56,
   "id": "7ce28c4c-b4f6-43a6-880a-35c12b389b61",
   "metadata": {},
   "outputs": [],
   "source": [
    "X_train,X_test,y_train,y_test = train_test_split(X_dummy,y,train_size=0.7,random_state=0)"
   ]
  },
  {
   "cell_type": "code",
   "execution_count": 57,
   "id": "3f708c10-b4d0-43cb-95ba-526ea6a0d8b0",
   "metadata": {},
   "outputs": [],
   "source": [
    "clf =LinearRegression()\n",
    "clf.fit(X_train, y_train)\n",
    "y_pred=clf.predict(X_test)"
   ]
  },
  {
   "cell_type": "code",
   "execution_count": 58,
   "id": "4a50acf0-c0b6-4216-844d-9cfff6e442d4",
   "metadata": {},
   "outputs": [
    {
     "data": {
      "text/plain": [
       "0.061380590760721665"
      ]
     },
     "execution_count": 58,
     "metadata": {},
     "output_type": "execute_result"
    }
   ],
   "source": [
    "r2_score(y_test,y_pred)"
   ]
  },
  {
   "cell_type": "code",
   "execution_count": 59,
   "id": "ff5b902f-1c88-4aed-b79f-d35aecbfbd9d",
   "metadata": {},
   "outputs": [
    {
     "data": {
      "text/plain": [
       "12.373692696673572"
      ]
     },
     "execution_count": 59,
     "metadata": {},
     "output_type": "execute_result"
    }
   ],
   "source": [
    "mean_absolute_error(y_test,y_pred)"
   ]
  },
  {
   "cell_type": "code",
   "execution_count": 60,
   "id": "92e2d042-3544-4a8e-82cd-23dd7dad2526",
   "metadata": {},
   "outputs": [
    {
     "data": {
      "text/plain": [
       "246.77856860999717"
      ]
     },
     "execution_count": 60,
     "metadata": {},
     "output_type": "execute_result"
    }
   ],
   "source": [
    "mean_squared_error(y_test,y_pred)"
   ]
  },
  {
   "cell_type": "code",
   "execution_count": 61,
   "id": "e746e90a-d628-4d4e-b4c4-98ab9d6b86e8",
   "metadata": {},
   "outputs": [
    {
     "data": {
      "text/plain": [
       "XGBRegressor(alpha=0.3, base_score=0.5, booster='gbtree', colsample_bylevel=1,\n",
       "             colsample_bynode=1, colsample_bytree=0.3, gamma=0, gpu_id=-1,\n",
       "             importance_type='gain', interaction_constraints='',\n",
       "             learning_rate=0.1, max_delta_step=0, max_depth=5,\n",
       "             min_child_weight=1, missing=nan, monotone_constraints='()',\n",
       "             n_estimators=1000, n_jobs=12, num_parallel_tree=1, random_state=0,\n",
       "             reg_alpha=0.300000012, reg_lambda=1, scale_pos_weight=1,\n",
       "             subsample=1, tree_method='exact', validate_parameters=1,\n",
       "             verbosity=None)"
      ]
     },
     "execution_count": 61,
     "metadata": {},
     "output_type": "execute_result"
    }
   ],
   "source": [
    "import xgboost as xgb\n",
    "data_dmatrix = xgb.DMatrix(data=X_train,label=y_train)\n",
    "xg_reg = xgb.XGBRegressor(objective ='reg:squarederror', colsample_bytree = 0.3, learning_rate = 0.1,\n",
    "                max_depth = 5, alpha = 0.3, n_estimators = 1000)\n",
    "xg_reg.fit(X_train,y_train)"
   ]
  },
  {
   "cell_type": "code",
   "execution_count": 62,
   "id": "6a70120f-0e94-4912-a249-7c719f9af864",
   "metadata": {},
   "outputs": [
    {
     "data": {
      "text/plain": [
       "0.06870818633297981"
      ]
     },
     "execution_count": 62,
     "metadata": {},
     "output_type": "execute_result"
    }
   ],
   "source": [
    "y_pred = xg_reg.predict(X_test)\n",
    "r2_score(y_test,y_pred)"
   ]
  },
  {
   "cell_type": "code",
   "execution_count": null,
   "id": "5a91893a-dcf3-4b8c-aec0-f7d2435c01a6",
   "metadata": {},
   "outputs": [],
   "source": []
  },
  {
   "cell_type": "markdown",
   "id": "1e0caa0b-be3f-4006-90d0-9f2c274ad5c2",
   "metadata": {},
   "source": [
    "## Excluding weather data"
   ]
  },
  {
   "cell_type": "code",
   "execution_count": null,
   "id": "7b480d52-8139-46a4-9982-53547b41f4f4",
   "metadata": {},
   "outputs": [],
   "source": []
  },
  {
   "cell_type": "code",
   "execution_count": 63,
   "id": "237ad900-bb42-40b3-8021-e6fb55552f1b",
   "metadata": {},
   "outputs": [],
   "source": [
    "X,y= df.drop(columns=[\"arr_delay\"]),df[[\"arr_delay\"]]\n",
    "\n",
    "X_dummy = X.drop(columns=[\"op_carrier_fl_num\",'beacon_color_or','beacon_color_des','ownership_status_des','facility_use_des','ownership_status_or','facility_use_or',\"weather_data\",])"
   ]
  },
  {
   "cell_type": "code",
   "execution_count": 64,
   "id": "71137653-a204-4aee-adf3-8197dd02b984",
   "metadata": {},
   "outputs": [],
   "source": [
    "X_dummy = pd.get_dummies(\n",
    "    data=X_dummy,columns=[\"mkt_unique_carrier\",\"op_unique_carrier\",\n",
    "                          'arr_month','arr_day_of_week','arr_hour','dep_month','dep_day_of_week','dep_hour', \n",
    "                          \n",
    "                          'service_level_or','hub_type_or','fss_on_airport_or',\n",
    "                          'service_level_des', \n",
    "                          'hub_type_des','fss_on_airport_des'  \n",
    "                          \n",
    "                          ,'origin_state','dest_state'\n",
    "                          ])"
   ]
  },
  {
   "cell_type": "code",
   "execution_count": 65,
   "id": "bd937e5f-904b-48f9-8e3c-fa2554f5e53b",
   "metadata": {},
   "outputs": [
    {
     "data": {
      "text/plain": [
       "(80043, 243)"
      ]
     },
     "execution_count": 65,
     "metadata": {},
     "output_type": "execute_result"
    }
   ],
   "source": [
    "X_dummy.shape"
   ]
  },
  {
   "cell_type": "code",
   "execution_count": 66,
   "id": "5f76cf6d-4708-4a6c-886a-590d5af24c9d",
   "metadata": {},
   "outputs": [],
   "source": [
    "X_train,X_test,y_train,y_test = train_test_split(X_dummy,y,train_size=0.7,random_state=0)"
   ]
  },
  {
   "cell_type": "code",
   "execution_count": 67,
   "id": "65c87996-8aaa-4e49-bfc8-cb827c82ae38",
   "metadata": {},
   "outputs": [],
   "source": [
    "clf =LinearRegression()\n",
    "clf.fit(X_train, y_train)\n",
    "y_pred=clf.predict(X_test)"
   ]
  },
  {
   "cell_type": "code",
   "execution_count": 68,
   "id": "d0d46135-45ae-41f6-90ef-7abf1bfcc039",
   "metadata": {},
   "outputs": [
    {
     "data": {
      "text/plain": [
       "0.055185171851917625"
      ]
     },
     "execution_count": 68,
     "metadata": {},
     "output_type": "execute_result"
    }
   ],
   "source": [
    "r2_score(y_test,y_pred)"
   ]
  },
  {
   "cell_type": "code",
   "execution_count": 69,
   "id": "5b987fc1-3c9e-429d-815d-f6beba859b50",
   "metadata": {},
   "outputs": [
    {
     "data": {
      "text/plain": [
       "12.419744460079484"
      ]
     },
     "execution_count": 69,
     "metadata": {},
     "output_type": "execute_result"
    }
   ],
   "source": [
    "mean_absolute_error(y_test,y_pred)"
   ]
  },
  {
   "cell_type": "code",
   "execution_count": 70,
   "id": "5ae8b4b1-3ddf-4056-83d3-6e903bc86e5d",
   "metadata": {},
   "outputs": [
    {
     "data": {
      "text/plain": [
       "248.40744672098052"
      ]
     },
     "execution_count": 70,
     "metadata": {},
     "output_type": "execute_result"
    }
   ],
   "source": [
    "mean_squared_error(y_test,y_pred)"
   ]
  },
  {
   "cell_type": "code",
   "execution_count": 71,
   "id": "88c67519-0af2-4bf0-9a16-e7a63d96e511",
   "metadata": {},
   "outputs": [
    {
     "data": {
      "text/plain": [
       "XGBRegressor(alpha=0.3, base_score=0.5, booster='gbtree', colsample_bylevel=1,\n",
       "             colsample_bynode=1, colsample_bytree=0.3, gamma=0, gpu_id=-1,\n",
       "             importance_type='gain', interaction_constraints='',\n",
       "             learning_rate=0.1, max_delta_step=0, max_depth=5,\n",
       "             min_child_weight=1, missing=nan, monotone_constraints='()',\n",
       "             n_estimators=1000, n_jobs=12, num_parallel_tree=1, random_state=0,\n",
       "             reg_alpha=0.300000012, reg_lambda=1, scale_pos_weight=1,\n",
       "             subsample=1, tree_method='exact', validate_parameters=1,\n",
       "             verbosity=None)"
      ]
     },
     "execution_count": 71,
     "metadata": {},
     "output_type": "execute_result"
    }
   ],
   "source": [
    "import xgboost as xgb\n",
    "data_dmatrix = xgb.DMatrix(data=X_train,label=y_train)\n",
    "xg_reg = xgb.XGBRegressor(objective ='reg:squarederror', colsample_bytree = 0.3, learning_rate = 0.1,\n",
    "                max_depth = 5, alpha = 0.3, n_estimators = 1000)\n",
    "xg_reg.fit(X_train,y_train)"
   ]
  },
  {
   "cell_type": "code",
   "execution_count": 72,
   "id": "50d69d4e-af28-4785-b124-86a9c8e9609b",
   "metadata": {},
   "outputs": [
    {
     "data": {
      "text/plain": [
       "0.05949652070347089"
      ]
     },
     "execution_count": 72,
     "metadata": {},
     "output_type": "execute_result"
    }
   ],
   "source": [
    "y_pred = xg_reg.predict(X_test)\n",
    "r2_score(y_test,y_pred)"
   ]
  },
  {
   "cell_type": "code",
   "execution_count": 83,
   "id": "ed61094a-c107-4fc3-8f95-a52e94873bf6",
   "metadata": {},
   "outputs": [
    {
     "data": {
      "text/plain": [
       "(24013, 243)"
      ]
     },
     "execution_count": 83,
     "metadata": {},
     "output_type": "execute_result"
    }
   ],
   "source": [
    "X_test.shape"
   ]
  },
  {
   "cell_type": "markdown",
   "id": "f2d34adb-3aa9-472c-af82-0fa4292c5435",
   "metadata": {},
   "source": [
    "## Test data"
   ]
  },
  {
   "cell_type": "code",
   "execution_count": 73,
   "id": "fb6efc30-6fe1-46df-9f93-9c49c1075a9f",
   "metadata": {},
   "outputs": [],
   "source": [
    "test_data = pd.read_csv(r\"../data/interim/2_feature_engineered/test_data.csv\")"
   ]
  },
  {
   "cell_type": "code",
   "execution_count": 74,
   "id": "c709f070-cf66-400e-add0-1da2786f0be2",
   "metadata": {},
   "outputs": [],
   "source": [
    "test = test_data.drop(columns=[\"op_carrier_fl_num\",'beacon_color_or','beacon_color_des','ownership_status_des','facility_use_des','ownership_status_or','facility_use_or'])"
   ]
  },
  {
   "cell_type": "code",
   "execution_count": 75,
   "id": "e9ae9fe2-ee19-4874-a40d-b08eed618435",
   "metadata": {},
   "outputs": [],
   "source": [
    "drop_columns = list(set(test.columns)-set(X.columns))"
   ]
  },
  {
   "cell_type": "code",
   "execution_count": 76,
   "id": "2157a0cb-37c5-48a5-90cc-df41e0555730",
   "metadata": {},
   "outputs": [
    {
     "data": {
      "text/plain": [
       "(80043, 35)"
      ]
     },
     "execution_count": 76,
     "metadata": {},
     "output_type": "execute_result"
    }
   ],
   "source": [
    "X.shape"
   ]
  },
  {
   "cell_type": "code",
   "execution_count": 77,
   "id": "65b4a2ff-1f62-47c6-a715-fb92a2380362",
   "metadata": {},
   "outputs": [
    {
     "data": {
      "text/plain": [
       "(129720, 59)"
      ]
     },
     "execution_count": 77,
     "metadata": {},
     "output_type": "execute_result"
    }
   ],
   "source": [
    "test.shape"
   ]
  },
  {
   "cell_type": "code",
   "execution_count": 80,
   "id": "5c0f9f91-32e1-4170-ba31-1f69da366077",
   "metadata": {},
   "outputs": [],
   "source": [
    "test = test.drop(columns=drop_columns)"
   ]
  },
  {
   "cell_type": "code",
   "execution_count": 89,
   "id": "c8177ebc-2a3b-4332-ae45-c88e50816541",
   "metadata": {},
   "outputs": [
    {
     "data": {
      "text/plain": [
       "Index(['mkt_unique_carrier', 'op_unique_carrier', 'crs_elapsed_time',\n",
       "       'distance', 'inbound_flights', 'origin_state', 'dest_state',\n",
       "       'service_level_or', 'hub_type_or', 'area_or', 'fss_on_airport_or',\n",
       "       'total_operations_annual_or', 'Rank_or', 'service_level_des',\n",
       "       'hub_type_des', 'area_des', 'fss_on_airport_des',\n",
       "       'total_operations_annual_des', 'Rank_des', 'arr_month',\n",
       "       'arr_day_of_week', 'arr_hour', 'dep_month', 'dep_day_of_week',\n",
       "       'dep_hour'],\n",
       "      dtype='object')"
      ]
     },
     "execution_count": 89,
     "metadata": {},
     "output_type": "execute_result"
    }
   ],
   "source": [
    "test.columns"
   ]
  },
  {
   "cell_type": "code",
   "execution_count": null,
   "id": "3cca8223-31a7-4fcf-bc2d-6512deedec85",
   "metadata": {},
   "outputs": [],
   "source": []
  },
  {
   "cell_type": "code",
   "execution_count": 81,
   "id": "73d47ef6-6442-41ea-8966-3a11d66e415d",
   "metadata": {},
   "outputs": [],
   "source": [
    "test_dummy = pd.get_dummies(\n",
    "    data=test,columns=[\"mkt_unique_carrier\",\"op_unique_carrier\",\n",
    "                          'arr_month','arr_day_of_week','arr_hour','dep_month','dep_day_of_week','dep_hour', \n",
    "                          \n",
    "                          'service_level_or','hub_type_or','fss_on_airport_or',\n",
    "                          'service_level_des', \n",
    "                          'hub_type_des','fss_on_airport_des'  \n",
    "                          \n",
    "                          ,'origin_state','dest_state'\n",
    "                          ])"
   ]
  },
  {
   "cell_type": "code",
   "execution_count": 92,
   "id": "f55c07d8-4219-4950-ac12-7185e7f0ea3f",
   "metadata": {},
   "outputs": [],
   "source": [
    "add_columns = set(X_dummy.columns)-set(test_dummy.columns)\n",
    "for col in add_columns:\n",
    "    test_dummy[col] = 0"
   ]
  },
  {
   "cell_type": "code",
   "execution_count": 97,
   "id": "fdb83028-1de4-42b4-b8e9-c40255dce4bf",
   "metadata": {},
   "outputs": [],
   "source": [
    "drop_columns =list(set(test_dummy.columns)-set(X_dummy.columns))"
   ]
  },
  {
   "cell_type": "code",
   "execution_count": 99,
   "id": "45652fc3-5496-4164-a3ec-5eb81afe5e8c",
   "metadata": {},
   "outputs": [],
   "source": [
    "test_dummy = test_dummy.drop(columns=drop_columns)"
   ]
  },
  {
   "cell_type": "code",
   "execution_count": 100,
   "id": "083b6eb2-9a7f-4ee8-bc2b-4ac8421074b4",
   "metadata": {},
   "outputs": [],
   "source": [
    "y_pred = xg_reg.predict(test_dummy)"
   ]
  },
  {
   "cell_type": "code",
   "execution_count": 101,
   "id": "a2a4d374-0411-46a8-9f7d-71de7011b247",
   "metadata": {},
   "outputs": [
    {
     "data": {
      "text/plain": [
       "array([12.700654, 20.640152, 20.287792, ..., 29.56045 , 31.656145,\n",
       "       17.507212], dtype=float32)"
      ]
     },
     "execution_count": 101,
     "metadata": {},
     "output_type": "execute_result"
    }
   ],
   "source": [
    "y_pred"
   ]
  },
  {
   "cell_type": "code",
   "execution_count": 106,
   "id": "cfce8b29-e9a5-4ad7-9395-ba73a95bbf3e",
   "metadata": {},
   "outputs": [],
   "source": [
    "results = test_data[[\"fl_date\",\"mkt_carrier\",\"mkt_carrier_fl_num\",\"origin\",\"dest\"]]"
   ]
  },
  {
   "cell_type": "code",
   "execution_count": 107,
   "id": "17f78c20-015a-495b-b295-3e73132885bd",
   "metadata": {},
   "outputs": [
    {
     "name": "stderr",
     "output_type": "stream",
     "text": [
      "D:\\Anaconda\\envs\\geo_env\\lib\\site-packages\\pandas\\core\\frame.py:3607: SettingWithCopyWarning: \n",
      "A value is trying to be set on a copy of a slice from a DataFrame.\n",
      "Try using .loc[row_indexer,col_indexer] = value instead\n",
      "\n",
      "See the caveats in the documentation: https://pandas.pydata.org/pandas-docs/stable/user_guide/indexing.html#returning-a-view-versus-a-copy\n",
      "  self._set_item(key, value)\n"
     ]
    }
   ],
   "source": [
    "results[\"predicted delay\"] = y_pred"
   ]
  },
  {
   "cell_type": "code",
   "execution_count": 109,
   "id": "ad71d3f4-d0be-43ca-bc94-455ec2ec34dd",
   "metadata": {},
   "outputs": [],
   "source": [
    "results.to_csv(r\"../reports/predictions.csv\")"
   ]
  }
 ],
 "metadata": {
  "kernelspec": {
   "display_name": "geo_env",
   "language": "python",
   "name": "geo_env"
  },
  "language_info": {
   "codemirror_mode": {
    "name": "ipython",
    "version": 3
   },
   "file_extension": ".py",
   "mimetype": "text/x-python",
   "name": "python",
   "nbconvert_exporter": "python",
   "pygments_lexer": "ipython3",
   "version": "3.9.6"
  }
 },
 "nbformat": 4,
 "nbformat_minor": 5
}
