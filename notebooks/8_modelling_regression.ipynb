{
 "cells": [
  {
   "cell_type": "code",
   "execution_count": 1,
   "id": "af2ce315-683b-4bc5-b53e-547d1abc69c2",
   "metadata": {},
   "outputs": [],
   "source": [
    "import pandas as pd\n",
    "import numpy as np\n",
    "from datetime import datetime,timedelta\n",
    "import seaborn as sns\n",
    "from sklearn.preprocessing import StandardScaler"
   ]
  },
  {
   "cell_type": "code",
   "execution_count": null,
   "id": "5330a11b-fe51-4d2e-871f-59ef7e574982",
   "metadata": {},
   "outputs": [],
   "source": [
    "pd.read_csv(\"../dat\")"
   ]
  },
  {
   "cell_type": "markdown",
   "id": "9f117d68-b58b-4894-9132-47ed27c862be",
   "metadata": {},
   "source": [
    "## Prepro"
   ]
  },
  {
   "cell_type": "code",
   "execution_count": 12,
   "id": "e4debeee-fc66-4032-96eb-5d70dc7ee18c",
   "metadata": {},
   "outputs": [
    {
     "name": "stdout",
     "output_type": "stream",
     "text": [
      "(80043, 34)\n"
     ]
    }
   ],
   "source": [
    "#df = pd.read_csv(\"train_data_Akhmet_v2.csv\")\n",
    "df = pd.read_csv(\"train_data_Akhmet.csv\")\n",
    "print(df.shape)"
   ]
  },
  {
   "cell_type": "code",
   "execution_count": 3,
   "id": "9847d385-d638-41d8-90d6-3acd6e3005e6",
   "metadata": {},
   "outputs": [
    {
     "data": {
      "text/plain": [
       "Index(['mkt_unique_carrier', 'op_unique_carrier', 'op_carrier_fl_num',\n",
       "       'arr_delay', 'crs_elapsed_time', 'distance', 'inbound_flights',\n",
       "       'weather_data', 'arr_flights', 'dep_flights', 'arr_month',\n",
       "       'arr_day_of_week', 'arr_hour', 'dep_month', 'dep_day_of_week',\n",
       "       'dep_hour', 'service_level_or', 'hub_type_or', 'ownership_status_or',\n",
       "       'facility_use_or', 'area_or', 'fss_on_airport_or', 'beacon_color_or',\n",
       "       'total_operations_annual_or', 'service_level_des', 'hub_type_des',\n",
       "       'ownership_status_des', 'facility_use_des', 'area_des',\n",
       "       'fss_on_airport_des', 'beacon_color_des', 'total_operations_annual_des',\n",
       "       'origin_state', 'dest_state'],\n",
       "      dtype='object')"
      ]
     },
     "execution_count": 3,
     "metadata": {},
     "output_type": "execute_result"
    }
   ],
   "source": [
    "df.columns"
   ]
  },
  {
   "cell_type": "code",
   "execution_count": null,
   "id": "677b9440-60ca-4e4f-93e9-672b1037ff59",
   "metadata": {},
   "outputs": [],
   "source": [
    "#dfx = pd.read_csv(\"2_percent.csv\")\n",
    "#print(dfx.shape)"
   ]
  },
  {
   "cell_type": "code",
   "execution_count": 596,
   "id": "9243c590-87d8-4edc-9527-2074caf9a423",
   "metadata": {},
   "outputs": [],
   "source": [
    "df=df[['mkt_unique_carrier', 'op_unique_carrier',\n",
    "       'op_carrier_fl_num', 'arr_delay', 'crs_elapsed_time', 'distance',\n",
    "       'inbound_flights', 'arr_month', 'arr_day_of_week',\n",
    "       'arr_hour', 'dep_month', 'dep_day_of_week', 'dep_hour', 'hub_type_or',\n",
    "       'area_or', 'total_operations_annual_or', 'hub_type_des',\n",
    "       'facility_use_des', 'area_des', 'total_operations_annual_des',\n",
    "       'origin_state', 'dest_state', 'cancelled', 'nas_delay',\n",
    "       'security_delay', 'weather_delay', 'carrier_delay',\n",
    "       'late_aircraft_delay','num_runways_des',\n",
    "       'avg_runway_length_des', 'avg_runway_width_des','arr_type', 'arr_severity', 'dep_type', 'dep_severity']]\n",
    "print(df.shape)\n",
    "print(df.isnull().sum())"
   ]
  },
  {
   "cell_type": "code",
   "execution_count": null,
   "id": "b378e998-8cc0-42d5-b087-3c95a5f2c23c",
   "metadata": {},
   "outputs": [],
   "source": [
    "df.drop(columns=['nas_delay',\n",
    "       'security_delay', 'weather_delay', 'carrier_delay',\n",
    "       'late_aircraft_delay'],inplace=True)"
   ]
  },
  {
   "cell_type": "code",
   "execution_count": 598,
   "id": "63a7c82e-5070-4b93-b310-15a50229d831",
   "metadata": {},
   "outputs": [],
   "source": [
    "#df.dropna(inplace=True)\n",
    "df.fillna(0,inplace=True)\n",
    "print(df.shape)\n",
    "print(df.isnull().sum())"
   ]
  },
  {
   "cell_type": "code",
   "execution_count": 13,
   "id": "9dd7da03-f0f6-46a9-ab39-5f6dbf0dd613",
   "metadata": {},
   "outputs": [],
   "source": [
    "X,y= df.drop(columns=[\"arr_delay\"]),df[[\"arr_delay\"]]\n",
    "\n",
    "X_dummy = X.drop(columns=[\"op_carrier_fl_num\",'beacon_color_or','beacon_color_des','ownership_status_des','facility_use_des','ownership_status_or','facility_use_or'])"
   ]
  },
  {
   "cell_type": "code",
   "execution_count": 14,
   "id": "d49fdfb7-3564-49f0-a5cf-f43346dcaedb",
   "metadata": {},
   "outputs": [
    {
     "data": {
      "text/plain": [
       "Index(['mkt_unique_carrier', 'op_unique_carrier', 'op_carrier_fl_num',\n",
       "       'crs_elapsed_time', 'distance', 'inbound_flights', 'weather_data',\n",
       "       'arr_flights', 'dep_flights', 'arr_month', 'arr_day_of_week',\n",
       "       'arr_hour', 'dep_month', 'dep_day_of_week', 'dep_hour',\n",
       "       'service_level_or', 'hub_type_or', 'ownership_status_or',\n",
       "       'facility_use_or', 'area_or', 'fss_on_airport_or', 'beacon_color_or',\n",
       "       'total_operations_annual_or', 'service_level_des', 'hub_type_des',\n",
       "       'ownership_status_des', 'facility_use_des', 'area_des',\n",
       "       'fss_on_airport_des', 'beacon_color_des', 'total_operations_annual_des',\n",
       "       'origin_state', 'dest_state'],\n",
       "      dtype='object')"
      ]
     },
     "execution_count": 14,
     "metadata": {},
     "output_type": "execute_result"
    }
   ],
   "source": [
    "X.columns"
   ]
  },
  {
   "cell_type": "code",
   "execution_count": 15,
   "id": "5b93d510-0346-4d45-b228-f4b1dd3ea28e",
   "metadata": {},
   "outputs": [
    {
     "name": "stdout",
     "output_type": "stream",
     "text": [
      "(80043,)\n",
      "(80043, 33)\n",
      "(80043, 26)\n"
     ]
    }
   ],
   "source": [
    "#y=np.asarray(y['type'])\n",
    "y=np.asarray(y[\"arr_delay\"])\n",
    "print(y.shape)\n",
    "print(X.shape)\n",
    "print(X_dummy.shape)"
   ]
  },
  {
   "cell_type": "code",
   "execution_count": 9,
   "id": "8bea8437-40bc-45d8-84b1-b716422d83a9",
   "metadata": {},
   "outputs": [],
   "source": [
    "pd.set_option('display.max_columns', None)"
   ]
  },
  {
   "cell_type": "code",
   "execution_count": 10,
   "id": "a2984649-aff3-429b-90b7-e780063c8fe0",
   "metadata": {},
   "outputs": [
    {
     "data": {
      "text/html": [
       "<div>\n",
       "<style scoped>\n",
       "    .dataframe tbody tr th:only-of-type {\n",
       "        vertical-align: middle;\n",
       "    }\n",
       "\n",
       "    .dataframe tbody tr th {\n",
       "        vertical-align: top;\n",
       "    }\n",
       "\n",
       "    .dataframe thead th {\n",
       "        text-align: right;\n",
       "    }\n",
       "</style>\n",
       "<table border=\"1\" class=\"dataframe\">\n",
       "  <thead>\n",
       "    <tr style=\"text-align: right;\">\n",
       "      <th></th>\n",
       "      <th>mkt_unique_carrier</th>\n",
       "      <th>op_unique_carrier</th>\n",
       "      <th>distance</th>\n",
       "      <th>inbound_flights</th>\n",
       "      <th>weather_data</th>\n",
       "      <th>arr_flights</th>\n",
       "      <th>dep_flights</th>\n",
       "      <th>arr_month</th>\n",
       "      <th>arr_day_of_week</th>\n",
       "      <th>arr_hour</th>\n",
       "      <th>dep_month</th>\n",
       "      <th>dep_day_of_week</th>\n",
       "      <th>dep_hour</th>\n",
       "      <th>service_level_or</th>\n",
       "      <th>hub_type_or</th>\n",
       "      <th>ownership_status_or</th>\n",
       "      <th>facility_use_or</th>\n",
       "      <th>area_or</th>\n",
       "      <th>fss_on_airport_or</th>\n",
       "      <th>beacon_color_or</th>\n",
       "      <th>total_operations_annual_or</th>\n",
       "      <th>service_level_des</th>\n",
       "      <th>hub_type_des</th>\n",
       "      <th>ownership_status_des</th>\n",
       "      <th>facility_use_des</th>\n",
       "      <th>area_des</th>\n",
       "      <th>fss_on_airport_des</th>\n",
       "      <th>beacon_color_des</th>\n",
       "      <th>total_operations_annual_des</th>\n",
       "      <th>origin_state</th>\n",
       "      <th>dest_state</th>\n",
       "    </tr>\n",
       "  </thead>\n",
       "  <tbody>\n",
       "    <tr>\n",
       "      <th>0</th>\n",
       "      <td>DL</td>\n",
       "      <td>9E</td>\n",
       "      <td>692.0</td>\n",
       "      <td>4</td>\n",
       "      <td>Rain</td>\n",
       "      <td>0</td>\n",
       "      <td>0</td>\n",
       "      <td>1</td>\n",
       "      <td>3</td>\n",
       "      <td>23</td>\n",
       "      <td>1</td>\n",
       "      <td>3</td>\n",
       "      <td>21</td>\n",
       "      <td>Primary</td>\n",
       "      <td>Large</td>\n",
       "      <td>PUBLIC</td>\n",
       "      <td>PUBLIC</td>\n",
       "      <td>4700.0</td>\n",
       "      <td>NO</td>\n",
       "      <td>Clear and Green</td>\n",
       "      <td>525305</td>\n",
       "      <td>Primary</td>\n",
       "      <td>Non-Hub</td>\n",
       "      <td>PUBLIC</td>\n",
       "      <td>PUBLIC</td>\n",
       "      <td>2278.0</td>\n",
       "      <td>NO</td>\n",
       "      <td>Clear and Green</td>\n",
       "      <td>87505</td>\n",
       "      <td>GA</td>\n",
       "      <td>PA</td>\n",
       "    </tr>\n",
       "    <tr>\n",
       "      <th>1</th>\n",
       "      <td>DL</td>\n",
       "      <td>9E</td>\n",
       "      <td>692.0</td>\n",
       "      <td>3</td>\n",
       "      <td>Fog</td>\n",
       "      <td>0</td>\n",
       "      <td>11</td>\n",
       "      <td>3</td>\n",
       "      <td>0</td>\n",
       "      <td>17</td>\n",
       "      <td>3</td>\n",
       "      <td>0</td>\n",
       "      <td>15</td>\n",
       "      <td>Primary</td>\n",
       "      <td>Large</td>\n",
       "      <td>PUBLIC</td>\n",
       "      <td>PUBLIC</td>\n",
       "      <td>4700.0</td>\n",
       "      <td>NO</td>\n",
       "      <td>Clear and Green</td>\n",
       "      <td>525305</td>\n",
       "      <td>Primary</td>\n",
       "      <td>Non-Hub</td>\n",
       "      <td>PUBLIC</td>\n",
       "      <td>PUBLIC</td>\n",
       "      <td>2278.0</td>\n",
       "      <td>NO</td>\n",
       "      <td>Clear and Green</td>\n",
       "      <td>87505</td>\n",
       "      <td>GA</td>\n",
       "      <td>PA</td>\n",
       "    </tr>\n",
       "    <tr>\n",
       "      <th>2</th>\n",
       "      <td>DL</td>\n",
       "      <td>9E</td>\n",
       "      <td>692.0</td>\n",
       "      <td>11</td>\n",
       "      <td>Precipitation</td>\n",
       "      <td>0</td>\n",
       "      <td>1</td>\n",
       "      <td>4</td>\n",
       "      <td>4</td>\n",
       "      <td>12</td>\n",
       "      <td>4</td>\n",
       "      <td>4</td>\n",
       "      <td>10</td>\n",
       "      <td>Primary</td>\n",
       "      <td>Large</td>\n",
       "      <td>PUBLIC</td>\n",
       "      <td>PUBLIC</td>\n",
       "      <td>4700.0</td>\n",
       "      <td>NO</td>\n",
       "      <td>Clear and Green</td>\n",
       "      <td>525305</td>\n",
       "      <td>Primary</td>\n",
       "      <td>Non-Hub</td>\n",
       "      <td>PUBLIC</td>\n",
       "      <td>PUBLIC</td>\n",
       "      <td>2278.0</td>\n",
       "      <td>NO</td>\n",
       "      <td>Clear and Green</td>\n",
       "      <td>87505</td>\n",
       "      <td>GA</td>\n",
       "      <td>PA</td>\n",
       "    </tr>\n",
       "    <tr>\n",
       "      <th>3</th>\n",
       "      <td>DL</td>\n",
       "      <td>9E</td>\n",
       "      <td>692.0</td>\n",
       "      <td>7</td>\n",
       "      <td>Rain</td>\n",
       "      <td>0</td>\n",
       "      <td>4</td>\n",
       "      <td>10</td>\n",
       "      <td>2</td>\n",
       "      <td>12</td>\n",
       "      <td>10</td>\n",
       "      <td>2</td>\n",
       "      <td>10</td>\n",
       "      <td>Primary</td>\n",
       "      <td>Large</td>\n",
       "      <td>PUBLIC</td>\n",
       "      <td>PUBLIC</td>\n",
       "      <td>4700.0</td>\n",
       "      <td>NO</td>\n",
       "      <td>Clear and Green</td>\n",
       "      <td>525305</td>\n",
       "      <td>Primary</td>\n",
       "      <td>Non-Hub</td>\n",
       "      <td>PUBLIC</td>\n",
       "      <td>PUBLIC</td>\n",
       "      <td>2278.0</td>\n",
       "      <td>NO</td>\n",
       "      <td>Clear and Green</td>\n",
       "      <td>87505</td>\n",
       "      <td>GA</td>\n",
       "      <td>PA</td>\n",
       "    </tr>\n",
       "    <tr>\n",
       "      <th>4</th>\n",
       "      <td>DL</td>\n",
       "      <td>9E</td>\n",
       "      <td>692.0</td>\n",
       "      <td>4</td>\n",
       "      <td>Fog</td>\n",
       "      <td>0</td>\n",
       "      <td>7</td>\n",
       "      <td>11</td>\n",
       "      <td>0</td>\n",
       "      <td>12</td>\n",
       "      <td>11</td>\n",
       "      <td>0</td>\n",
       "      <td>10</td>\n",
       "      <td>Primary</td>\n",
       "      <td>Large</td>\n",
       "      <td>PUBLIC</td>\n",
       "      <td>PUBLIC</td>\n",
       "      <td>4700.0</td>\n",
       "      <td>NO</td>\n",
       "      <td>Clear and Green</td>\n",
       "      <td>525305</td>\n",
       "      <td>Primary</td>\n",
       "      <td>Non-Hub</td>\n",
       "      <td>PUBLIC</td>\n",
       "      <td>PUBLIC</td>\n",
       "      <td>2278.0</td>\n",
       "      <td>NO</td>\n",
       "      <td>Clear and Green</td>\n",
       "      <td>87505</td>\n",
       "      <td>GA</td>\n",
       "      <td>PA</td>\n",
       "    </tr>\n",
       "  </tbody>\n",
       "</table>\n",
       "</div>"
      ],
      "text/plain": [
       "  mkt_unique_carrier op_unique_carrier  distance  inbound_flights  \\\n",
       "0                 DL                9E     692.0                4   \n",
       "1                 DL                9E     692.0                3   \n",
       "2                 DL                9E     692.0               11   \n",
       "3                 DL                9E     692.0                7   \n",
       "4                 DL                9E     692.0                4   \n",
       "\n",
       "    weather_data  arr_flights  dep_flights  arr_month  arr_day_of_week  \\\n",
       "0           Rain            0            0          1                3   \n",
       "1            Fog            0           11          3                0   \n",
       "2  Precipitation            0            1          4                4   \n",
       "3           Rain            0            4         10                2   \n",
       "4            Fog            0            7         11                0   \n",
       "\n",
       "   arr_hour  dep_month  dep_day_of_week  dep_hour service_level_or  \\\n",
       "0        23          1                3        21          Primary   \n",
       "1        17          3                0        15          Primary   \n",
       "2        12          4                4        10          Primary   \n",
       "3        12         10                2        10          Primary   \n",
       "4        12         11                0        10          Primary   \n",
       "\n",
       "  hub_type_or ownership_status_or facility_use_or  area_or fss_on_airport_or  \\\n",
       "0       Large              PUBLIC          PUBLIC   4700.0                NO   \n",
       "1       Large              PUBLIC          PUBLIC   4700.0                NO   \n",
       "2       Large              PUBLIC          PUBLIC   4700.0                NO   \n",
       "3       Large              PUBLIC          PUBLIC   4700.0                NO   \n",
       "4       Large              PUBLIC          PUBLIC   4700.0                NO   \n",
       "\n",
       "   beacon_color_or  total_operations_annual_or service_level_des hub_type_des  \\\n",
       "0  Clear and Green                      525305           Primary      Non-Hub   \n",
       "1  Clear and Green                      525305           Primary      Non-Hub   \n",
       "2  Clear and Green                      525305           Primary      Non-Hub   \n",
       "3  Clear and Green                      525305           Primary      Non-Hub   \n",
       "4  Clear and Green                      525305           Primary      Non-Hub   \n",
       "\n",
       "  ownership_status_des facility_use_des  area_des fss_on_airport_des  \\\n",
       "0               PUBLIC           PUBLIC    2278.0                 NO   \n",
       "1               PUBLIC           PUBLIC    2278.0                 NO   \n",
       "2               PUBLIC           PUBLIC    2278.0                 NO   \n",
       "3               PUBLIC           PUBLIC    2278.0                 NO   \n",
       "4               PUBLIC           PUBLIC    2278.0                 NO   \n",
       "\n",
       "  beacon_color_des  total_operations_annual_des origin_state dest_state  \n",
       "0  Clear and Green                        87505           GA         PA  \n",
       "1  Clear and Green                        87505           GA         PA  \n",
       "2  Clear and Green                        87505           GA         PA  \n",
       "3  Clear and Green                        87505           GA         PA  \n",
       "4  Clear and Green                        87505           GA         PA  "
      ]
     },
     "execution_count": 10,
     "metadata": {},
     "output_type": "execute_result"
    }
   ],
   "source": [
    "X_dummy.head()"
   ]
  },
  {
   "cell_type": "markdown",
   "id": "676ba21a-b10a-45aa-abbc-9a42d3f2861c",
   "metadata": {},
   "source": [
    "X_dummy = pd.get_dummies(\n",
    "    data=X_dummy,columns=[\"mkt_unique_carrier\",\"op_unique_carrier\",\n",
    "                        \"hub_type_or\",\n",
    "                          \"hub_type_des\",\n",
    "                        \"facility_use_des\",\n",
    "                        \"origin_state\",\"dest_state\",'arr_type', 'arr_severity', 'dep_type', 'dep_severity',\n",
    "                          ])\n",
    "X_dummy=StandardScaler().fit_transform(X_dummy)\n",
    "X_dummy=np.asarray(X_dummy)"
   ]
  },
  {
   "cell_type": "code",
   "execution_count": 18,
   "id": "7d454ae7-4b13-4852-a6bb-70ffe1502185",
   "metadata": {},
   "outputs": [],
   "source": [
    "X_dummy = pd.get_dummies(\n",
    "    data=X_dummy,columns=[\"mkt_unique_carrier\",\"op_unique_carrier\",'arr_month','arr_day_of_week','arr_hour','dep_month','dep_day_of_week','dep_hour', \n",
    "                          'service_level_or','hub_type_or','fss_on_airport_or','service_level_des', \n",
    "                          'hub_type_des','fss_on_airport_des'  ,'origin_state','dest_state',\n",
    "                        \"weather_data\",'origin_state','dest_state'\n",
    "                          ])\n",
    "#X_dummy=StandardScaler().fit_transform(X_dummy)\n",
    "X_dummy= np.asarray(X_dummy)\n"
   ]
  },
  {
   "cell_type": "code",
   "execution_count": 19,
   "id": "7fe8a542-6e1d-46ab-ae62-866ca5cb52af",
   "metadata": {},
   "outputs": [],
   "source": [
    "#\"arr_month\",\"arr_day_of_week\",\"arr_hour\",\"dep_month\",\"dep_hour\",\"dep_day_of_week\""
   ]
  },
  {
   "cell_type": "code",
   "execution_count": 20,
   "id": "4863952e-dea9-4a63-b6fd-a3c1801d7a4a",
   "metadata": {},
   "outputs": [
    {
     "name": "stdout",
     "output_type": "stream",
     "text": [
      "-4.0739852329372965\n",
      "-7.0\n",
      "(80043,)\n",
      "(80043, 348)\n"
     ]
    }
   ],
   "source": [
    "print(np.mean(y))\n",
    "print(np.median(y))\n",
    "print(y.shape)\n",
    "print(X_dummy.shape)"
   ]
  },
  {
   "cell_type": "markdown",
   "id": "3bff35ad-0d1a-405b-a6a5-96207fd70b57",
   "metadata": {},
   "source": [
    "from sklearn.decomposition import PCA\n",
    "import plotly.express as px\n",
    "\n",
    "X = X_dummy\n",
    "\n",
    "pca = PCA(n_components=30)\n",
    "principalComponents = pca.fit_transform(X)\n",
    "print(principalComponents.shape)\n",
    "print(type(principalComponents.shape))\n",
    "principalComponents=np.asarray(principalComponents)\n",
    "X_dummy=principalComponents"
   ]
  },
  {
   "cell_type": "code",
   "execution_count": null,
   "id": "ffc1a10d-24eb-4969-8196-52cab4e07855",
   "metadata": {},
   "outputs": [],
   "source": []
  },
  {
   "cell_type": "markdown",
   "id": "7b93e177-d2c8-4b6e-89b8-0476d6d54722",
   "metadata": {},
   "source": [
    "## Modelling"
   ]
  },
  {
   "cell_type": "code",
   "execution_count": 21,
   "id": "20ba4f83-ad37-433b-b6e5-13257dbbe4f8",
   "metadata": {},
   "outputs": [],
   "source": [
    "from sklearn.model_selection import train_test_split,GridSearchCV\n",
    "from sklearn.preprocessing import StandardScaler\n",
    "\n",
    "from sklearn.linear_model import LogisticRegression\n",
    "from sklearn.metrics import r2_score,mean_absolute_error,mean_squared_error\n",
    "from sklearn.preprocessing import PolynomialFeatures\n",
    "from sklearn.pipeline import Pipeline\n",
    "from imblearn.over_sampling import RandomOverSampler\n",
    "from imblearn.over_sampling import SMOTE\n",
    "from sklearn.svm import SVC\n",
    "from sklearn.naive_bayes import GaussianNB\n",
    "from sklearn.neighbors import KNeighborsClassifier\n",
    "from sklearn.ensemble import RandomForestClassifier\n",
    "\n",
    "\n",
    "from sklearn.ensemble import RandomForestRegressor\n",
    "from sklearn.linear_model import ElasticNet\n",
    "from sklearn.linear_model import LinearRegression"
   ]
  },
  {
   "cell_type": "code",
   "execution_count": 22,
   "id": "525fca65-2127-484d-a1bd-c78cef498ea2",
   "metadata": {},
   "outputs": [],
   "source": [
    "X_train,X_test,y_train,y_test = train_test_split(X_dummy,y,train_size=0.7,random_state=0)"
   ]
  },
  {
   "cell_type": "code",
   "execution_count": 23,
   "id": "c3bcee98-7de8-4c1b-b8b1-0f51380a9352",
   "metadata": {},
   "outputs": [],
   "source": [
    "#clf = LinearRegression()\n",
    "\n",
    "#clf = RandomForestRegressor(max_depth=5, random_state=0)\n",
    "\n",
    "#clf = ElasticNet()\n"
   ]
  },
  {
   "cell_type": "code",
   "execution_count": 24,
   "id": "c2c431a3-b8af-4e2b-a54f-25f8a4dbb402",
   "metadata": {},
   "outputs": [],
   "source": [
    "clf =LinearRegression()\n",
    "clf.fit(X_train, y_train)\n",
    "y_pred=clf.predict(X_test)\n"
   ]
  },
  {
   "cell_type": "code",
   "execution_count": 25,
   "id": "8de97773-5c31-41fe-99e7-ebf3c6db80ef",
   "metadata": {},
   "outputs": [
    {
     "name": "stdout",
     "output_type": "stream",
     "text": [
      "<class 'numpy.ndarray'>\n",
      "<class 'numpy.ndarray'>\n"
     ]
    }
   ],
   "source": [
    "print(type(y_test))\n",
    "print(type(y_pred))"
   ]
  },
  {
   "cell_type": "code",
   "execution_count": 38,
   "id": "edc1ccea-3928-4503-905d-fa04564caf3b",
   "metadata": {},
   "outputs": [],
   "source": [
    "from sklearn.metrics import r2_score\n",
    "from sklearn.metrics import mean_absolute_error\n",
    "from sklearn.metrics import mean_squared_error\n",
    "\n",
    "r2_score = r2_score(y_test,y_pred)\n",
    "mean_absolute_error = mean_absolute_error(y_test,y_pred)\n",
    "mean_squared_error = mean_squared_error(y_test,y_pred)\n"
   ]
  },
  {
   "cell_type": "code",
   "execution_count": 39,
   "id": "da5a888c-727a-469e-8bfc-f7e31aa889e0",
   "metadata": {},
   "outputs": [
    {
     "name": "stdout",
     "output_type": "stream",
     "text": [
      "0.0700655191882611\n",
      "12.267945274579274\n",
      "244.49515726698488\n"
     ]
    }
   ],
   "source": [
    "print(r2_score)\n",
    "print(mean_absolute_error)\n",
    "print(mean_squared_error)\n"
   ]
  },
  {
   "cell_type": "code",
   "execution_count": null,
   "id": "03d3ea4e-da75-44de-acf6-ad41ec24755c",
   "metadata": {},
   "outputs": [],
   "source": []
  },
  {
   "cell_type": "code",
   "execution_count": 37,
   "id": "b4180ef9-2c09-4d38-b7a3-ec641e2ca63d",
   "metadata": {},
   "outputs": [],
   "source": [
    "import xgboost as xgb\n",
    "data_dmatrix = xgb.DMatrix(data=X_train,label=y_train)\n",
    "xg_reg = xgb.XGBRegressor(objective ='reg:squarederror', colsample_bytree = 0.3, learning_rate = 0.1,\n",
    "                max_depth = 5, alpha = 0.3, n_estimators = 1000)\n",
    "xg_reg.fit(X_train,y_train)\n",
    "y_pred = xg_reg.predict(X_test)"
   ]
  },
  {
   "cell_type": "code",
   "execution_count": null,
   "id": "46a3b07a-d111-4a79-85e1-b89cda77d7eb",
   "metadata": {},
   "outputs": [],
   "source": []
  },
  {
   "cell_type": "code",
   "execution_count": null,
   "id": "832fd9e2-196c-483e-a0ae-06ddeac14123",
   "metadata": {},
   "outputs": [],
   "source": []
  },
  {
   "cell_type": "code",
   "execution_count": 253,
   "id": "12d86a7f-2887-4434-85c5-03cf5d709e38",
   "metadata": {},
   "outputs": [],
   "source": [
    "from sklearn.ensemble import RandomForestRegressor"
   ]
  },
  {
   "cell_type": "code",
   "execution_count": 203,
   "id": "de316b0c-4065-4c49-95c0-2558614e3d5c",
   "metadata": {},
   "outputs": [],
   "source": [
    "from sklearn import metrics\n",
    "from sklearn.model_selection import GridSearchCV\n",
    "from sklearn.ensemble import GradientBoostingRegressor\n",
    "param_grid={\n",
    "    'alpha' :[0.1,0.3,0.5,0.7,1.0],\n",
    "    'max_depth': [1,3,5,7,10],\n",
    "    'n_estimators': [10,100,250,500,1000]\n",
    "    }\n",
    "params = {\n",
    "    # Parameters that we are going to tune.\n",
    "    'max_depth':6,\n",
    "    'min_child_weight': 1,\n",
    "    'eta':.3,\n",
    "    'subsample': 1,\n",
    "    'colsample_bytree': 1,\n",
    "    # Other parameters\n",
    "    'objective':'reg:squarederror',\n",
    "}"
   ]
  },
  {
   "cell_type": "code",
   "execution_count": 91,
   "id": "45441aab-dc53-4d9a-aa12-a04bef07a52d",
   "metadata": {},
   "outputs": [],
   "source": [
    "%%time\n",
    "\n",
    "xg = xgb.XGBRegressor()\n",
    "\n",
    "#scores = cross_val_score(best_xgb, X, y, scoring='r2', cv=kfold) \n",
    "#reg = RandomForestRegressor(n_estimators=100)\n",
    "#model = GridSearchCV(reg,param_grid={})\n",
    "#model.fit(X_train,y_train)\n",
    "\n",
    "\n",
    "\n",
    "\n",
    "\n",
    "grid_search=GridSearchCV(xg,param_grid=param_grid,cv=5,verbose=0, n_jobs=-1)\n",
    "grid_search.fit(X_train,y_train)\n",
    "# View the accuracy score\n",
    "print('Best score for data1:', grid_search.best_score_) \n",
    "print('Best n_estimators', grid_search.best_estimator_.n_estimators)\n",
    "print('Best max_depth', grid_search.best_estimator_.max_depth)"
   ]
  },
  {
   "cell_type": "code",
   "execution_count": null,
   "id": "824c14a6-26c3-407e-82db-d623b1516e4e",
   "metadata": {},
   "outputs": [],
   "source": []
  },
  {
   "cell_type": "code",
   "execution_count": null,
   "id": "0cfe8e68-ead4-4574-87f2-fe9f8695fb32",
   "metadata": {},
   "outputs": [],
   "source": []
  },
  {
   "cell_type": "code",
   "execution_count": 179,
   "id": "a1d29d71-ec06-4b69-bbc4-6e89ff478f20",
   "metadata": {},
   "outputs": [],
   "source": []
  },
  {
   "cell_type": "code",
   "execution_count": 254,
   "id": "e789de7e-f31b-42d3-9703-263277dd4a38",
   "metadata": {},
   "outputs": [],
   "source": []
  },
  {
   "cell_type": "code",
   "execution_count": null,
   "id": "b2202158-6e80-4da8-a37e-86858e080997",
   "metadata": {},
   "outputs": [],
   "source": []
  },
  {
   "cell_type": "code",
   "execution_count": null,
   "id": "51f5dcd6-bdcf-4def-aded-b05a0f2c0f97",
   "metadata": {},
   "outputs": [],
   "source": []
  },
  {
   "cell_type": "code",
   "execution_count": null,
   "id": "e292d2ae-005d-4c49-b6be-050e18f88caa",
   "metadata": {},
   "outputs": [],
   "source": []
  },
  {
   "cell_type": "code",
   "execution_count": null,
   "id": "4faa01bf-6d5d-4ba2-9ce7-bc057bcab228",
   "metadata": {},
   "outputs": [],
   "source": []
  },
  {
   "cell_type": "code",
   "execution_count": null,
   "id": "2b1de38c-9fef-43b6-b633-a41965bc1e89",
   "metadata": {},
   "outputs": [],
   "source": []
  },
  {
   "cell_type": "code",
   "execution_count": 184,
   "id": "20cc8414-f91e-442a-a265-7f72e263ed7f",
   "metadata": {},
   "outputs": [],
   "source": []
  },
  {
   "cell_type": "code",
   "execution_count": null,
   "id": "3ed5935f-2f34-45d8-acaf-6fb2ed6b758e",
   "metadata": {},
   "outputs": [],
   "source": [
    "\n",
    "\n",
    "\n"
   ]
  },
  {
   "cell_type": "code",
   "execution_count": null,
   "id": "29adc88b-9364-458c-975f-e687b4f2539a",
   "metadata": {},
   "outputs": [],
   "source": []
  },
  {
   "cell_type": "code",
   "execution_count": null,
   "id": "4d7a1acd-95e6-4ea3-90e9-b50a66086f6f",
   "metadata": {},
   "outputs": [],
   "source": []
  },
  {
   "cell_type": "code",
   "execution_count": null,
   "id": "8da8eb57-4d13-4f65-9416-7f66af811e26",
   "metadata": {},
   "outputs": [],
   "source": [
    " "
   ]
  },
  {
   "cell_type": "code",
   "execution_count": null,
   "id": "f22e0485-9e5d-479e-b8cd-a743e60bc237",
   "metadata": {},
   "outputs": [],
   "source": []
  },
  {
   "cell_type": "code",
   "execution_count": null,
   "id": "500ee848-26b8-433a-b47b-d8fe12278752",
   "metadata": {},
   "outputs": [],
   "source": []
  },
  {
   "cell_type": "code",
   "execution_count": 231,
   "id": "896d9a69-94b9-4bab-860e-925e327559da",
   "metadata": {},
   "outputs": [],
   "source": []
  },
  {
   "cell_type": "code",
   "execution_count": 278,
   "id": "24ed4c9a-586b-4c40-8b94-4b697fa311cb",
   "metadata": {},
   "outputs": [],
   "source": [
    "\n",
    "\n"
   ]
  },
  {
   "cell_type": "code",
   "execution_count": null,
   "id": "632c71d7-b342-474d-a86b-76591e637ee4",
   "metadata": {},
   "outputs": [],
   "source": []
  },
  {
   "cell_type": "code",
   "execution_count": 41,
   "id": "80b8973f-c3c6-4773-a63f-d01df6144d17",
   "metadata": {},
   "outputs": [],
   "source": []
  },
  {
   "cell_type": "code",
   "execution_count": 46,
   "id": "f2e81b2a-96ed-4d61-bf9d-c696c42fa438",
   "metadata": {},
   "outputs": [],
   "source": []
  },
  {
   "cell_type": "code",
   "execution_count": 97,
   "id": "952ee375-00fa-4c5f-8774-d862cd100920",
   "metadata": {},
   "outputs": [],
   "source": []
  },
  {
   "cell_type": "code",
   "execution_count": null,
   "id": "405f47ac-96c3-4d8b-8e58-af7da02df38a",
   "metadata": {},
   "outputs": [],
   "source": []
  },
  {
   "cell_type": "code",
   "execution_count": null,
   "id": "7c459aa5-da86-4994-b1b8-0f20f40ab87d",
   "metadata": {},
   "outputs": [],
   "source": []
  },
  {
   "cell_type": "markdown",
   "id": "b8c5a816-932d-4d06-aac5-d1b2bdf9ea51",
   "metadata": {},
   "source": []
  },
  {
   "cell_type": "code",
   "execution_count": null,
   "id": "76766534-1b41-4fd8-b2b0-eda3e932a988",
   "metadata": {},
   "outputs": [],
   "source": []
  },
  {
   "cell_type": "code",
   "execution_count": null,
   "id": "37d5cf5d-0b0f-4320-ba2e-952afbe45a5d",
   "metadata": {},
   "outputs": [],
   "source": []
  },
  {
   "cell_type": "code",
   "execution_count": null,
   "id": "9dea04fc-03c0-4233-bd5b-112d04e6aadf",
   "metadata": {},
   "outputs": [],
   "source": []
  }
 ],
 "metadata": {
  "kernelspec": {
   "display_name": "Python 3 (ipykernel)",
   "language": "python",
   "name": "python3"
  },
  "language_info": {
   "codemirror_mode": {
    "name": "ipython",
    "version": 3
   },
   "file_extension": ".py",
   "mimetype": "text/x-python",
   "name": "python",
   "nbconvert_exporter": "python",
   "pygments_lexer": "ipython3",
   "version": "3.9.6"
  }
 },
 "nbformat": 4,
 "nbformat_minor": 5
}
