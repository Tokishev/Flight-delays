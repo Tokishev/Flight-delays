{
 "cells": [
  {
   "cell_type": "code",
   "execution_count": 1,
   "id": "fcdcfab2-45e6-4529-84e0-8e73638b707e",
   "metadata": {},
   "outputs": [],
   "source": [
    "from selenium import webdriver\n",
    "from selenium.webdriver.common.by import By\n",
    "from selenium.webdriver.common.keys import Keys\n",
    "from selenium.webdriver.support.ui import WebDriverWait\n",
    "from selenium.webdriver.support.expected_conditions import presence_of_element_located\n",
    "from selenium.webdriver.support import expected_conditions as EC\n",
    "from selenium.common.exceptions import NoSuchElementException\n",
    "\n",
    "\n",
    "import pandas as pd\n",
    "import numpy as np"
   ]
  },
  {
   "cell_type": "code",
   "execution_count": 2,
   "id": "7948afca-4f2f-4a5f-bd29-69b66653a115",
   "metadata": {},
   "outputs": [],
   "source": [
    "flights_fe = pd.read_csv(r\"work_on_this.csv\")"
   ]
  },
  {
   "cell_type": "code",
   "execution_count": null,
   "id": "0418cddf-d439-47fc-aabc-1e6cc44aa369",
   "metadata": {},
   "outputs": [],
   "source": []
  },
  {
   "cell_type": "code",
   "execution_count": 3,
   "id": "7aa4c5ad-81c3-417d-9144-9d86094838b2",
   "metadata": {},
   "outputs": [],
   "source": [
    "airport_codes = flights_fe.origin.unique()\n",
    "airports_not_avilable_in_faa = ['FCA', 'ISN', 'SCE', 'BKG', 'AZA', 'USA', 'MQT', 'YUM', 'SPN', 'HHH']\n",
    "\n",
    "new_airport_codes = set(airport_codes).difference(airports_not_avilable_in_faa)"
   ]
  },
  {
   "cell_type": "code",
   "execution_count": 4,
   "id": "f81e2e6b-b152-4fb4-9c16-c6762d5bacdf",
   "metadata": {},
   "outputs": [],
   "source": [
    "css_selectors = [\"body > main:nth-child(2) > div:nth-child(1) > div:nth-child(1) > div:nth-child(3) > div:nth-child(1) > airport-details:nth-child(1) > div:nth-child(4) > div:nth-child(1) > div:nth-child(1) > div:nth-child(2) > div:nth-child(1) > div:nth-child(1) > div:nth-child(2)\",\n",
    "                 \"div[ng-if='airportDetailData.npiasNumber'] div[class='col-md-8 ng-binding']\",\n",
    "                \"div[ng-if='airportDetailData.serviceLevel'] div[class='col-md-8 ng-binding']\",\n",
    "                \"div[ng-if='airportDetailData.hubType'] div[class='col-md-8 ng-binding']\",\n",
    "                \"div[ng-if='airportDetailData.status'] div[class='col-md-8 ng-binding']\",\n",
    "                \"span[ng-bind='ddToDms(airportDetailData.arpLatitude, true, false)']\",\n",
    "                 \"span[ng-bind='ddToDms(airportDetailData.arpLongitude, true, true)']\",\n",
    "                \"body > main:nth-child(2) > div:nth-child(1) > div:nth-child(1) > div:nth-child(3) > div:nth-child(1) > airport-details:nth-child(1) > div:nth-child(4) > div:nth-child(1) > div:nth-child(1) > div:nth-child(2) > div:nth-child(1) > div:nth-child(7) > div:nth-child(2)\",\n",
    "                \"div[class='card mb-2 ng-scope'] div[class='row'] div:nth-child(1) div:nth-child(8) div:nth-child(2)\",\n",
    "                \"p[class='m-0 ng-binding']\",\n",
    "                 \"div[ng-if='airportDetailData.magneticVariation'] div[class='col-md-8 ng-binding']\",\n",
    "                 \"div[class='card-body py-3'] div:nth-child(1) div:nth-child(11) div:nth-child(2)\",\n",
    "                \"div[ng-if='airportDetailData.ownershipType'] div[class='col-md-8 ng-binding']\",\n",
    "                \"div[ng-if='airportDetailData.facilityUse'] div[class='col-md-8 ng-binding']\",\n",
    "                 \"div[ng-if='airportDetailData.areaInAcres'] div[class='col-md-8 ng-binding']\",\n",
    "                \"div[ng-if='airportDetailData.tieInFssFlag'] div[class='col-md-8 ng-binding']\",\n",
    "                \"div[ng-if='airportDetailData.beaconLensColor'] div[class='col-md-8 ng-binding']\",\n",
    "                \"body > main:nth-child(2) > div:nth-child(1) > div:nth-child(1) > div:nth-child(3) > div:nth-child(1) > airport-details:nth-child(1) > div:nth-child(4) > div:nth-child(2) > div:nth-child(2) > div:nth-child(1) > div:nth-child(2) > div:nth-child(1) > div:nth-child(2)\",\n",
    "                \"body > main:nth-child(2) > div:nth-child(1) > div:nth-child(1) > div:nth-child(3) > div:nth-child(1) > airport-details:nth-child(1) > div:nth-child(4) > div:nth-child(2) > div:nth-child(2) > div:nth-child(1) > div:nth-child(2) > div:nth-child(6) > div:nth-child(2)\",\n",
    "                \"body > main:nth-child(2) > div:nth-child(1) > div:nth-child(1) > div:nth-child(3) > div:nth-child(1) > airport-details:nth-child(1) > div:nth-child(4) > div:nth-child(2) > div:nth-child(2) > div:nth-child(1) > div:nth-child(2) > div:nth-child(7) > div:nth-child(2)\"]"
   ]
  },
  {
   "cell_type": "code",
   "execution_count": 5,
   "id": "ce927ad0-da4e-482d-be44-9d98c35dd5a8",
   "metadata": {},
   "outputs": [],
   "source": [
    "variables = [\"site_id\",\"npias_no\",\"service_level\",\"hub_type\",\"airport_status\",\"lat\",\"lon\",\"city\",\"county\",\"elevation\",\n",
    "             \"variation\",\"last_inspection_date\",\n",
    "             \"ownership_status\",\"facility_use\",\"area\",\"fss_on_airport\",\"beacon_color\",\"air_carrier_annual\",\n",
    "            \"total_operations_annual\",\"operations_annual_ending\"]"
   ]
  },
  {
   "cell_type": "code",
   "execution_count": 6,
   "id": "aa67f66d-0dd6-42ac-939c-3fe7491641e6",
   "metadata": {
    "tags": []
   },
   "outputs": [
    {
     "name": "stdout",
     "output_type": "stream",
     "text": [
      "GRK : Message: no such element: Unable to locate element: {\"method\":\"css selector\",\"selector\":\"div[ng-if='airportDetailData.areaInAcres'] div[class='col-md-8 ng-binding']\"}\n",
      "  (Session info: chrome=92.0.4515.107)\n",
      "\n",
      "OME : Message: no such element: Unable to locate element: {\"method\":\"css selector\",\"selector\":\"div[ng-if='airportDetailData.areaInAcres'] div[class='col-md-8 ng-binding']\"}\n",
      "  (Session info: chrome=92.0.4515.107)\n",
      "\n",
      "YAK : Message: no such element: Unable to locate element: {\"method\":\"css selector\",\"selector\":\"div[ng-if='airportDetailData.areaInAcres'] div[class='col-md-8 ng-binding']\"}\n",
      "  (Session info: chrome=92.0.4515.107)\n",
      "\n",
      "BRW : Message: no such element: Unable to locate element: {\"method\":\"css selector\",\"selector\":\"div[ng-if='airportDetailData.areaInAcres'] div[class='col-md-8 ng-binding']\"}\n",
      "  (Session info: chrome=92.0.4515.107)\n",
      "\n",
      "ADK : Message: no such element: Unable to locate element: {\"method\":\"css selector\",\"selector\":\"div[ng-if='airportDetailData.areaInAcres'] div[class='col-md-8 ng-binding']\"}\n",
      "  (Session info: chrome=92.0.4515.107)\n",
      "\n",
      "PSG : Message: no such element: Unable to locate element: {\"method\":\"css selector\",\"selector\":\"div[ng-if='airportDetailData.areaInAcres'] div[class='col-md-8 ng-binding']\"}\n",
      "  (Session info: chrome=92.0.4515.107)\n",
      "\n",
      "DUT : Message: no such element: Unable to locate element: {\"method\":\"css selector\",\"selector\":\"div[ng-if='airportDetailData.areaInAcres'] div[class='col-md-8 ng-binding']\"}\n",
      "  (Session info: chrome=92.0.4515.107)\n",
      "\n",
      "ADQ : Message: no such element: Unable to locate element: {\"method\":\"css selector\",\"selector\":\"div[ng-if='airportDetailData.areaInAcres'] div[class='col-md-8 ng-binding']\"}\n",
      "  (Session info: chrome=92.0.4515.107)\n",
      "\n",
      "JHM : Message: no such element: Unable to locate element: {\"method\":\"css selector\",\"selector\":\"div[ng-if='airportDetailData.beaconLensColor'] div[class='col-md-8 ng-binding']\"}\n",
      "  (Session info: chrome=92.0.4515.107)\n",
      "\n",
      "SIT : Message: no such element: Unable to locate element: {\"method\":\"css selector\",\"selector\":\"div[ng-if='airportDetailData.areaInAcres'] div[class='col-md-8 ng-binding']\"}\n",
      "  (Session info: chrome=92.0.4515.107)\n",
      "\n",
      "WRG : Message: no such element: Unable to locate element: {\"method\":\"css selector\",\"selector\":\"div[ng-if='airportDetailData.areaInAcres'] div[class='col-md-8 ng-binding']\"}\n",
      "  (Session info: chrome=92.0.4515.107)\n",
      "\n"
     ]
    }
   ],
   "source": [
    "#This example requires Selenium WebDriver 3.13 or newer\n",
    "with webdriver.Chrome() as driver:\n",
    "    new_airport_details = []\n",
    "    for airport_code in new_airport_codes:\n",
    "        url = f\"https://adip.faa.gov/agis/public/#/airportData/{airport_code}\"\n",
    "        driver.implicitly_wait(10) # seconds\n",
    "        driver.get(url)\n",
    "        results = []\n",
    "        for selector in css_selectors:\n",
    "            try:\n",
    "                result = driver.find_element_by_css_selector(selector)\n",
    "                results.append(result.text)\n",
    "            except NoSuchElementException as exc:\n",
    "                print(f\"{airport_code} : {exc}\")\n",
    "                result = \"\"\n",
    "                results.append(result)\n",
    "        details = dict(zip(variables,results))\n",
    "        details[\"airport_code\"] = airport_code\n",
    "        new_airport_details.append(details)"
   ]
  },
  {
   "cell_type": "code",
   "execution_count": 7,
   "id": "817fc902-1dbd-4107-b631-01da80d01294",
   "metadata": {},
   "outputs": [],
   "source": [
    "data = pd.DataFrame(new_airport_details)"
   ]
  },
  {
   "cell_type": "code",
   "execution_count": 9,
   "id": "a3932726-3bae-4ffd-ad28-96642799399a",
   "metadata": {},
   "outputs": [],
   "source": [
    "data.elevation = data.elevation.map(lambda x: x.rstrip(\"ft. \"))\n",
    "data.area = data.area.map(lambda x: x.rstrip(\"ac.\"))\n",
    "data.air_carrier_annual = data.air_carrier_annual.map(lambda x: x.replace(',',''))\n",
    "data.total_operations_annual = data.total_operations_annual.map(lambda x: x.replace(',',''))"
   ]
  },
  {
   "cell_type": "code",
   "execution_count": 13,
   "id": "47548802-96f2-49a1-b133-297b6f4ef2f6",
   "metadata": {},
   "outputs": [],
   "source": [
    "data.to_csv(r\"../data/faa_airport_details.csv\",index=False)"
   ]
  },
  {
   "cell_type": "code",
   "execution_count": null,
   "id": "ec078245-44f4-4474-830c-45f90d33bbd2",
   "metadata": {},
   "outputs": [],
   "source": []
  }
 ],
 "metadata": {
  "kernelspec": {
   "display_name": "geo_env",
   "language": "python",
   "name": "geo_env"
  },
  "language_info": {
   "codemirror_mode": {
    "name": "ipython",
    "version": 3
   },
   "file_extension": ".py",
   "mimetype": "text/x-python",
   "name": "python",
   "nbconvert_exporter": "python",
   "pygments_lexer": "ipython3",
   "version": "3.9.6"
  }
 },
 "nbformat": 4,
 "nbformat_minor": 5
}
