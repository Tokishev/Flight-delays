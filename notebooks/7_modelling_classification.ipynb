{
 "cells": [
  {
   "cell_type": "code",
   "execution_count": 98,
   "id": "af2ce315-683b-4bc5-b53e-547d1abc69c2",
   "metadata": {},
   "outputs": [],
   "source": [
    "import pandas as pd\n",
    "import numpy as np\n",
    "from datetime import datetime,timedelta\n",
    "import seaborn as sns\n",
    "from sklearn.preprocessing import StandardScaler"
   ]
  },
  {
   "cell_type": "code",
   "execution_count": 27,
   "id": "5330a11b-fe51-4d2e-871f-59ef7e574982",
   "metadata": {},
   "outputs": [],
   "source": [
    "sns.heatmap(data.corr())"
   ]
  },
  {
   "cell_type": "markdown",
   "id": "9f117d68-b58b-4894-9132-47ed27c862be",
   "metadata": {},
   "source": [
    "## Prepro"
   ]
  },
  {
   "cell_type": "code",
   "execution_count": 331,
   "id": "e4debeee-fc66-4032-96eb-5d70dc7ee18c",
   "metadata": {},
   "outputs": [
    {
     "name": "stdout",
     "output_type": "stream",
     "text": [
      "(150643, 89)\n"
     ]
    }
   ],
   "source": [
    "#df = pd.read_csv(\"train_data_Akhmet_v2.csv\")\n",
    "df = pd.read_csv(\"2_percent.csv\")\n",
    "print(df.shape)"
   ]
  },
  {
   "cell_type": "code",
   "execution_count": 314,
   "id": "677b9440-60ca-4e4f-93e9-672b1037ff59",
   "metadata": {},
   "outputs": [
    {
     "data": {
      "text/plain": [
       "0.0    147883\n",
       "1.0      2760\n",
       "Name: cancelled, dtype: int64"
      ]
     },
     "execution_count": 314,
     "metadata": {},
     "output_type": "execute_result"
    }
   ],
   "source": [
    "df['cancelled'].value_counts()"
   ]
  },
  {
   "cell_type": "code",
   "execution_count": 315,
   "id": "9243c590-87d8-4edc-9527-2074caf9a423",
   "metadata": {},
   "outputs": [
    {
     "name": "stdout",
     "output_type": "stream",
     "text": [
      "(150643, 89)\n"
     ]
    }
   ],
   "source": [
    "#dfx = pd.read_csv(\"2_percent.csv\")\n",
    "#print(dfx.shape)"
   ]
  },
  {
   "cell_type": "code",
   "execution_count": 303,
   "id": "b378e998-8cc0-42d5-b087-3c95a5f2c23c",
   "metadata": {},
   "outputs": [
    {
     "data": {
      "text/plain": [
       "0.0    147883\n",
       "1.0      2760\n",
       "Name: cancelled, dtype: int64"
      ]
     },
     "execution_count": 303,
     "metadata": {},
     "output_type": "execute_result"
    }
   ],
   "source": [
    "dfx['cancelled'].value_counts()"
   ]
  },
  {
   "cell_type": "code",
   "execution_count": null,
   "id": "63a7c82e-5070-4b93-b310-15a50229d831",
   "metadata": {},
   "outputs": [],
   "source": []
  },
  {
   "cell_type": "code",
   "execution_count": null,
   "id": "cf579a00-324d-437e-930a-d34a3e97f106",
   "metadata": {},
   "outputs": [],
   "source": []
  },
  {
   "cell_type": "code",
   "execution_count": 332,
   "id": "f5dadbf4-d8a1-4834-899a-5153e67412dd",
   "metadata": {},
   "outputs": [
    {
     "name": "stdout",
     "output_type": "stream",
     "text": [
      "(150643, 35)\n",
      "mkt_unique_carrier                  0\n",
      "op_unique_carrier                   0\n",
      "op_carrier_fl_num                   0\n",
      "arr_delay                        3155\n",
      "crs_elapsed_time                    0\n",
      "distance                            0\n",
      "inbound_flights                     0\n",
      "arr_month                           0\n",
      "arr_day_of_week                     0\n",
      "arr_hour                            0\n",
      "dep_month                           0\n",
      "dep_day_of_week                     0\n",
      "dep_hour                            0\n",
      "hub_type_or                        48\n",
      "area_or                           182\n",
      "total_operations_annual_or          0\n",
      "hub_type_des                       34\n",
      "facility_use_des                    0\n",
      "area_des                          174\n",
      "total_operations_annual_des         0\n",
      "origin_state                        0\n",
      "dest_state                          0\n",
      "cancelled                           0\n",
      "nas_delay                      122423\n",
      "security_delay                 122423\n",
      "weather_delay                  122423\n",
      "carrier_delay                  122423\n",
      "late_aircraft_delay            122423\n",
      "num_runways_des                     0\n",
      "avg_runway_length_des               0\n",
      "avg_runway_width_des                0\n",
      "arr_type                         4150\n",
      "arr_severity                     4150\n",
      "dep_type                         4222\n",
      "dep_severity                     4222\n",
      "dtype: int64\n"
     ]
    }
   ],
   "source": [
    "df=df[['mkt_unique_carrier', 'op_unique_carrier',\n",
    "       'op_carrier_fl_num', 'arr_delay', 'crs_elapsed_time', 'distance',\n",
    "       'inbound_flights', 'arr_month', 'arr_day_of_week',\n",
    "       'arr_hour', 'dep_month', 'dep_day_of_week', 'dep_hour', 'hub_type_or',\n",
    "       'area_or', 'total_operations_annual_or', 'hub_type_des',\n",
    "       'facility_use_des', 'area_des', 'total_operations_annual_des',\n",
    "       'origin_state', 'dest_state', 'cancelled', 'nas_delay',\n",
    "       'security_delay', 'weather_delay', 'carrier_delay',\n",
    "       'late_aircraft_delay','num_runways_des',\n",
    "       'avg_runway_length_des', 'avg_runway_width_des','arr_type', 'arr_severity', 'dep_type', 'dep_severity']]\n",
    "print(df.shape)\n",
    "print(df.isnull().sum())"
   ]
  },
  {
   "cell_type": "code",
   "execution_count": 333,
   "id": "27ae8a8a-aec1-4c83-b010-1ba23071b6ec",
   "metadata": {},
   "outputs": [],
   "source": [
    "df.drop(columns=['nas_delay',\n",
    "       'security_delay', 'weather_delay', 'carrier_delay',\n",
    "       'late_aircraft_delay'],inplace=True)"
   ]
  },
  {
   "cell_type": "code",
   "execution_count": 334,
   "id": "62c5339d-1a53-4cec-aa70-61177af4133f",
   "metadata": {},
   "outputs": [],
   "source": [
    "#df=df.drop(columns=['arr_month', 'arr_day_of_week',\n",
    "       #'arr_hour', 'dep_month', 'dep_day_of_week', 'dep_hour'])"
   ]
  },
  {
   "cell_type": "code",
   "execution_count": 340,
   "id": "5c6caf7b-2cfb-4de1-ac1b-55614686bae2",
   "metadata": {},
   "outputs": [
    {
     "name": "stdout",
     "output_type": "stream",
     "text": [
      "(150643, 30)\n"
     ]
    }
   ],
   "source": [
    "#df.dropna(inplace=True)\n",
    "df.fillna(0,inplace=True)\n",
    "print(df.shape)"
   ]
  },
  {
   "cell_type": "code",
   "execution_count": 341,
   "id": "21bc7399-6412-43f7-965e-1129e3baf93a",
   "metadata": {},
   "outputs": [
    {
     "name": "stdout",
     "output_type": "stream",
     "text": [
      "mkt_unique_carrier             0\n",
      "op_unique_carrier              0\n",
      "op_carrier_fl_num              0\n",
      "arr_delay                      0\n",
      "crs_elapsed_time               0\n",
      "distance                       0\n",
      "inbound_flights                0\n",
      "arr_month                      0\n",
      "arr_day_of_week                0\n",
      "arr_hour                       0\n",
      "dep_month                      0\n",
      "dep_day_of_week                0\n",
      "dep_hour                       0\n",
      "hub_type_or                    0\n",
      "area_or                        0\n",
      "total_operations_annual_or     0\n",
      "hub_type_des                   0\n",
      "facility_use_des               0\n",
      "area_des                       0\n",
      "total_operations_annual_des    0\n",
      "origin_state                   0\n",
      "dest_state                     0\n",
      "cancelled                      0\n",
      "num_runways_des                0\n",
      "avg_runway_length_des          0\n",
      "avg_runway_width_des           0\n",
      "arr_type                       0\n",
      "arr_severity                   0\n",
      "dep_type                       0\n",
      "dep_severity                   0\n",
      "dtype: int64\n"
     ]
    }
   ],
   "source": [
    "print(df.isnull().sum())"
   ]
  },
  {
   "cell_type": "code",
   "execution_count": null,
   "id": "a3408f48-29fd-44cd-8e07-19c095be3701",
   "metadata": {},
   "outputs": [],
   "source": []
  },
  {
   "cell_type": "code",
   "execution_count": 342,
   "id": "9dd7da03-f0f6-46a9-ab39-5f6dbf0dd613",
   "metadata": {},
   "outputs": [],
   "source": [
    "X,y= df.drop(columns=['cancelled',\"arr_delay\"]),df[['cancelled']]\n",
    "\n",
    "X_dummy = X.drop(columns=[\"op_carrier_fl_num\",\"crs_elapsed_time\",])"
   ]
  },
  {
   "cell_type": "code",
   "execution_count": 343,
   "id": "d49fdfb7-3564-49f0-a5cf-f43346dcaedb",
   "metadata": {},
   "outputs": [
    {
     "data": {
      "text/plain": [
       "Index(['mkt_unique_carrier', 'op_unique_carrier', 'op_carrier_fl_num',\n",
       "       'crs_elapsed_time', 'distance', 'inbound_flights', 'arr_month',\n",
       "       'arr_day_of_week', 'arr_hour', 'dep_month', 'dep_day_of_week',\n",
       "       'dep_hour', 'hub_type_or', 'area_or', 'total_operations_annual_or',\n",
       "       'hub_type_des', 'facility_use_des', 'area_des',\n",
       "       'total_operations_annual_des', 'origin_state', 'dest_state',\n",
       "       'num_runways_des', 'avg_runway_length_des', 'avg_runway_width_des',\n",
       "       'arr_type', 'arr_severity', 'dep_type', 'dep_severity'],\n",
       "      dtype='object')"
      ]
     },
     "execution_count": 343,
     "metadata": {},
     "output_type": "execute_result"
    }
   ],
   "source": [
    "X.columns"
   ]
  },
  {
   "cell_type": "code",
   "execution_count": 344,
   "id": "5b93d510-0346-4d45-b228-f4b1dd3ea28e",
   "metadata": {},
   "outputs": [
    {
     "data": {
      "text/plain": [
       "0.0    147883\n",
       "1.0      2760\n",
       "Name: cancelled, dtype: int64"
      ]
     },
     "execution_count": 344,
     "metadata": {},
     "output_type": "execute_result"
    }
   ],
   "source": [
    "y['cancelled'].value_counts()\n",
    "#ya= df[['nas_delay',\n",
    "      # 'security_delay', 'weather_delay', 'carrier_delay',\n",
    "       #'late_aircraft_delay']]\n",
    "#yb= df['cancelled']\n",
    "#ya=ya.fillna(0)"
   ]
  },
  {
   "cell_type": "code",
   "execution_count": null,
   "id": "7d454ae7-4b13-4852-a6bb-70ffe1502185",
   "metadata": {},
   "outputs": [],
   "source": []
  },
  {
   "cell_type": "code",
   "execution_count": 208,
   "id": "7fe8a542-6e1d-46ab-ae62-866ca5cb52af",
   "metadata": {},
   "outputs": [
    {
     "name": "stderr",
     "output_type": "stream",
     "text": [
      "<ipython-input-208-d6f83c156f4d>:1: SettingWithCopyWarning: \n",
      "A value is trying to be set on a copy of a slice from a DataFrame.\n",
      "Try using .loc[row_indexer,col_indexer] = value instead\n",
      "\n",
      "See the caveats in the documentation: https://pandas.pydata.org/pandas-docs/stable/user_guide/indexing.html#returning-a-view-versus-a-copy\n",
      "  y['type']=y.apply(lambda x: x.idxmax(),axis=1)\n"
     ]
    }
   ],
   "source": [
    "y['type']=y.apply(lambda x: x.idxmax(),axis=1)"
   ]
  },
  {
   "cell_type": "code",
   "execution_count": 209,
   "id": "4863952e-dea9-4a63-b6fd-a3c1801d7a4a",
   "metadata": {},
   "outputs": [
    {
     "name": "stderr",
     "output_type": "stream",
     "text": [
      "C:\\Users\\tokis\\anaconda3\\lib\\site-packages\\pandas\\core\\generic.py:6746: SettingWithCopyWarning: \n",
      "A value is trying to be set on a copy of a slice from a DataFrame\n",
      "\n",
      "See the caveats in the documentation: https://pandas.pydata.org/pandas-docs/stable/user_guide/indexing.html#returning-a-view-versus-a-copy\n",
      "  self._update_inplace(new_data)\n"
     ]
    }
   ],
   "source": [
    "y['type'].replace({\"nas_delay\": 0, \"security_delay\": 1,\"weather_delay\": 2,\"carrier_delay\": 3,\"late_aircraft_delay\": 4}, inplace=True)"
   ]
  },
  {
   "cell_type": "code",
   "execution_count": 324,
   "id": "ce53129e-8669-442c-802c-fa2f6488e133",
   "metadata": {},
   "outputs": [],
   "source": []
  },
  {
   "cell_type": "code",
   "execution_count": null,
   "id": "40e7e26b-83d7-4e61-9d33-c4b540d11dc0",
   "metadata": {},
   "outputs": [],
   "source": []
  },
  {
   "cell_type": "code",
   "execution_count": 346,
   "id": "a0ef3ed2-6a71-4c56-a7cc-fdea8b31f402",
   "metadata": {},
   "outputs": [
    {
     "name": "stdout",
     "output_type": "stream",
     "text": [
      "(150643,)\n",
      "(150643, 28)\n",
      "(150643, 26)\n"
     ]
    }
   ],
   "source": [
    "#y=np.asarray(y['type'])\n",
    "y=np.asarray(y['cancelled'])\n",
    "print(y.shape)\n",
    "print(X.shape)\n",
    "print(X_dummy.shape)"
   ]
  },
  {
   "cell_type": "code",
   "execution_count": 347,
   "id": "a8db7534-0506-46d3-a79c-4b28f9b3d459",
   "metadata": {},
   "outputs": [],
   "source": [
    "X_dummy = pd.get_dummies(\n",
    "    data=X_dummy,columns=[\"mkt_unique_carrier\",\"op_unique_carrier\",\n",
    "                        \"hub_type_or\",\n",
    "                          \"hub_type_des\",\n",
    "                        \"facility_use_des\",\n",
    "                        \"origin_state\",\"dest_state\",'arr_type', 'arr_severity', 'dep_type', 'dep_severity',\n",
    "                          ])\n",
    "X_dummy=StandardScaler().fit_transform(X_dummy)\n",
    "X_dummy=np.asarray(X_dummy)\n"
   ]
  },
  {
   "cell_type": "code",
   "execution_count": 348,
   "id": "5dd103ca-2192-4073-ae71-5b555b2b40f9",
   "metadata": {},
   "outputs": [],
   "source": [
    "#\"arr_month\",\"arr_day_of_week\",\"arr_hour\",\"dep_month\",\"dep_hour\",\"dep_day_of_week\""
   ]
  },
  {
   "cell_type": "code",
   "execution_count": 349,
   "id": "fcfd5f4c-6ad7-4d5b-a529-5e40bf81e690",
   "metadata": {},
   "outputs": [
    {
     "name": "stdout",
     "output_type": "stream",
     "text": [
      "0.01832146199956188\n",
      "0.0\n"
     ]
    }
   ],
   "source": [
    "print(np.mean(y))\n",
    "print(np.median(y))"
   ]
  },
  {
   "cell_type": "code",
   "execution_count": 350,
   "id": "94901a78-c37b-40fb-8f94-3ce8c61e12b7",
   "metadata": {},
   "outputs": [
    {
     "name": "stdout",
     "output_type": "stream",
     "text": [
      "(150643,)\n",
      "(150643, 199)\n"
     ]
    }
   ],
   "source": [
    "print(y.shape)\n",
    "print(X_dummy.shape)"
   ]
  },
  {
   "cell_type": "code",
   "execution_count": 330,
   "id": "f993283e-7372-4ab7-b2cf-4ee9ebc708e4",
   "metadata": {},
   "outputs": [
    {
     "ename": "AttributeError",
     "evalue": "'numpy.ndarray' object has no attribute 'isnull'",
     "output_type": "error",
     "traceback": [
      "\u001b[1;31m---------------------------------------------------------------------------\u001b[0m",
      "\u001b[1;31mAttributeError\u001b[0m                            Traceback (most recent call last)",
      "\u001b[1;32m<ipython-input-330-4d0f16b9c6b6>\u001b[0m in \u001b[0;36m<module>\u001b[1;34m\u001b[0m\n\u001b[1;32m----> 1\u001b[1;33m \u001b[0mX_dummy\u001b[0m\u001b[1;33m.\u001b[0m\u001b[0misnull\u001b[0m\u001b[1;33m(\u001b[0m\u001b[1;33m)\u001b[0m\u001b[1;33m.\u001b[0m\u001b[0msum\u001b[0m\u001b[1;33m(\u001b[0m\u001b[1;33m)\u001b[0m\u001b[1;33m\u001b[0m\u001b[1;33m\u001b[0m\u001b[0m\n\u001b[0m",
      "\u001b[1;31mAttributeError\u001b[0m: 'numpy.ndarray' object has no attribute 'isnull'"
     ]
    }
   ],
   "source": []
  },
  {
   "cell_type": "markdown",
   "id": "8c29032c-475d-4b36-a88e-abdd30798418",
   "metadata": {},
   "source": [
    "from sklearn.decomposition import PCA\n",
    "import plotly.express as px\n",
    "\n",
    "X = X_dummy\n",
    "\n",
    "pca = PCA(n_components=10)\n",
    "principalComponents = pca.fit_transform(X)\n",
    "print(principalComponents.shape)\n",
    "print(type(principalComponents.shape))"
   ]
  },
  {
   "cell_type": "code",
   "execution_count": 216,
   "id": "ffc1a10d-24eb-4969-8196-52cab4e07855",
   "metadata": {},
   "outputs": [],
   "source": [
    "#principalComponents=np.asarray(principalComponents)"
   ]
  },
  {
   "cell_type": "markdown",
   "id": "7b93e177-d2c8-4b6e-89b8-0476d6d54722",
   "metadata": {},
   "source": [
    "## Modelling"
   ]
  },
  {
   "cell_type": "markdown",
   "id": "05e63b83-611e-483d-91c7-1606502fbe1d",
   "metadata": {},
   "source": [
    "from sklearn.model_selection import train_test_split,GridSearchCV\n",
    "from sklearn.preprocessing import StandardScaler\n",
    "from sklearn.linear_model import LinearRegression\n",
    "from sklearn.linear_model import LogisticRegression\n",
    "from sklearn.metrics import r2_score,mean_absolute_error,mean_squared_error\n",
    "from sklearn.preprocessing import PolynomialFeatures\n",
    "from sklearn.pipeline import Pipeline\n",
    "from imblearn.over_sampling import RandomOverSampler\n",
    "from imblearn.over_sampling import SMOTE\n",
    "from sklearn.svm import SVC\n",
    "from sklearn.naive_bayes import GaussianNB\n",
    "from sklearn.neighbors import KNeighborsClassifier\n",
    "from sklearn.ensemble import RandomForestClassifier\n"
   ]
  },
  {
   "cell_type": "markdown",
   "id": "6af96cfa-5011-47b5-8544-8292f31b13bc",
   "metadata": {},
   "source": [
    "Multiclass Classification\n",
    "The target variables are CARRIER_DELAY, WEATHER_DELAY, NAS_DELAY, SECURITY_DELAY, LATE_AIRCRAFT_DELAY. We need to do additional transformations because these variables are not binary but continuos. For each flight that was delayed, we need to have one of these variables as 1 and others 0.\n",
    "It can happen that we have two types of delays with more than 0 minutes. In this case, take the bigger one as 1 and others as 0."
   ]
  },
  {
   "cell_type": "code",
   "execution_count": 351,
   "id": "10ed009e-61c7-491d-80c2-ecaf0e4e7eee",
   "metadata": {},
   "outputs": [],
   "source": [
    "oversample = SMOTE(sampling_strategy='minority')\n",
    "#oversample = SMOTE(sampling_strategy='all')\n",
    "X1, y1 = oversample.fit_resample(X_dummy, y)"
   ]
  },
  {
   "cell_type": "code",
   "execution_count": 352,
   "id": "887a04b1-b917-416d-85a0-ee68620302b0",
   "metadata": {},
   "outputs": [
    {
     "name": "stdout",
     "output_type": "stream",
     "text": [
      "(295766, 199)\n",
      "(295766,)\n"
     ]
    }
   ],
   "source": [
    "print(X1.shape)\n",
    "print(y1.shape)"
   ]
  },
  {
   "cell_type": "code",
   "execution_count": 353,
   "id": "bf249a52-ad25-4187-a604-175bc1e80160",
   "metadata": {},
   "outputs": [
    {
     "data": {
      "text/plain": [
       "{0.0: 147883, 1.0: 147883}"
      ]
     },
     "execution_count": 353,
     "metadata": {},
     "output_type": "execute_result"
    }
   ],
   "source": [
    "unique, counts = np.unique(y1, return_counts=True)\n",
    "dict(zip(unique, counts))"
   ]
  },
  {
   "cell_type": "code",
   "execution_count": null,
   "id": "0abefb28-4962-4f71-a800-c9dfc458f8f4",
   "metadata": {},
   "outputs": [],
   "source": []
  },
  {
   "cell_type": "code",
   "execution_count": 357,
   "id": "525fca65-2127-484d-a1bd-c78cef498ea2",
   "metadata": {},
   "outputs": [],
   "source": [
    "X_train,X_test,y_train,y_test = train_test_split(X1,y1,train_size=0.7,random_state=0)"
   ]
  },
  {
   "cell_type": "code",
   "execution_count": 358,
   "id": "c3bcee98-7de8-4c1b-b8b1-0f51380a9352",
   "metadata": {},
   "outputs": [],
   "source": [
    "#clf = LogisticRegression(random_state=0)\n",
    "#clf = LogisticRegression(random_state=0,max_iter=20000, multi_class='multinomial')\n",
    "\n",
    "#clf = KNeighborsClassifier(n_neighbors=5)\n",
    "\n",
    "#clf = GaussianNB()\n",
    "\n",
    "#clf = RandomForestClassifier(max_depth=5, random_state=0)\n",
    "\n",
    "#clf = SVC(kernel='poly',gamma='auto')"
   ]
  },
  {
   "cell_type": "code",
   "execution_count": 370,
   "id": "c2c431a3-b8af-4e2b-a54f-25f8a4dbb402",
   "metadata": {},
   "outputs": [],
   "source": [
    "clf = LogisticRegression(random_state=0,max_iter=20000, multi_class='multinomial')\n",
    "clf.fit(X_train, y_train)\n",
    "y_pred=clf.predict(X_test)\n"
   ]
  },
  {
   "cell_type": "code",
   "execution_count": 371,
   "id": "8de97773-5c31-41fe-99e7-ebf3c6db80ef",
   "metadata": {},
   "outputs": [
    {
     "name": "stdout",
     "output_type": "stream",
     "text": [
      "<class 'numpy.ndarray'>\n",
      "<class 'numpy.ndarray'>\n"
     ]
    }
   ],
   "source": [
    "print(type(y_test))\n",
    "print(type(y_pred))"
   ]
  },
  {
   "cell_type": "code",
   "execution_count": 377,
   "id": "edc1ccea-3928-4503-905d-fa04564caf3b",
   "metadata": {},
   "outputs": [],
   "source": [
    "from sklearn.metrics import accuracy_score\n",
    "from sklearn.metrics import recall_score\n",
    "from sklearn.metrics import precision_score\n",
    "from sklearn.metrics import f1_score\n",
    "from sklearn.metrics import confusion_matrix\n",
    "accuracy = accuracy_score(y_test,y_pred)\n",
    "f1_score = f1_score(y_test,y_pred,average='weighted')\n",
    "precision_score = precision_score(y_test,y_pred,average='weighted')\n",
    "recall_score = recall_score(y_test,y_pred,average='micro')\n",
    "cnf_matrix = confusion_matrix(y_test, y_pred)"
   ]
  },
  {
   "cell_type": "markdown",
   "id": "e88ac534-23f1-4780-a9cb-43270510fc6f",
   "metadata": {},
   "source": [
    "#### Multi Logistic Regression SMOTE without Scaler\n",
    "0.28330522765598654\n",
    "0.25589846716567505\n",
    "0.2746703349064258\n",
    "0.28330522765598654\n",
    "[[ 262  525  160  145  423]\n",
    " [ 255 1025   42   23  215]\n",
    " [ 225  525  211  248  342]\n",
    " [ 197  609  167  224  349]\n",
    " [ 182  573  149  171  462]]\n",
    " \n",
    "#### Multi Logistic Regression SMOTE with Scaler\n",
    "0.28330522765598654\n",
    "0.25589846716567505\n",
    "0.2746703349064258\n",
    "0.28330522765598654\n",
    "[[ 262  525  160  145  423]\n",
    " [ 255 1025   42   23  215]\n",
    " [ 225  525  211  248  342]\n",
    " [ 197  609  167  224  349]\n",
    " [ 182  573  149  171  462]]\n",
    " PCA MAKES THINGS WORST 10=33%Accuracy 100=45%\n"
   ]
  },
  {
   "cell_type": "code",
   "execution_count": 378,
   "id": "da5a888c-727a-469e-8bfc-f7e31aa889e0",
   "metadata": {},
   "outputs": [
    {
     "name": "stdout",
     "output_type": "stream",
     "text": [
      "0.9906006987490139\n",
      "0.9906000634710523\n",
      "0.990774509024691\n",
      "0.9906006987490139\n",
      "[[44267     0]\n",
      " [  834 43629]]\n"
     ]
    }
   ],
   "source": [
    "print(accuracy)\n",
    "print(f1_score)\n",
    "print(precision_score)\n",
    "print(recall_score)\n",
    "print(cnf_matrix)"
   ]
  },
  {
   "cell_type": "code",
   "execution_count": null,
   "id": "03d3ea4e-da75-44de-acf6-ad41ec24755c",
   "metadata": {},
   "outputs": [],
   "source": []
  },
  {
   "cell_type": "code",
   "execution_count": 376,
   "id": "b4180ef9-2c09-4d38-b7a3-ec641e2ca63d",
   "metadata": {},
   "outputs": [],
   "source": [
    "import xgboost as xgb\n",
    "data_dmatrix = xgb.DMatrix(data=X_train,label=y_train)\n",
    "xg_reg = xgb.XGBRegressor(objective ='binary:hinge', colsample_bytree = 0.3, learning_rate = 0.1,\n",
    "                max_depth = 2, alpha = 0.1, n_estimators = 1000)\n",
    "xg_reg.fit(X_train,y_train)\n",
    "y_pred = xg_reg.predict(X_test)"
   ]
  },
  {
   "cell_type": "code",
   "execution_count": null,
   "id": "46a3b07a-d111-4a79-85e1-b89cda77d7eb",
   "metadata": {},
   "outputs": [],
   "source": []
  },
  {
   "cell_type": "code",
   "execution_count": null,
   "id": "832fd9e2-196c-483e-a0ae-06ddeac14123",
   "metadata": {},
   "outputs": [],
   "source": []
  },
  {
   "cell_type": "code",
   "execution_count": 253,
   "id": "12d86a7f-2887-4434-85c5-03cf5d709e38",
   "metadata": {},
   "outputs": [],
   "source": [
    "from sklearn.ensemble import RandomForestRegressor"
   ]
  },
  {
   "cell_type": "code",
   "execution_count": 203,
   "id": "de316b0c-4065-4c49-95c0-2558614e3d5c",
   "metadata": {},
   "outputs": [],
   "source": [
    "from sklearn import metrics\n",
    "from sklearn.model_selection import GridSearchCV\n",
    "from sklearn.ensemble import GradientBoostingRegressor\n",
    "param_grid={\n",
    "    'alpha' :[0.1,0.3,0.5,0.7,1.0],\n",
    "    'max_depth': [1,3,5,7,10],\n",
    "    'n_estimators': [10,100,250,500,1000]\n",
    "    }\n",
    "params = {\n",
    "    # Parameters that we are going to tune.\n",
    "    'max_depth':6,\n",
    "    'min_child_weight': 1,\n",
    "    'eta':.3,\n",
    "    'subsample': 1,\n",
    "    'colsample_bytree': 1,\n",
    "    # Other parameters\n",
    "    'objective':'reg:squarederror',\n",
    "}"
   ]
  },
  {
   "cell_type": "code",
   "execution_count": 91,
   "id": "45441aab-dc53-4d9a-aa12-a04bef07a52d",
   "metadata": {},
   "outputs": [],
   "source": []
  },
  {
   "cell_type": "markdown",
   "id": "c3d5bf34-9a2a-4584-9cd3-fcd662909e73",
   "metadata": {},
   "source": [
    "## ModellingII"
   ]
  },
  {
   "cell_type": "code",
   "execution_count": null,
   "id": "8cc4bbd9-d550-4693-b7c1-f7040f7d9d46",
   "metadata": {},
   "outputs": [],
   "source": []
  },
  {
   "cell_type": "code",
   "execution_count": null,
   "id": "1fb43210-3ba3-4789-a202-79602108f5e6",
   "metadata": {},
   "outputs": [],
   "source": []
  },
  {
   "cell_type": "code",
   "execution_count": null,
   "id": "824c14a6-26c3-407e-82db-d623b1516e4e",
   "metadata": {},
   "outputs": [],
   "source": []
  },
  {
   "cell_type": "code",
   "execution_count": null,
   "id": "0cfe8e68-ead4-4574-87f2-fe9f8695fb32",
   "metadata": {},
   "outputs": [],
   "source": []
  },
  {
   "cell_type": "code",
   "execution_count": 179,
   "id": "a1d29d71-ec06-4b69-bbc4-6e89ff478f20",
   "metadata": {},
   "outputs": [],
   "source": []
  },
  {
   "cell_type": "code",
   "execution_count": 254,
   "id": "e789de7e-f31b-42d3-9703-263277dd4a38",
   "metadata": {},
   "outputs": [],
   "source": []
  },
  {
   "cell_type": "code",
   "execution_count": null,
   "id": "b2202158-6e80-4da8-a37e-86858e080997",
   "metadata": {},
   "outputs": [],
   "source": []
  },
  {
   "cell_type": "code",
   "execution_count": null,
   "id": "51f5dcd6-bdcf-4def-aded-b05a0f2c0f97",
   "metadata": {},
   "outputs": [],
   "source": []
  },
  {
   "cell_type": "code",
   "execution_count": null,
   "id": "e292d2ae-005d-4c49-b6be-050e18f88caa",
   "metadata": {},
   "outputs": [],
   "source": []
  },
  {
   "cell_type": "code",
   "execution_count": null,
   "id": "4faa01bf-6d5d-4ba2-9ce7-bc057bcab228",
   "metadata": {},
   "outputs": [],
   "source": []
  },
  {
   "cell_type": "code",
   "execution_count": null,
   "id": "2b1de38c-9fef-43b6-b633-a41965bc1e89",
   "metadata": {},
   "outputs": [],
   "source": []
  },
  {
   "cell_type": "code",
   "execution_count": 184,
   "id": "20cc8414-f91e-442a-a265-7f72e263ed7f",
   "metadata": {},
   "outputs": [],
   "source": []
  },
  {
   "cell_type": "code",
   "execution_count": null,
   "id": "3ed5935f-2f34-45d8-acaf-6fb2ed6b758e",
   "metadata": {},
   "outputs": [],
   "source": [
    "\n",
    "\n",
    "\n"
   ]
  },
  {
   "cell_type": "code",
   "execution_count": null,
   "id": "29adc88b-9364-458c-975f-e687b4f2539a",
   "metadata": {},
   "outputs": [],
   "source": []
  },
  {
   "cell_type": "code",
   "execution_count": null,
   "id": "4d7a1acd-95e6-4ea3-90e9-b50a66086f6f",
   "metadata": {},
   "outputs": [],
   "source": []
  },
  {
   "cell_type": "code",
   "execution_count": null,
   "id": "8da8eb57-4d13-4f65-9416-7f66af811e26",
   "metadata": {},
   "outputs": [],
   "source": [
    " "
   ]
  },
  {
   "cell_type": "code",
   "execution_count": 283,
   "id": "f22e0485-9e5d-479e-b8cd-a743e60bc237",
   "metadata": {},
   "outputs": [
    {
     "name": "stdout",
     "output_type": "stream",
     "text": [
      "0.43279074906091186\n",
      "[[1999  277  285   13   98]\n",
      " [  73 2646   55    0    0]\n",
      " [ 979  646 1038    0   18]\n",
      " [1493  717  397   19  104]\n",
      " [1928  452  154   12  174]]\n"
     ]
    }
   ],
   "source": []
  },
  {
   "cell_type": "code",
   "execution_count": 275,
   "id": "500ee848-26b8-433a-b47b-d8fe12278752",
   "metadata": {},
   "outputs": [
    {
     "data": {
      "text/plain": [
       "XGBRegressor(alpha=0.1, base_score=0.5, booster='gbtree', colsample_bylevel=1,\n",
       "             colsample_bynode=1, colsample_bytree=0.3, gamma=0, gpu_id=-1,\n",
       "             importance_type='gain', interaction_constraints='',\n",
       "             learning_rate=0.1, max_delta_step=0, max_depth=2,\n",
       "             min_child_weight=1, missing=nan, monotone_constraints='()',\n",
       "             n_estimators=1000, n_jobs=16, num_parallel_tree=1,\n",
       "             objective='binary:hinge', random_state=0, reg_alpha=0.100000001,\n",
       "             reg_lambda=1, scale_pos_weight=None, subsample=1,\n",
       "             tree_method='exact', validate_parameters=1, verbosity=None)"
      ]
     },
     "execution_count": 275,
     "metadata": {},
     "output_type": "execute_result"
    }
   ],
   "source": []
  },
  {
   "cell_type": "code",
   "execution_count": 231,
   "id": "896d9a69-94b9-4bab-860e-925e327559da",
   "metadata": {},
   "outputs": [],
   "source": []
  },
  {
   "cell_type": "code",
   "execution_count": 278,
   "id": "24ed4c9a-586b-4c40-8b94-4b697fa311cb",
   "metadata": {},
   "outputs": [],
   "source": [
    "\n",
    "\n"
   ]
  },
  {
   "cell_type": "code",
   "execution_count": null,
   "id": "632c71d7-b342-474d-a86b-76591e637ee4",
   "metadata": {},
   "outputs": [],
   "source": []
  },
  {
   "cell_type": "code",
   "execution_count": 41,
   "id": "80b8973f-c3c6-4773-a63f-d01df6144d17",
   "metadata": {},
   "outputs": [],
   "source": []
  },
  {
   "cell_type": "code",
   "execution_count": 46,
   "id": "f2e81b2a-96ed-4d61-bf9d-c696c42fa438",
   "metadata": {},
   "outputs": [],
   "source": []
  },
  {
   "cell_type": "code",
   "execution_count": 97,
   "id": "952ee375-00fa-4c5f-8774-d862cd100920",
   "metadata": {},
   "outputs": [],
   "source": []
  },
  {
   "cell_type": "code",
   "execution_count": null,
   "id": "405f47ac-96c3-4d8b-8e58-af7da02df38a",
   "metadata": {},
   "outputs": [],
   "source": []
  },
  {
   "cell_type": "code",
   "execution_count": null,
   "id": "7c459aa5-da86-4994-b1b8-0f20f40ab87d",
   "metadata": {},
   "outputs": [],
   "source": []
  },
  {
   "cell_type": "markdown",
   "id": "b8c5a816-932d-4d06-aac5-d1b2bdf9ea51",
   "metadata": {},
   "source": []
  },
  {
   "cell_type": "code",
   "execution_count": null,
   "id": "76766534-1b41-4fd8-b2b0-eda3e932a988",
   "metadata": {},
   "outputs": [],
   "source": []
  },
  {
   "cell_type": "code",
   "execution_count": null,
   "id": "37d5cf5d-0b0f-4320-ba2e-952afbe45a5d",
   "metadata": {},
   "outputs": [],
   "source": []
  },
  {
   "cell_type": "code",
   "execution_count": null,
   "id": "9dea04fc-03c0-4233-bd5b-112d04e6aadf",
   "metadata": {},
   "outputs": [],
   "source": []
  }
 ],
 "metadata": {
  "kernelspec": {
   "display_name": "Python 3",
   "language": "python",
   "name": "python3"
  },
  "language_info": {
   "codemirror_mode": {
    "name": "ipython",
    "version": 3
   },
   "file_extension": ".py",
   "mimetype": "text/x-python",
   "name": "python",
   "nbconvert_exporter": "python",
   "pygments_lexer": "ipython3",
   "version": "3.8.8"
  }
 },
 "nbformat": 4,
 "nbformat_minor": 5
}
