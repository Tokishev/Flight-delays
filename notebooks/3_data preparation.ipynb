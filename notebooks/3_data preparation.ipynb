{
 "cells": [
  {
   "cell_type": "markdown",
   "id": "cd1ceace-5212-46b4-b364-eefe6d4fd28b",
   "metadata": {},
   "source": [
    "# Imports"
   ]
  },
  {
   "cell_type": "code",
   "execution_count": 152,
   "id": "b39b7964-c2ca-49dc-9b7a-3f652cea90e1",
   "metadata": {},
   "outputs": [],
   "source": [
    "import pandas as pd\n",
    "import numpy as np\n",
    "import matplotlib.pyplot as plt\n",
    "import seaborn as sns\n",
    "\n",
    "from datetime import timedelta"
   ]
  },
  {
   "cell_type": "markdown",
   "id": "41ab4454-179f-4dca-8ad5-f5e15ad06ef5",
   "metadata": {},
   "source": [
    "# Read Sample"
   ]
  },
  {
   "cell_type": "code",
   "execution_count": 139,
   "id": "f00d6dc2-00f2-42a0-8727-2d3c18a8614b",
   "metadata": {},
   "outputs": [
    {
     "data": {
      "text/html": [
       "<div>\n",
       "<style scoped>\n",
       "    .dataframe tbody tr th:only-of-type {\n",
       "        vertical-align: middle;\n",
       "    }\n",
       "\n",
       "    .dataframe tbody tr th {\n",
       "        vertical-align: top;\n",
       "    }\n",
       "\n",
       "    .dataframe thead th {\n",
       "        text-align: right;\n",
       "    }\n",
       "</style>\n",
       "<table border=\"1\" class=\"dataframe\">\n",
       "  <thead>\n",
       "    <tr style=\"text-align: right;\">\n",
       "      <th></th>\n",
       "      <th>fl_date</th>\n",
       "      <th>mkt_unique_carrier</th>\n",
       "      <th>branded_code_share</th>\n",
       "      <th>mkt_carrier</th>\n",
       "      <th>mkt_carrier_fl_num</th>\n",
       "      <th>op_unique_carrier</th>\n",
       "      <th>tail_num</th>\n",
       "      <th>op_carrier_fl_num</th>\n",
       "      <th>origin_airport_id</th>\n",
       "      <th>origin</th>\n",
       "      <th>...</th>\n",
       "      <th>nas_delay</th>\n",
       "      <th>security_delay</th>\n",
       "      <th>late_aircraft_delay</th>\n",
       "      <th>first_dep_time</th>\n",
       "      <th>total_add_gtime</th>\n",
       "      <th>longest_add_gtime</th>\n",
       "      <th>no_name</th>\n",
       "      <th>arr_date_time</th>\n",
       "      <th>dep_date_time</th>\n",
       "      <th>arr_month</th>\n",
       "    </tr>\n",
       "  </thead>\n",
       "  <tbody>\n",
       "    <tr>\n",
       "      <th>0</th>\n",
       "      <td>2019-01-02</td>\n",
       "      <td>DL</td>\n",
       "      <td>DL_CODESHARE</td>\n",
       "      <td>DL</td>\n",
       "      <td>5303</td>\n",
       "      <td>9E</td>\n",
       "      <td>N606LR</td>\n",
       "      <td>5303</td>\n",
       "      <td>10397</td>\n",
       "      <td>ATL</td>\n",
       "      <td>...</td>\n",
       "      <td>NaN</td>\n",
       "      <td>NaN</td>\n",
       "      <td>NaN</td>\n",
       "      <td>NaN</td>\n",
       "      <td>NaN</td>\n",
       "      <td>NaN</td>\n",
       "      <td>NaN</td>\n",
       "      <td>2019-01-02 17:14:00</td>\n",
       "      <td>2019-01-02 15:13:00</td>\n",
       "      <td>1</td>\n",
       "    </tr>\n",
       "    <tr>\n",
       "      <th>1</th>\n",
       "      <td>2019-01-25</td>\n",
       "      <td>DL</td>\n",
       "      <td>DL_CODESHARE</td>\n",
       "      <td>DL</td>\n",
       "      <td>5443</td>\n",
       "      <td>9E</td>\n",
       "      <td>N905XJ</td>\n",
       "      <td>5443</td>\n",
       "      <td>10397</td>\n",
       "      <td>ATL</td>\n",
       "      <td>...</td>\n",
       "      <td>NaN</td>\n",
       "      <td>NaN</td>\n",
       "      <td>NaN</td>\n",
       "      <td>NaN</td>\n",
       "      <td>NaN</td>\n",
       "      <td>NaN</td>\n",
       "      <td>NaN</td>\n",
       "      <td>2019-01-25 17:18:00</td>\n",
       "      <td>2019-01-25 15:12:00</td>\n",
       "      <td>1</td>\n",
       "    </tr>\n",
       "    <tr>\n",
       "      <th>2</th>\n",
       "      <td>2019-01-03</td>\n",
       "      <td>DL</td>\n",
       "      <td>DL_CODESHARE</td>\n",
       "      <td>DL</td>\n",
       "      <td>5187</td>\n",
       "      <td>9E</td>\n",
       "      <td>N195PQ</td>\n",
       "      <td>5187</td>\n",
       "      <td>10397</td>\n",
       "      <td>ATL</td>\n",
       "      <td>...</td>\n",
       "      <td>NaN</td>\n",
       "      <td>NaN</td>\n",
       "      <td>NaN</td>\n",
       "      <td>NaN</td>\n",
       "      <td>NaN</td>\n",
       "      <td>NaN</td>\n",
       "      <td>NaN</td>\n",
       "      <td>2019-01-03 23:35:00</td>\n",
       "      <td>2019-01-03 21:30:00</td>\n",
       "      <td>1</td>\n",
       "    </tr>\n",
       "    <tr>\n",
       "      <th>3</th>\n",
       "      <td>2019-01-17</td>\n",
       "      <td>DL</td>\n",
       "      <td>DL_CODESHARE</td>\n",
       "      <td>DL</td>\n",
       "      <td>5443</td>\n",
       "      <td>9E</td>\n",
       "      <td>N310PQ</td>\n",
       "      <td>5443</td>\n",
       "      <td>10397</td>\n",
       "      <td>ATL</td>\n",
       "      <td>...</td>\n",
       "      <td>NaN</td>\n",
       "      <td>NaN</td>\n",
       "      <td>NaN</td>\n",
       "      <td>NaN</td>\n",
       "      <td>NaN</td>\n",
       "      <td>NaN</td>\n",
       "      <td>NaN</td>\n",
       "      <td>2019-01-17 17:18:00</td>\n",
       "      <td>2019-01-17 15:12:00</td>\n",
       "      <td>1</td>\n",
       "    </tr>\n",
       "    <tr>\n",
       "      <th>4</th>\n",
       "      <td>2019-01-29</td>\n",
       "      <td>DL</td>\n",
       "      <td>DL_CODESHARE</td>\n",
       "      <td>DL</td>\n",
       "      <td>5023</td>\n",
       "      <td>9E</td>\n",
       "      <td>N8928A</td>\n",
       "      <td>5023</td>\n",
       "      <td>10397</td>\n",
       "      <td>ATL</td>\n",
       "      <td>...</td>\n",
       "      <td>NaN</td>\n",
       "      <td>NaN</td>\n",
       "      <td>NaN</td>\n",
       "      <td>NaN</td>\n",
       "      <td>NaN</td>\n",
       "      <td>NaN</td>\n",
       "      <td>NaN</td>\n",
       "      <td>2019-01-29 14:45:00</td>\n",
       "      <td>2019-01-29 13:50:00</td>\n",
       "      <td>1</td>\n",
       "    </tr>\n",
       "  </tbody>\n",
       "</table>\n",
       "<p>5 rows × 45 columns</p>\n",
       "</div>"
      ],
      "text/plain": [
       "      fl_date mkt_unique_carrier branded_code_share mkt_carrier  \\\n",
       "0  2019-01-02                 DL       DL_CODESHARE          DL   \n",
       "1  2019-01-25                 DL       DL_CODESHARE          DL   \n",
       "2  2019-01-03                 DL       DL_CODESHARE          DL   \n",
       "3  2019-01-17                 DL       DL_CODESHARE          DL   \n",
       "4  2019-01-29                 DL       DL_CODESHARE          DL   \n",
       "\n",
       "   mkt_carrier_fl_num op_unique_carrier tail_num  op_carrier_fl_num  \\\n",
       "0                5303                9E   N606LR               5303   \n",
       "1                5443                9E   N905XJ               5443   \n",
       "2                5187                9E   N195PQ               5187   \n",
       "3                5443                9E   N310PQ               5443   \n",
       "4                5023                9E   N8928A               5023   \n",
       "\n",
       "   origin_airport_id origin  ... nas_delay  security_delay  \\\n",
       "0              10397    ATL  ...       NaN             NaN   \n",
       "1              10397    ATL  ...       NaN             NaN   \n",
       "2              10397    ATL  ...       NaN             NaN   \n",
       "3              10397    ATL  ...       NaN             NaN   \n",
       "4              10397    ATL  ...       NaN             NaN   \n",
       "\n",
       "  late_aircraft_delay first_dep_time  total_add_gtime  longest_add_gtime  \\\n",
       "0                 NaN            NaN              NaN                NaN   \n",
       "1                 NaN            NaN              NaN                NaN   \n",
       "2                 NaN            NaN              NaN                NaN   \n",
       "3                 NaN            NaN              NaN                NaN   \n",
       "4                 NaN            NaN              NaN                NaN   \n",
       "\n",
       "   no_name        arr_date_time        dep_date_time  arr_month  \n",
       "0      NaN  2019-01-02 17:14:00  2019-01-02 15:13:00          1  \n",
       "1      NaN  2019-01-25 17:18:00  2019-01-25 15:12:00          1  \n",
       "2      NaN  2019-01-03 23:35:00  2019-01-03 21:30:00          1  \n",
       "3      NaN  2019-01-17 17:18:00  2019-01-17 15:12:00          1  \n",
       "4      NaN  2019-01-29 14:45:00  2019-01-29 13:50:00          1  \n",
       "\n",
       "[5 rows x 45 columns]"
      ]
     },
     "execution_count": 139,
     "metadata": {},
     "output_type": "execute_result"
    }
   ],
   "source": [
    "flights_modified = pd.read_csv(r\"../data/sampled_data.csv\")\n",
    "flights_modified.head()"
   ]
  },
  {
   "cell_type": "code",
   "execution_count": 141,
   "id": "69aaf568-1940-4031-9cb5-7c20934b539c",
   "metadata": {},
   "outputs": [
    {
     "name": "stdout",
     "output_type": "stream",
     "text": [
      "<class 'pandas.core.frame.DataFrame'>\n",
      "RangeIndex: 754138 entries, 0 to 754137\n",
      "Data columns (total 45 columns):\n",
      " #   Column               Non-Null Count   Dtype  \n",
      "---  ------               --------------   -----  \n",
      " 0   fl_date              754138 non-null  object \n",
      " 1   mkt_unique_carrier   754138 non-null  object \n",
      " 2   branded_code_share   754138 non-null  object \n",
      " 3   mkt_carrier          754138 non-null  object \n",
      " 4   mkt_carrier_fl_num   754138 non-null  int64  \n",
      " 5   op_unique_carrier    754138 non-null  object \n",
      " 6   tail_num             751549 non-null  object \n",
      " 7   op_carrier_fl_num    754138 non-null  int64  \n",
      " 8   origin_airport_id    754138 non-null  int64  \n",
      " 9   origin               754138 non-null  object \n",
      " 10  origin_city_name     754138 non-null  object \n",
      " 11  dest_airport_id      754138 non-null  int64  \n",
      " 12  dest                 754138 non-null  object \n",
      " 13  dest_city_name       754138 non-null  object \n",
      " 14  crs_dep_time         754138 non-null  int64  \n",
      " 15  dep_time             740549 non-null  float64\n",
      " 16  dep_delay            740548 non-null  float64\n",
      " 17  taxi_out             740113 non-null  float64\n",
      " 18  wheels_off           740113 non-null  float64\n",
      " 19  wheels_on            739718 non-null  float64\n",
      " 20  taxi_in              739718 non-null  float64\n",
      " 21  crs_arr_time         754138 non-null  int64  \n",
      " 22  arr_time             739718 non-null  float64\n",
      " 23  arr_delay            738029 non-null  float64\n",
      " 24  cancelled            754138 non-null  float64\n",
      " 25  cancellation_code    14129 non-null   object \n",
      " 26  diverted             754138 non-null  float64\n",
      " 27  dup                  754138 non-null  object \n",
      " 28  crs_elapsed_time     754136 non-null  float64\n",
      " 29  actual_elapsed_time  738029 non-null  float64\n",
      " 30  air_time             738029 non-null  float64\n",
      " 31  flights              754138 non-null  float64\n",
      " 32  distance             754138 non-null  float64\n",
      " 33  carrier_delay        142541 non-null  float64\n",
      " 34  weather_delay        142541 non-null  float64\n",
      " 35  nas_delay            142541 non-null  float64\n",
      " 36  security_delay       142541 non-null  float64\n",
      " 37  late_aircraft_delay  142541 non-null  float64\n",
      " 38  first_dep_time       5323 non-null    float64\n",
      " 39  total_add_gtime      5323 non-null    float64\n",
      " 40  longest_add_gtime    5323 non-null    float64\n",
      " 41  no_name              0 non-null       float64\n",
      " 42  arr_date_time        754138 non-null  object \n",
      " 43  dep_date_time        754138 non-null  object \n",
      " 44  arr_month            754138 non-null  int64  \n",
      "dtypes: float64(24), int64(7), object(14)\n",
      "memory usage: 258.9+ MB\n"
     ]
    }
   ],
   "source": [
    "flights_modified.info()"
   ]
  },
  {
   "cell_type": "code",
   "execution_count": 145,
   "id": "a79c0940-bf2f-4974-a2fe-6490622385ed",
   "metadata": {},
   "outputs": [],
   "source": [
    "flights_modified = flights_modified.astype({'arr_date_time':'datetime64[ns]','dep_date_time':'datetime64[ns]'})"
   ]
  },
  {
   "cell_type": "code",
   "execution_count": 146,
   "id": "037083c7-00c1-41ef-80dd-ef279e51e342",
   "metadata": {},
   "outputs": [
    {
     "name": "stdout",
     "output_type": "stream",
     "text": [
      "<class 'pandas.core.frame.DataFrame'>\n",
      "RangeIndex: 754138 entries, 0 to 754137\n",
      "Data columns (total 45 columns):\n",
      " #   Column               Non-Null Count   Dtype         \n",
      "---  ------               --------------   -----         \n",
      " 0   fl_date              754138 non-null  object        \n",
      " 1   mkt_unique_carrier   754138 non-null  object        \n",
      " 2   branded_code_share   754138 non-null  object        \n",
      " 3   mkt_carrier          754138 non-null  object        \n",
      " 4   mkt_carrier_fl_num   754138 non-null  int64         \n",
      " 5   op_unique_carrier    754138 non-null  object        \n",
      " 6   tail_num             751549 non-null  object        \n",
      " 7   op_carrier_fl_num    754138 non-null  int64         \n",
      " 8   origin_airport_id    754138 non-null  int64         \n",
      " 9   origin               754138 non-null  object        \n",
      " 10  origin_city_name     754138 non-null  object        \n",
      " 11  dest_airport_id      754138 non-null  int64         \n",
      " 12  dest                 754138 non-null  object        \n",
      " 13  dest_city_name       754138 non-null  object        \n",
      " 14  crs_dep_time         754138 non-null  int64         \n",
      " 15  dep_time             740549 non-null  float64       \n",
      " 16  dep_delay            740548 non-null  float64       \n",
      " 17  taxi_out             740113 non-null  float64       \n",
      " 18  wheels_off           740113 non-null  float64       \n",
      " 19  wheels_on            739718 non-null  float64       \n",
      " 20  taxi_in              739718 non-null  float64       \n",
      " 21  crs_arr_time         754138 non-null  int64         \n",
      " 22  arr_time             739718 non-null  float64       \n",
      " 23  arr_delay            738029 non-null  float64       \n",
      " 24  cancelled            754138 non-null  float64       \n",
      " 25  cancellation_code    14129 non-null   object        \n",
      " 26  diverted             754138 non-null  float64       \n",
      " 27  dup                  754138 non-null  object        \n",
      " 28  crs_elapsed_time     754136 non-null  float64       \n",
      " 29  actual_elapsed_time  738029 non-null  float64       \n",
      " 30  air_time             738029 non-null  float64       \n",
      " 31  flights              754138 non-null  float64       \n",
      " 32  distance             754138 non-null  float64       \n",
      " 33  carrier_delay        142541 non-null  float64       \n",
      " 34  weather_delay        142541 non-null  float64       \n",
      " 35  nas_delay            142541 non-null  float64       \n",
      " 36  security_delay       142541 non-null  float64       \n",
      " 37  late_aircraft_delay  142541 non-null  float64       \n",
      " 38  first_dep_time       5323 non-null    float64       \n",
      " 39  total_add_gtime      5323 non-null    float64       \n",
      " 40  longest_add_gtime    5323 non-null    float64       \n",
      " 41  no_name              0 non-null       float64       \n",
      " 42  arr_date_time        754138 non-null  datetime64[ns]\n",
      " 43  dep_date_time        754138 non-null  datetime64[ns]\n",
      " 44  arr_month            754138 non-null  int64         \n",
      "dtypes: datetime64[ns](2), float64(24), int64(7), object(12)\n",
      "memory usage: 258.9+ MB\n"
     ]
    }
   ],
   "source": [
    "flights_modified.info()"
   ]
  },
  {
   "cell_type": "code",
   "execution_count": null,
   "id": "d803c96c-60c6-4df5-928e-097babd2cf69",
   "metadata": {},
   "outputs": [],
   "source": []
  },
  {
   "cell_type": "markdown",
   "id": "88bd0be9-fc21-41f1-ade7-8381c765825a",
   "metadata": {},
   "source": [
    "# Feature Engineering"
   ]
  },
  {
   "cell_type": "code",
   "execution_count": 159,
   "id": "40dd1b61-74db-485b-b5d2-ce9810a5c1d1",
   "metadata": {},
   "outputs": [],
   "source": [
    "flights_fe = flights_modified.copy()"
   ]
  },
  {
   "cell_type": "markdown",
   "id": "48c41b4c-c834-41bd-af65-327c6a9d6c4e",
   "metadata": {},
   "source": [
    "## Date, hour, week"
   ]
  },
  {
   "cell_type": "code",
   "execution_count": 160,
   "id": "f6f8fbe2-920b-4996-afaf-93fc0a040220",
   "metadata": {},
   "outputs": [],
   "source": [
    "# flights_modified['arr_year'] = flights_modified['arr_date_time'].dt.year\n",
    "flights_fe['arr_month'] = flights_fe['arr_date_time'].dt.month\n",
    "flights_fe['arr_day_of_week'] = flights_fe['arr_date_time'].dt.day_of_week\n",
    "flights_fe['arr_hour'] = flights_fe['arr_date_time'].dt.hour\n",
    "\n",
    "\n",
    "# flights_modified['dep_year'] = flights_modified['dep_date_time'].dt.year\n",
    "# flights_modified['dep_month'] = flights_modified['dep_date_time'].dt.month\n",
    "# flights_modified['dep_day_of_week'] = flights_modified['dep_date_time'].dt.day_of_week\n",
    "# flights_modified['dep_hour'] = flights_modified['dep_date_time'].dt.hour"
   ]
  },
  {
   "cell_type": "code",
   "execution_count": null,
   "id": "a4100212-e8be-43af-9628-98e221b3a339",
   "metadata": {},
   "outputs": [],
   "source": []
  },
  {
   "cell_type": "code",
   "execution_count": null,
   "id": "e428795e-d1e1-4e6a-965f-b287011f4be0",
   "metadata": {},
   "outputs": [],
   "source": []
  },
  {
   "cell_type": "markdown",
   "id": "68c569ba-8fa7-4cde-8f75-ad0505033fb5",
   "metadata": {},
   "source": [
    "## Airport Type"
   ]
  },
  {
   "cell_type": "code",
   "execution_count": 161,
   "id": "451b053c-aaaf-40da-a02b-02ad727c3192",
   "metadata": {
    "tags": []
   },
   "outputs": [],
   "source": [
    "origin_airport = flights_fe[\"origin_airport_id\"].value_counts()\n",
    "dest_airport = flights_fe[\"dest_airport_id\"].value_counts()\n",
    "\n",
    "airports = pd.concat([origin_airport,dest_airport],axis=1)\n",
    "airports = airports.sort_values(by=[\"origin_airport_id\"],ascending=False)\n",
    "\n",
    "df1, df2, df3, df4, df5 = np.array_split(airports, 5)\n",
    "\n",
    "df1[\"Type\"] = \"Very Large\"\n",
    "df2[\"Type\"] = \"Large\"\n",
    "df3['Type'] = \"Medium\"\n",
    "df4[\"Type\"] = \"Small\"\n",
    "df5[\"Type\"] = \"Very Small\"\n",
    "\n",
    "airport_type = pd.concat([df1,df2,df3,df4,df5]).drop(columns=[\"origin_airport_id\",\"dest_airport_id\"]).to_dict()['Type']\n",
    "\n",
    "flights_fe[\"origin_airport_type\"] = flights_fe.origin_airport_id.map(lambda x: airport_type[x] )\n",
    "flights_fe[\"dest_airport_type\"] = flights_fe.dest_airport_id.map(lambda x: airport_type[x] )"
   ]
  },
  {
   "cell_type": "code",
   "execution_count": 264,
   "id": "265d1655-57f0-4d2e-ab87-13f1b3cc4aae",
   "metadata": {},
   "outputs": [],
   "source": [
    "flights_fe.to_csv(r\"work_on_this.csv\",index=False)"
   ]
  },
  {
   "cell_type": "markdown",
   "id": "b42c1d43-33e1-423c-8d71-91d8d00ea21f",
   "metadata": {},
   "source": [
    "## number of inbound flights"
   ]
  },
  {
   "cell_type": "code",
   "execution_count": 254,
   "id": "fd32ddde-fcfc-423d-9657-b3e9d7fd5365",
   "metadata": {},
   "outputs": [],
   "source": [
    "from datetime import datetime"
   ]
  },
  {
   "cell_type": "code",
   "execution_count": 269,
   "id": "1fff324b-dba3-446d-8155-8b15f0a3ab41",
   "metadata": {},
   "outputs": [],
   "source": [
    "def get_num_inbound_flights_carrier(data,minutes=-60,percentages_to_print=[],num_row_processed=[0]):\n",
    "#     print(num_row_processed)\n",
    "    if num_row_processed[0] in percentages_to_print:\n",
    "        print(f\"{datetime.now().time()} : {100*num_row_processed[0]/total_num}% rows processed\")\n",
    "    \n",
    "    num_row_processed[0] = num_row_processed[0]+1\n",
    "    carrier = data.mkt_unique_carrier\n",
    "    airport = data.origin_airport_id\n",
    "    date = data.dep_date_time\n",
    "    fl_num = data.op_carrier_fl_num\n",
    "    date_diff = date + timedelta(minutes=minutes)\n",
    "#     inbound_flight_num = []\n",
    "    mask = ( \n",
    "    (flights_fe.mkt_unique_carrier==carrier) & (flights_fe.dest_airport_id==airport) & \n",
    "    (flights_fe.arr_date_time >= date_diff) & (flights_fe.arr_date_time <= date) & (flights_fe.op_carrier_fl_num != fl_num)\n",
    "       )\n",
    "    return flights_fe[mask].shape[0]\n",
    "#     data[\"num_inbound_flights\"] = inbound_flight_num\n",
    "#     return inbound_flight_num"
   ]
  },
  {
   "cell_type": "code",
   "execution_count": 270,
   "id": "afd7686a-d146-42e3-94c6-6b33f16711c1",
   "metadata": {},
   "outputs": [
    {
     "name": "stdout",
     "output_type": "stream",
     "text": [
      "05:32:19.069169 : 0.0% rows processed\n",
      "06:34:54.404303 : 10.000026520345083% rows processed\n",
      "07:33:44.414724 : 20.000053040690165% rows processed\n",
      "08:37:01.860405 : 29.999946959309835% rows processed\n",
      "09:41:03.836158 : 39.99997347965492% rows processed\n",
      "10:49:11.702286 : 50.0% rows processed\n",
      "11:54:04.992385 : 60.00002652034508% rows processed\n",
      "13:00:49.445227 : 70.00005304069016% rows processed\n",
      "14:06:54.264452 : 79.99994695930984% rows processed\n",
      "15:16:57.414459 : 89.99997347965491% rows processed\n"
     ]
    }
   ],
   "source": [
    "num_row_processed = [0]\n",
    "total_num = flights_fe.shape[0]\n",
    "percentages = np.round(np.linspace(0,total_num,11))\n",
    "flights_fe[\"inbound_flights\"] = flights_fe.apply(get_num_inbound_flights_carrier,axis=1,percentages_to_print=percentages,num_row_processed = num_row_processed)"
   ]
  },
  {
   "cell_type": "code",
   "execution_count": 271,
   "id": "281ce1cf-1aa0-46d2-b6a3-490079c9fced",
   "metadata": {},
   "outputs": [
    {
     "data": {
      "text/plain": [
       "(754138, 50)"
      ]
     },
     "execution_count": 271,
     "metadata": {},
     "output_type": "execute_result"
    }
   ],
   "source": [
    "flights_fe.shape"
   ]
  },
  {
   "cell_type": "code",
   "execution_count": 272,
   "id": "21b2ea04-de16-46ee-b18c-7d595ec8a423",
   "metadata": {},
   "outputs": [],
   "source": [
    "flights_fe.to_csv(r\"../data/sample_with_inbound_data.csv\",index=False)"
   ]
  },
  {
   "cell_type": "code",
   "execution_count": null,
   "id": "70aa4e72-cab3-41e5-add8-ed7bf5e4dbc9",
   "metadata": {},
   "outputs": [],
   "source": []
  },
  {
   "cell_type": "markdown",
   "id": "4f9f6656-2f82-4384-a321-03b62ddaaf2c",
   "metadata": {},
   "source": [
    "## Weather"
   ]
  },
  {
   "cell_type": "code",
   "execution_count": null,
   "id": "0603e49c-047d-476a-a3bd-00e2adcf0051",
   "metadata": {},
   "outputs": [],
   "source": []
  },
  {
   "cell_type": "code",
   "execution_count": null,
   "id": "3bc96e35-220f-475a-9808-e306dfb35a36",
   "metadata": {},
   "outputs": [],
   "source": []
  },
  {
   "cell_type": "markdown",
   "id": "8346720c-4f68-4ec5-ae19-fb8ea467e57c",
   "metadata": {},
   "source": [
    "# Drop Columns"
   ]
  },
  {
   "cell_type": "code",
   "execution_count": null,
   "id": "df6e8748-6b27-4d27-9e4b-e5e532dc8f41",
   "metadata": {},
   "outputs": [],
   "source": [
    "flights_dropped = flights_fe.copy()"
   ]
  },
  {
   "cell_type": "code",
   "execution_count": null,
   "id": "724684a7-9ffe-4fbd-91ce-e7ff81686122",
   "metadata": {},
   "outputs": [],
   "source": [
    "test_columns = [\"mkt_unique_carrier\",\"branded_code_share\",\n",
    "               \"mkt_carrier\",\"mkt_carrier_fl_num\",\n",
    "               \"op_unique_carrier\",\"tail_num\",\"op_carrier_fl_num\",\n",
    "               \"origin_airport_id\",\"origin\",\"origin_city_name\",\n",
    "               \"dest_airport_id\",\"dest\",\"dest_city_name\",\"crs_elapsed_time\",\n",
    "               \"flights\",\"distance\",\"arr_delay\",\"arr_date_time\",\"dep_date_time\"]\n",
    "\n",
    "columns_to_drop = set(flights_dropped.columns).difference(set(test_columns))\n",
    "flights_dropped = flights_dropped.drop(columns=columns_to_drop)"
   ]
  },
  {
   "cell_type": "code",
   "execution_count": null,
   "id": "1ea9df8e-4779-4239-9f9f-fd5e61a593ea",
   "metadata": {},
   "outputs": [],
   "source": [
    "repetitive_columns = [\"branded_code_share\",\"mkt_carrier\",\"tail_num\",\"mkt_carrier_fl_num\",\n",
    "                      \"origin\",\"origin_city_name\",\"dest\",\"dest_city_name\",\"flights\"]\n",
    "flights_dropped = flights_dropped.drop(columns=repetitive_columns)"
   ]
  },
  {
   "cell_type": "code",
   "execution_count": null,
   "id": "cc9c2431-4ac9-46d8-9430-a02e068e8b1c",
   "metadata": {},
   "outputs": [],
   "source": [
    "flights_dropped  = flights_dropped.drop(columns=[\"arr_date_time\",\"dep_date_time\"])\n",
    "flights_dropped.head()"
   ]
  },
  {
   "cell_type": "markdown",
   "id": "ca7fc352-e856-4b9f-97fc-55a02d4a893d",
   "metadata": {},
   "source": [
    "# Missing values"
   ]
  },
  {
   "cell_type": "code",
   "execution_count": 81,
   "id": "4da29122-fd96-4f4a-8996-a2b6134cbeff",
   "metadata": {},
   "outputs": [],
   "source": [
    "flights_no_missing = flights_modified.dropna()"
   ]
  },
  {
   "cell_type": "code",
   "execution_count": 82,
   "id": "e77d7e15-60eb-4aff-9f80-2da78078b1a1",
   "metadata": {},
   "outputs": [],
   "source": [
    "X,y = flights_no_missing.drop(columns=[\"arr_delay\"]), flights_no_missing[\"arr_delay\"]"
   ]
  },
  {
   "cell_type": "code",
   "execution_count": 83,
   "id": "883f60f3-5d25-46a2-aa9d-83d64e743074",
   "metadata": {},
   "outputs": [
    {
     "data": {
      "text/html": [
       "<div>\n",
       "<style scoped>\n",
       "    .dataframe tbody tr th:only-of-type {\n",
       "        vertical-align: middle;\n",
       "    }\n",
       "\n",
       "    .dataframe tbody tr th {\n",
       "        vertical-align: top;\n",
       "    }\n",
       "\n",
       "    .dataframe thead th {\n",
       "        text-align: right;\n",
       "    }\n",
       "</style>\n",
       "<table border=\"1\" class=\"dataframe\">\n",
       "  <thead>\n",
       "    <tr style=\"text-align: right;\">\n",
       "      <th></th>\n",
       "      <th>mkt_unique_carrier</th>\n",
       "      <th>op_unique_carrier</th>\n",
       "      <th>op_carrier_fl_num</th>\n",
       "      <th>crs_elapsed_time</th>\n",
       "      <th>distance</th>\n",
       "      <th>arr_month</th>\n",
       "      <th>arr_day_of_week</th>\n",
       "      <th>arr_hour</th>\n",
       "      <th>origin_airport_type</th>\n",
       "      <th>dest_airport_type</th>\n",
       "    </tr>\n",
       "  </thead>\n",
       "  <tbody>\n",
       "    <tr>\n",
       "      <th>0</th>\n",
       "      <td>DL</td>\n",
       "      <td>9E</td>\n",
       "      <td>5303</td>\n",
       "      <td>121.0</td>\n",
       "      <td>692.0</td>\n",
       "      <td>1</td>\n",
       "      <td>2</td>\n",
       "      <td>17</td>\n",
       "      <td>Very Large</td>\n",
       "      <td>Large</td>\n",
       "    </tr>\n",
       "    <tr>\n",
       "      <th>1</th>\n",
       "      <td>DL</td>\n",
       "      <td>9E</td>\n",
       "      <td>5443</td>\n",
       "      <td>126.0</td>\n",
       "      <td>692.0</td>\n",
       "      <td>1</td>\n",
       "      <td>4</td>\n",
       "      <td>17</td>\n",
       "      <td>Very Large</td>\n",
       "      <td>Large</td>\n",
       "    </tr>\n",
       "    <tr>\n",
       "      <th>2</th>\n",
       "      <td>DL</td>\n",
       "      <td>9E</td>\n",
       "      <td>5187</td>\n",
       "      <td>125.0</td>\n",
       "      <td>692.0</td>\n",
       "      <td>1</td>\n",
       "      <td>3</td>\n",
       "      <td>23</td>\n",
       "      <td>Very Large</td>\n",
       "      <td>Large</td>\n",
       "    </tr>\n",
       "    <tr>\n",
       "      <th>3</th>\n",
       "      <td>DL</td>\n",
       "      <td>9E</td>\n",
       "      <td>5443</td>\n",
       "      <td>126.0</td>\n",
       "      <td>692.0</td>\n",
       "      <td>1</td>\n",
       "      <td>3</td>\n",
       "      <td>17</td>\n",
       "      <td>Very Large</td>\n",
       "      <td>Large</td>\n",
       "    </tr>\n",
       "    <tr>\n",
       "      <th>5</th>\n",
       "      <td>DL</td>\n",
       "      <td>9E</td>\n",
       "      <td>5010</td>\n",
       "      <td>113.0</td>\n",
       "      <td>500.0</td>\n",
       "      <td>1</td>\n",
       "      <td>6</td>\n",
       "      <td>17</td>\n",
       "      <td>Very Large</td>\n",
       "      <td>Medium</td>\n",
       "    </tr>\n",
       "  </tbody>\n",
       "</table>\n",
       "</div>"
      ],
      "text/plain": [
       "  mkt_unique_carrier op_unique_carrier  op_carrier_fl_num  crs_elapsed_time  \\\n",
       "0                 DL                9E               5303             121.0   \n",
       "1                 DL                9E               5443             126.0   \n",
       "2                 DL                9E               5187             125.0   \n",
       "3                 DL                9E               5443             126.0   \n",
       "5                 DL                9E               5010             113.0   \n",
       "\n",
       "   distance  arr_month  arr_day_of_week  arr_hour origin_airport_type  \\\n",
       "0     692.0          1                2        17          Very Large   \n",
       "1     692.0          1                4        17          Very Large   \n",
       "2     692.0          1                3        23          Very Large   \n",
       "3     692.0          1                3        17          Very Large   \n",
       "5     500.0          1                6        17          Very Large   \n",
       "\n",
       "  dest_airport_type  \n",
       "0             Large  \n",
       "1             Large  \n",
       "2             Large  \n",
       "3             Large  \n",
       "5            Medium  "
      ]
     },
     "execution_count": 83,
     "metadata": {},
     "output_type": "execute_result"
    }
   ],
   "source": [
    "X.head()"
   ]
  },
  {
   "cell_type": "code",
   "execution_count": 84,
   "id": "3da42e00-e4c5-4379-86aa-f7b2b9040980",
   "metadata": {},
   "outputs": [
    {
     "data": {
      "text/plain": [
       "(738029, 10)"
      ]
     },
     "execution_count": 84,
     "metadata": {},
     "output_type": "execute_result"
    }
   ],
   "source": [
    "X.shape"
   ]
  },
  {
   "cell_type": "code",
   "execution_count": 85,
   "id": "566f2b0b-2274-432a-b51a-6ab59ac4c5eb",
   "metadata": {},
   "outputs": [
    {
     "data": {
      "text/plain": [
       "<AxesSubplot:>"
      ]
     },
     "execution_count": 85,
     "metadata": {},
     "output_type": "execute_result"
    },
    {
     "data": {
      "image/png": "[encoded data removed]",
      "text/plain": [
       "<Figure size 432x288 with 2 Axes>"
      ]
     },
     "metadata": {
      "needs_background": "light"
     },
     "output_type": "display_data"
    }
   ],
   "source": [
    "sns.heatmap(X.corr())"
   ]
  },
  {
   "cell_type": "code",
   "execution_count": 86,
   "id": "9008c7af-a67f-4da8-a87b-32ef8b7ab92b",
   "metadata": {},
   "outputs": [],
   "source": [
    "X.drop(columns=[\"arr_month\",\"arr_day_of_week\",\"arr_hour\"],inplace=True)"
   ]
  },
  {
   "cell_type": "code",
   "execution_count": null,
   "id": "b7d7e133-bfcc-4e4b-8e6e-4ecdf7454e6b",
   "metadata": {},
   "outputs": [],
   "source": []
  },
  {
   "cell_type": "markdown",
   "id": "f4a594c9-01d9-4eb7-91ac-655296d2a97e",
   "metadata": {},
   "source": [
    "# Preprocessing"
   ]
  },
  {
   "cell_type": "code",
   "execution_count": 114,
   "id": "a2ca3800-1503-4e28-ae0e-e2a6e520ab6e",
   "metadata": {},
   "outputs": [],
   "source": [
    "X_dummy = X.drop(columns=[\"op_carrier_fl_num\"])"
   ]
  },
  {
   "cell_type": "code",
   "execution_count": 115,
   "id": "57cf506e-163b-4ac3-b8a9-371bf31aca1f",
   "metadata": {},
   "outputs": [],
   "source": [
    "X_dummy = pd.get_dummies(data=X_dummy,columns=[\"mkt_unique_carrier\",\"op_unique_carrier\",\"origin_airport_type\",\n",
    "                                              \"dest_airport_type\"])"
   ]
  },
  {
   "cell_type": "code",
   "execution_count": 116,
   "id": "27bd655e-ad42-4d31-a4c5-c8925ba50b17",
   "metadata": {},
   "outputs": [
    {
     "data": {
      "text/plain": [
       "(738029, 48)"
      ]
     },
     "execution_count": 116,
     "metadata": {},
     "output_type": "execute_result"
    }
   ],
   "source": [
    "X_dummy.shape"
   ]
  },
  {
   "cell_type": "markdown",
   "id": "e0f35a01-c7b3-44f7-bb40-7cefaa68169d",
   "metadata": {},
   "source": [
    "# Model"
   ]
  },
  {
   "cell_type": "code",
   "execution_count": 117,
   "id": "12898719-ed09-4961-af1d-be9456df7b9f",
   "metadata": {},
   "outputs": [],
   "source": [
    "from sklearn.model_selection import train_test_split,GridSearchCV\n",
    "from sklearn.preprocessing import StandardScaler\n",
    "from sklearn.linear_model import LinearRegression\n",
    "from sklearn.metrics import r2_score,mean_absolute_error,mean_squared_error"
   ]
  },
  {
   "cell_type": "code",
   "execution_count": 118,
   "id": "4e86310e-5d76-44fe-9a69-47ad597c86f4",
   "metadata": {},
   "outputs": [],
   "source": [
    "X_train,X_test,y_train,y_test = train_test_split(X_dummy,y,train_size=0.7,random_state=1234)"
   ]
  },
  {
   "cell_type": "code",
   "execution_count": 119,
   "id": "c694b01e-ebc5-4d46-90c7-5ac27eaa685f",
   "metadata": {},
   "outputs": [],
   "source": [
    "# X_train = StandardScaler().fit_transform(X_train)\n",
    "# X_test = StandardScaler().fit_transform(X_test)"
   ]
  },
  {
   "cell_type": "code",
   "execution_count": 120,
   "id": "01dfc557-0002-434b-8714-3d1863944a8e",
   "metadata": {},
   "outputs": [
    {
     "data": {
      "text/plain": [
       "GridSearchCV(estimator=LinearRegression(), param_grid={})"
      ]
     },
     "execution_count": 120,
     "metadata": {},
     "output_type": "execute_result"
    }
   ],
   "source": [
    "reg = LinearRegression()\n",
    "model = GridSearchCV(reg,param_grid={})\n",
    "model.fit(X_train,y_train)"
   ]
  },
  {
   "cell_type": "code",
   "execution_count": 121,
   "id": "f194374a-7c4b-46d9-8527-18658ff1d0dc",
   "metadata": {},
   "outputs": [],
   "source": [
    "y_pred = model.predict(X_test)"
   ]
  },
  {
   "cell_type": "code",
   "execution_count": 122,
   "id": "59bd5336-0f26-4c88-b4df-a673ef246265",
   "metadata": {},
   "outputs": [
    {
     "name": "stdout",
     "output_type": "stream",
     "text": [
      "0.005969444783164413\n"
     ]
    }
   ],
   "source": [
    "print(r2_score(y_test,y_pred))"
   ]
  },
  {
   "cell_type": "code",
   "execution_count": 104,
   "id": "3e6df43b-6dbb-4017-8c96-15b6d5ccb389",
   "metadata": {},
   "outputs": [
    {
     "name": "stdout",
     "output_type": "stream",
     "text": [
      "2673.8956387244293\n"
     ]
    }
   ],
   "source": [
    "print(mean_squared_error(y_test,y_pred))"
   ]
  },
  {
   "cell_type": "code",
   "execution_count": 105,
   "id": "a88253d1-3b0d-4eb9-b320-0bd4c3002571",
   "metadata": {},
   "outputs": [
    {
     "name": "stdout",
     "output_type": "stream",
     "text": [
      "25.21647273810712\n"
     ]
    }
   ],
   "source": [
    "print(mean_absolute_error(y_test,y_pred))"
   ]
  },
  {
   "cell_type": "markdown",
   "id": "18e7dc5d-8e1f-4146-a6c5-7de7f509bd13",
   "metadata": {},
   "source": []
  },
  {
   "cell_type": "code",
   "execution_count": null,
   "id": "0342d176-09c3-46b9-99aa-612e03dcebf9",
   "metadata": {},
   "outputs": [],
   "source": []
  },
  {
   "cell_type": "markdown",
   "id": "da801a98-8ad2-4bda-b451-fcf4b815ecfb",
   "metadata": {},
   "source": [
    "# Feature Reduction"
   ]
  },
  {
   "cell_type": "code",
   "execution_count": 70,
   "id": "87d43c3d-e229-40ab-ab69-71b1b1870134",
   "metadata": {},
   "outputs": [],
   "source": [
    "from sklearn.decomposition import PCA"
   ]
  },
  {
   "cell_type": "code",
   "execution_count": 78,
   "id": "30c1e7fd-4657-474d-9a20-2eeda7d61f54",
   "metadata": {},
   "outputs": [],
   "source": [
    "X_scaled = StandardScaler().fit_transform(X)"
   ]
  },
  {
   "cell_type": "code",
   "execution_count": 80,
   "id": "d6689a64-88bd-455d-b91e-adc4ad7c7384",
   "metadata": {},
   "outputs": [
    {
     "data": {
      "text/plain": [
       "PCA(n_components=50)"
      ]
     },
     "execution_count": 80,
     "metadata": {},
     "output_type": "execute_result"
    }
   ],
   "source": [
    "pca = PCA(n_components=len(X.columns))\n",
    "pca.fit(X_scaled)"
   ]
  },
  {
   "cell_type": "code",
   "execution_count": 81,
   "id": "4802cc55-7c92-47c4-bf8e-8c6ebc953c7c",
   "metadata": {},
   "outputs": [
    {
     "data": {
      "text/plain": [
       "array([0.06401608, 0.11578881, 0.16473185, 0.21140162, 0.25611906,\n",
       "       0.30017578, 0.34382995, 0.38729323, 0.43070383, 0.47317132,\n",
       "       0.51542511, 0.55537564, 0.59137913, 0.61736711, 0.64247181,\n",
       "       0.66536188, 0.6878839 , 0.71020639, 0.73232705, 0.75433606,\n",
       "       0.77613126, 0.79778578, 0.81937622, 0.84091085, 0.86240036,\n",
       "       0.88384086, 0.9051753 , 0.92646569, 0.9473383 , 0.96606164,\n",
       "       0.98192176, 0.9883666 , 0.99254804, 0.99581082, 0.99827046,\n",
       "       0.99969563, 1.        , 1.        , 1.        , 1.        ,\n",
       "       1.        , 1.        , 1.        , 1.        , 1.        ,\n",
       "       1.        , 1.        , 1.        , 1.        , 1.        ])"
      ]
     },
     "execution_count": 81,
     "metadata": {},
     "output_type": "execute_result"
    }
   ],
   "source": [
    "pca.explained_variance_ratio_.cumsum()"
   ]
  },
  {
   "cell_type": "code",
   "execution_count": 87,
   "id": "14665d34-3316-4455-b176-2b56997c13f0",
   "metadata": {},
   "outputs": [],
   "source": [
    "pca = PCA(n_components=32)\n",
    "X_pca = pd.DataFrame(pca.fit_transform(X_scaled),columns=[f\"PCA_{value}\" for value in range(1,33)])"
   ]
  },
  {
   "cell_type": "markdown",
   "id": "eeb0ba29-1724-4291-b094-450267314852",
   "metadata": {},
   "source": [
    "## Model"
   ]
  },
  {
   "cell_type": "code",
   "execution_count": 88,
   "id": "bac8060f-a163-4d2f-ac43-0b7ef3d100df",
   "metadata": {},
   "outputs": [],
   "source": [
    "X_train,X_test,y_train,y_test = train_test_split(X_pca,y,train_size=0.7,random_state=1234)"
   ]
  },
  {
   "cell_type": "code",
   "execution_count": 89,
   "id": "723fa6dd-54be-4054-a60d-409d39b26264",
   "metadata": {},
   "outputs": [
    {
     "data": {
      "text/plain": [
       "GridSearchCV(estimator=LinearRegression(), param_grid={})"
      ]
     },
     "execution_count": 89,
     "metadata": {},
     "output_type": "execute_result"
    }
   ],
   "source": [
    "reg = LinearRegression()\n",
    "model = GridSearchCV(reg,param_grid={})\n",
    "model.fit(X_train,y_train)"
   ]
  },
  {
   "cell_type": "code",
   "execution_count": 90,
   "id": "5e28ce07-7f76-49ac-9695-2358620929aa",
   "metadata": {},
   "outputs": [
    {
     "name": "stdout",
     "output_type": "stream",
     "text": [
      "0.01553651913357923\n"
     ]
    }
   ],
   "source": [
    "y_pred = model.predict(X_test)\n",
    "print(r2_score(y_test,y_pred))"
   ]
  },
  {
   "cell_type": "code",
   "execution_count": null,
   "id": "6cfbb29c-542a-44fa-9c41-cf19b06863b3",
   "metadata": {},
   "outputs": [],
   "source": []
  }
 ],
 "metadata": {
  "kernelspec": {
   "display_name": "geo_env",
   "language": "python",
   "name": "geo_env"
  },
  "language_info": {
   "codemirror_mode": {
    "name": "ipython",
    "version": 3
   },
   "file_extension": ".py",
   "mimetype": "text/x-python",
   "name": "python",
   "nbconvert_exporter": "python",
   "pygments_lexer": "ipython3",
   "version": "3.9.6"
  }
 },
 "nbformat": 4,
 "nbformat_minor": 5
}
