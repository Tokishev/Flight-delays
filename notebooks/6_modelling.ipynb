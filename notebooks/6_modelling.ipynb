{
 "cells": [
  {
   "cell_type": "code",
   "execution_count": 1,
   "id": "af2ce315-683b-4bc5-b53e-547d1abc69c2",
   "metadata": {},
   "outputs": [],
   "source": [
    "import pandas as pd\n",
    "import numpy as np\n",
    "from datetime import datetime,timedelta\n",
    "import seaborn as sns"
   ]
  },
  {
   "cell_type": "code",
   "execution_count": 2,
   "id": "5330a11b-fe51-4d2e-871f-59ef7e574982",
   "metadata": {},
   "outputs": [],
   "source": [
    "flights_fe = pd.read_csv(r\"../data/sample_with_inbound_data.csv\")"
   ]
  },
  {
   "cell_type": "code",
   "execution_count": 3,
   "id": "602eec76-6aab-421e-bcfa-1d6ea404b906",
   "metadata": {},
   "outputs": [],
   "source": [
    "data = pd.read_csv(r\"../data/faa_airport_details.csv\")\n",
    "data = data.set_index(\"airport_code\")"
   ]
  },
  {
   "cell_type": "code",
   "execution_count": 4,
   "id": "c072c940-45ef-497f-95d9-f1a3fc57d684",
   "metadata": {},
   "outputs": [
    {
     "data": {
      "text/html": [
       "<div>\n",
       "<style scoped>\n",
       "    .dataframe tbody tr th:only-of-type {\n",
       "        vertical-align: middle;\n",
       "    }\n",
       "\n",
       "    .dataframe tbody tr th {\n",
       "        vertical-align: top;\n",
       "    }\n",
       "\n",
       "    .dataframe thead th {\n",
       "        text-align: right;\n",
       "    }\n",
       "</style>\n",
       "<table border=\"1\" class=\"dataframe\">\n",
       "  <thead>\n",
       "    <tr style=\"text-align: right;\">\n",
       "      <th></th>\n",
       "      <th>fl_date</th>\n",
       "      <th>mkt_unique_carrier</th>\n",
       "      <th>branded_code_share</th>\n",
       "      <th>mkt_carrier</th>\n",
       "      <th>mkt_carrier_fl_num</th>\n",
       "      <th>op_unique_carrier</th>\n",
       "      <th>tail_num</th>\n",
       "      <th>op_carrier_fl_num</th>\n",
       "      <th>origin_airport_id</th>\n",
       "      <th>origin</th>\n",
       "      <th>...</th>\n",
       "      <th>longest_add_gtime</th>\n",
       "      <th>no_name</th>\n",
       "      <th>arr_date_time</th>\n",
       "      <th>dep_date_time</th>\n",
       "      <th>arr_month</th>\n",
       "      <th>origin_airport_type</th>\n",
       "      <th>dest_airport_type</th>\n",
       "      <th>arr_day_of_week</th>\n",
       "      <th>arr_hour</th>\n",
       "      <th>inbound_flights</th>\n",
       "    </tr>\n",
       "  </thead>\n",
       "  <tbody>\n",
       "    <tr>\n",
       "      <th>0</th>\n",
       "      <td>2019-01-02</td>\n",
       "      <td>DL</td>\n",
       "      <td>DL_CODESHARE</td>\n",
       "      <td>DL</td>\n",
       "      <td>5303</td>\n",
       "      <td>9E</td>\n",
       "      <td>N606LR</td>\n",
       "      <td>5303</td>\n",
       "      <td>10397</td>\n",
       "      <td>ATL</td>\n",
       "      <td>...</td>\n",
       "      <td>NaN</td>\n",
       "      <td>NaN</td>\n",
       "      <td>2019-01-02 17:14:00</td>\n",
       "      <td>2019-01-02 15:13:00</td>\n",
       "      <td>1</td>\n",
       "      <td>Very Large</td>\n",
       "      <td>Large</td>\n",
       "      <td>2</td>\n",
       "      <td>17</td>\n",
       "      <td>4</td>\n",
       "    </tr>\n",
       "    <tr>\n",
       "      <th>1</th>\n",
       "      <td>2019-01-25</td>\n",
       "      <td>DL</td>\n",
       "      <td>DL_CODESHARE</td>\n",
       "      <td>DL</td>\n",
       "      <td>5443</td>\n",
       "      <td>9E</td>\n",
       "      <td>N905XJ</td>\n",
       "      <td>5443</td>\n",
       "      <td>10397</td>\n",
       "      <td>ATL</td>\n",
       "      <td>...</td>\n",
       "      <td>NaN</td>\n",
       "      <td>NaN</td>\n",
       "      <td>2019-01-25 17:18:00</td>\n",
       "      <td>2019-01-25 15:12:00</td>\n",
       "      <td>1</td>\n",
       "      <td>Very Large</td>\n",
       "      <td>Large</td>\n",
       "      <td>4</td>\n",
       "      <td>17</td>\n",
       "      <td>6</td>\n",
       "    </tr>\n",
       "    <tr>\n",
       "      <th>2</th>\n",
       "      <td>2019-01-03</td>\n",
       "      <td>DL</td>\n",
       "      <td>DL_CODESHARE</td>\n",
       "      <td>DL</td>\n",
       "      <td>5187</td>\n",
       "      <td>9E</td>\n",
       "      <td>N195PQ</td>\n",
       "      <td>5187</td>\n",
       "      <td>10397</td>\n",
       "      <td>ATL</td>\n",
       "      <td>...</td>\n",
       "      <td>NaN</td>\n",
       "      <td>NaN</td>\n",
       "      <td>2019-01-03 23:35:00</td>\n",
       "      <td>2019-01-03 21:30:00</td>\n",
       "      <td>1</td>\n",
       "      <td>Very Large</td>\n",
       "      <td>Large</td>\n",
       "      <td>3</td>\n",
       "      <td>23</td>\n",
       "      <td>4</td>\n",
       "    </tr>\n",
       "    <tr>\n",
       "      <th>3</th>\n",
       "      <td>2019-01-17</td>\n",
       "      <td>DL</td>\n",
       "      <td>DL_CODESHARE</td>\n",
       "      <td>DL</td>\n",
       "      <td>5443</td>\n",
       "      <td>9E</td>\n",
       "      <td>N310PQ</td>\n",
       "      <td>5443</td>\n",
       "      <td>10397</td>\n",
       "      <td>ATL</td>\n",
       "      <td>...</td>\n",
       "      <td>NaN</td>\n",
       "      <td>NaN</td>\n",
       "      <td>2019-01-17 17:18:00</td>\n",
       "      <td>2019-01-17 15:12:00</td>\n",
       "      <td>1</td>\n",
       "      <td>Very Large</td>\n",
       "      <td>Large</td>\n",
       "      <td>3</td>\n",
       "      <td>17</td>\n",
       "      <td>7</td>\n",
       "    </tr>\n",
       "    <tr>\n",
       "      <th>4</th>\n",
       "      <td>2019-01-29</td>\n",
       "      <td>DL</td>\n",
       "      <td>DL_CODESHARE</td>\n",
       "      <td>DL</td>\n",
       "      <td>5023</td>\n",
       "      <td>9E</td>\n",
       "      <td>N8928A</td>\n",
       "      <td>5023</td>\n",
       "      <td>10397</td>\n",
       "      <td>ATL</td>\n",
       "      <td>...</td>\n",
       "      <td>NaN</td>\n",
       "      <td>NaN</td>\n",
       "      <td>2019-01-29 14:45:00</td>\n",
       "      <td>2019-01-29 13:50:00</td>\n",
       "      <td>1</td>\n",
       "      <td>Very Large</td>\n",
       "      <td>Medium</td>\n",
       "      <td>1</td>\n",
       "      <td>14</td>\n",
       "      <td>12</td>\n",
       "    </tr>\n",
       "  </tbody>\n",
       "</table>\n",
       "<p>5 rows × 50 columns</p>\n",
       "</div>"
      ],
      "text/plain": [
       "      fl_date mkt_unique_carrier branded_code_share mkt_carrier  \\\n",
       "0  2019-01-02                 DL       DL_CODESHARE          DL   \n",
       "1  2019-01-25                 DL       DL_CODESHARE          DL   \n",
       "2  2019-01-03                 DL       DL_CODESHARE          DL   \n",
       "3  2019-01-17                 DL       DL_CODESHARE          DL   \n",
       "4  2019-01-29                 DL       DL_CODESHARE          DL   \n",
       "\n",
       "   mkt_carrier_fl_num op_unique_carrier tail_num  op_carrier_fl_num  \\\n",
       "0                5303                9E   N606LR               5303   \n",
       "1                5443                9E   N905XJ               5443   \n",
       "2                5187                9E   N195PQ               5187   \n",
       "3                5443                9E   N310PQ               5443   \n",
       "4                5023                9E   N8928A               5023   \n",
       "\n",
       "   origin_airport_id origin  ... longest_add_gtime  no_name  \\\n",
       "0              10397    ATL  ...               NaN      NaN   \n",
       "1              10397    ATL  ...               NaN      NaN   \n",
       "2              10397    ATL  ...               NaN      NaN   \n",
       "3              10397    ATL  ...               NaN      NaN   \n",
       "4              10397    ATL  ...               NaN      NaN   \n",
       "\n",
       "         arr_date_time        dep_date_time  arr_month  origin_airport_type  \\\n",
       "0  2019-01-02 17:14:00  2019-01-02 15:13:00          1           Very Large   \n",
       "1  2019-01-25 17:18:00  2019-01-25 15:12:00          1           Very Large   \n",
       "2  2019-01-03 23:35:00  2019-01-03 21:30:00          1           Very Large   \n",
       "3  2019-01-17 17:18:00  2019-01-17 15:12:00          1           Very Large   \n",
       "4  2019-01-29 14:45:00  2019-01-29 13:50:00          1           Very Large   \n",
       "\n",
       "   dest_airport_type  arr_day_of_week  arr_hour  inbound_flights  \n",
       "0              Large                2        17                4  \n",
       "1              Large                4        17                6  \n",
       "2              Large                3        23                4  \n",
       "3              Large                3        17                7  \n",
       "4             Medium                1        14               12  \n",
       "\n",
       "[5 rows x 50 columns]"
      ]
     },
     "execution_count": 4,
     "metadata": {},
     "output_type": "execute_result"
    }
   ],
   "source": [
    "flights_fe.head()"
   ]
  },
  {
   "cell_type": "code",
   "execution_count": 63,
   "id": "3632342b-3abb-401d-b720-29d239c52a8f",
   "metadata": {},
   "outputs": [
    {
     "data": {
      "text/plain": [
       "<AxesSubplot:ylabel='arr_delay'>"
      ]
     },
     "execution_count": 63,
     "metadata": {},
     "output_type": "execute_result"
    },
    {
     "data": {
      "image/png": "[encoded data removed]",
      "text/plain": [
       "<Figure size 432x288 with 1 Axes>"
      ]
     },
     "metadata": {
      "needs_background": "light"
     },
     "output_type": "display_data"
    }
   ],
   "source": [
    "sns.boxplot(y=flights_fe.arr_delay)"
   ]
  },
  {
   "cell_type": "code",
   "execution_count": null,
   "id": "29bb71a9-b16b-4b6e-a82f-a95da87479bc",
   "metadata": {},
   "outputs": [],
   "source": []
  },
  {
   "cell_type": "code",
   "execution_count": 6,
   "id": "d7cc7a6c-edfc-4982-a8f9-11173e1d6e91",
   "metadata": {},
   "outputs": [],
   "source": [
    "flights_fe = flights_fe.astype({'dep_date_time':'datetime64[ns]','arr_date_time':'datetime64[ns]'})"
   ]
  },
  {
   "cell_type": "code",
   "execution_count": 7,
   "id": "dbe9250f-8e98-4891-841a-f6492513203d",
   "metadata": {},
   "outputs": [],
   "source": [
    "data = data.drop(columns=['site_id', 'npias_no','airport_status','lat', 'lon', 'city', 'county',\n",
    "                         'variation',\n",
    "       'last_inspection_date','operations_annual_ending','elevation','air_carrier_annual'])"
   ]
  },
  {
   "cell_type": "code",
   "execution_count": 8,
   "id": "93cf3a98-e378-4745-8c9a-730b9af3271b",
   "metadata": {},
   "outputs": [
    {
     "data": {
      "text/html": [
       "<div>\n",
       "<style scoped>\n",
       "    .dataframe tbody tr th:only-of-type {\n",
       "        vertical-align: middle;\n",
       "    }\n",
       "\n",
       "    .dataframe tbody tr th {\n",
       "        vertical-align: top;\n",
       "    }\n",
       "\n",
       "    .dataframe thead th {\n",
       "        text-align: right;\n",
       "    }\n",
       "</style>\n",
       "<table border=\"1\" class=\"dataframe\">\n",
       "  <thead>\n",
       "    <tr style=\"text-align: right;\">\n",
       "      <th></th>\n",
       "      <th>service_level</th>\n",
       "      <th>hub_type</th>\n",
       "      <th>ownership_status</th>\n",
       "      <th>facility_use</th>\n",
       "      <th>area</th>\n",
       "      <th>fss_on_airport</th>\n",
       "      <th>beacon_color</th>\n",
       "      <th>total_operations_annual</th>\n",
       "    </tr>\n",
       "    <tr>\n",
       "      <th>airport_code</th>\n",
       "      <th></th>\n",
       "      <th></th>\n",
       "      <th></th>\n",
       "      <th></th>\n",
       "      <th></th>\n",
       "      <th></th>\n",
       "      <th></th>\n",
       "      <th></th>\n",
       "    </tr>\n",
       "  </thead>\n",
       "  <tbody>\n",
       "    <tr>\n",
       "      <th>HRL</th>\n",
       "      <td>Primary</td>\n",
       "      <td>Non-Hub</td>\n",
       "      <td>PUBLIC</td>\n",
       "      <td>PUBLIC</td>\n",
       "      <td>2428.0</td>\n",
       "      <td>NO</td>\n",
       "      <td>Clear and Green</td>\n",
       "      <td>41927</td>\n",
       "    </tr>\n",
       "    <tr>\n",
       "      <th>MOT</th>\n",
       "      <td>Primary</td>\n",
       "      <td>Non-Hub</td>\n",
       "      <td>PUBLIC</td>\n",
       "      <td>PUBLIC</td>\n",
       "      <td>1563.0</td>\n",
       "      <td>NO</td>\n",
       "      <td>Clear and Green</td>\n",
       "      <td>34586</td>\n",
       "    </tr>\n",
       "    <tr>\n",
       "      <th>IAH</th>\n",
       "      <td>Primary</td>\n",
       "      <td>Large</td>\n",
       "      <td>PUBLIC</td>\n",
       "      <td>PUBLIC</td>\n",
       "      <td>10000.0</td>\n",
       "      <td>NO</td>\n",
       "      <td>Clear and Green</td>\n",
       "      <td>251255</td>\n",
       "    </tr>\n",
       "    <tr>\n",
       "      <th>ROW</th>\n",
       "      <td>Primary</td>\n",
       "      <td>Non-Hub</td>\n",
       "      <td>PUBLIC</td>\n",
       "      <td>PUBLIC</td>\n",
       "      <td>5029.0</td>\n",
       "      <td>NO</td>\n",
       "      <td>Clear and Green</td>\n",
       "      <td>30005</td>\n",
       "    </tr>\n",
       "    <tr>\n",
       "      <th>PVD</th>\n",
       "      <td>Primary</td>\n",
       "      <td>Small</td>\n",
       "      <td>PUBLIC</td>\n",
       "      <td>PUBLIC</td>\n",
       "      <td>1111.0</td>\n",
       "      <td>NO</td>\n",
       "      <td>Clear and Green</td>\n",
       "      <td>72410</td>\n",
       "    </tr>\n",
       "  </tbody>\n",
       "</table>\n",
       "</div>"
      ],
      "text/plain": [
       "             service_level hub_type ownership_status facility_use     area  \\\n",
       "airport_code                                                                 \n",
       "HRL                Primary  Non-Hub           PUBLIC       PUBLIC   2428.0   \n",
       "MOT                Primary  Non-Hub           PUBLIC       PUBLIC   1563.0   \n",
       "IAH                Primary    Large           PUBLIC       PUBLIC  10000.0   \n",
       "ROW                Primary  Non-Hub           PUBLIC       PUBLIC   5029.0   \n",
       "PVD                Primary    Small           PUBLIC       PUBLIC   1111.0   \n",
       "\n",
       "             fss_on_airport     beacon_color  total_operations_annual  \n",
       "airport_code                                                           \n",
       "HRL                      NO  Clear and Green                    41927  \n",
       "MOT                      NO  Clear and Green                    34586  \n",
       "IAH                      NO  Clear and Green                   251255  \n",
       "ROW                      NO  Clear and Green                    30005  \n",
       "PVD                      NO  Clear and Green                    72410  "
      ]
     },
     "execution_count": 8,
     "metadata": {},
     "output_type": "execute_result"
    }
   ],
   "source": [
    "data.head()"
   ]
  },
  {
   "cell_type": "code",
   "execution_count": 9,
   "id": "7cf017e8-96e0-4ea6-aa6a-9f6440fd730c",
   "metadata": {},
   "outputs": [
    {
     "data": {
      "text/plain": [
       "<AxesSubplot:>"
      ]
     },
     "execution_count": 9,
     "metadata": {},
     "output_type": "execute_result"
    },
    {
     "data": {
      "image/png": "[encoded data removed]",
      "text/plain": [
       "<Figure size 432x288 with 2 Axes>"
      ]
     },
     "metadata": {
      "needs_background": "light"
     },
     "output_type": "display_data"
    }
   ],
   "source": [
    "sns.heatmap(data.corr())"
   ]
  },
  {
   "cell_type": "markdown",
   "id": "196c7adb-b18a-49f0-bf96-7f050bcf359f",
   "metadata": {},
   "source": [
    "## Preprocessing"
   ]
  },
  {
   "cell_type": "code",
   "execution_count": 91,
   "id": "3248aa07-225a-4750-acf9-f92b8010123d",
   "metadata": {},
   "outputs": [],
   "source": [
    "flights_dropped = flights_fe.copy()"
   ]
  },
  {
   "cell_type": "code",
   "execution_count": 92,
   "id": "5ea02f22-daf0-461a-b38a-ff016fe9e550",
   "metadata": {},
   "outputs": [],
   "source": [
    "test_columns = [\"mkt_unique_carrier\",\"branded_code_share\",\n",
    "               \"mkt_carrier\",\"mkt_carrier_fl_num\",\n",
    "               \"op_unique_carrier\",\"tail_num\",\"op_carrier_fl_num\",\n",
    "               \"origin_airport_id\",\"origin\",\"origin_city_name\",\n",
    "               \"dest_airport_id\",\"dest\",\"dest_city_name\",\"crs_elapsed_time\",\n",
    "               \"flights\",\"distance\",\"arr_delay\",\"arr_date_time\",\"dep_date_time\"]\n",
    "\n",
    "features_engineered = [\"inbound_flights\"]\n",
    "\n",
    "\n",
    "\n",
    "columns_to_drop = set(flights_dropped.columns).difference(set(test_columns+features_engineered))\n",
    "flights_dropped = flights_dropped.drop(columns=columns_to_drop)"
   ]
  },
  {
   "cell_type": "code",
   "execution_count": 93,
   "id": "9cc708a2-5c34-4b48-a76a-c52825ebf7bb",
   "metadata": {},
   "outputs": [],
   "source": [
    "repetitive_columns = [\"branded_code_share\",\"mkt_carrier\",\"tail_num\",\"mkt_carrier_fl_num\",\n",
    "                      \"origin_airport_id\",\"dest_airport_id\",\"flights\"]\n",
    "flights_dropped = flights_dropped.drop(columns=repetitive_columns)"
   ]
  },
  {
   "cell_type": "code",
   "execution_count": 94,
   "id": "30ea7266-7f3e-44ab-ae56-cdf9b216f8f8",
   "metadata": {},
   "outputs": [
    {
     "data": {
      "text/html": [
       "<div>\n",
       "<style scoped>\n",
       "    .dataframe tbody tr th:only-of-type {\n",
       "        vertical-align: middle;\n",
       "    }\n",
       "\n",
       "    .dataframe tbody tr th {\n",
       "        vertical-align: top;\n",
       "    }\n",
       "\n",
       "    .dataframe thead th {\n",
       "        text-align: right;\n",
       "    }\n",
       "</style>\n",
       "<table border=\"1\" class=\"dataframe\">\n",
       "  <thead>\n",
       "    <tr style=\"text-align: right;\">\n",
       "      <th></th>\n",
       "      <th>mkt_unique_carrier</th>\n",
       "      <th>op_unique_carrier</th>\n",
       "      <th>op_carrier_fl_num</th>\n",
       "      <th>origin</th>\n",
       "      <th>origin_city_name</th>\n",
       "      <th>dest</th>\n",
       "      <th>dest_city_name</th>\n",
       "      <th>arr_delay</th>\n",
       "      <th>crs_elapsed_time</th>\n",
       "      <th>distance</th>\n",
       "      <th>inbound_flights</th>\n",
       "    </tr>\n",
       "  </thead>\n",
       "  <tbody>\n",
       "    <tr>\n",
       "      <th>0</th>\n",
       "      <td>DL</td>\n",
       "      <td>9E</td>\n",
       "      <td>5303</td>\n",
       "      <td>ATL</td>\n",
       "      <td>Atlanta, GA</td>\n",
       "      <td>ABE</td>\n",
       "      <td>Allentown/Bethlehem/Easton, PA</td>\n",
       "      <td>-17.0</td>\n",
       "      <td>121.0</td>\n",
       "      <td>692.0</td>\n",
       "      <td>4</td>\n",
       "    </tr>\n",
       "    <tr>\n",
       "      <th>1</th>\n",
       "      <td>DL</td>\n",
       "      <td>9E</td>\n",
       "      <td>5443</td>\n",
       "      <td>ATL</td>\n",
       "      <td>Atlanta, GA</td>\n",
       "      <td>ABE</td>\n",
       "      <td>Allentown/Bethlehem/Easton, PA</td>\n",
       "      <td>-13.0</td>\n",
       "      <td>126.0</td>\n",
       "      <td>692.0</td>\n",
       "      <td>6</td>\n",
       "    </tr>\n",
       "    <tr>\n",
       "      <th>2</th>\n",
       "      <td>DL</td>\n",
       "      <td>9E</td>\n",
       "      <td>5187</td>\n",
       "      <td>ATL</td>\n",
       "      <td>Atlanta, GA</td>\n",
       "      <td>ABE</td>\n",
       "      <td>Allentown/Bethlehem/Easton, PA</td>\n",
       "      <td>-17.0</td>\n",
       "      <td>125.0</td>\n",
       "      <td>692.0</td>\n",
       "      <td>4</td>\n",
       "    </tr>\n",
       "    <tr>\n",
       "      <th>3</th>\n",
       "      <td>DL</td>\n",
       "      <td>9E</td>\n",
       "      <td>5443</td>\n",
       "      <td>ATL</td>\n",
       "      <td>Atlanta, GA</td>\n",
       "      <td>ABE</td>\n",
       "      <td>Allentown/Bethlehem/Easton, PA</td>\n",
       "      <td>-8.0</td>\n",
       "      <td>126.0</td>\n",
       "      <td>692.0</td>\n",
       "      <td>7</td>\n",
       "    </tr>\n",
       "    <tr>\n",
       "      <th>4</th>\n",
       "      <td>DL</td>\n",
       "      <td>9E</td>\n",
       "      <td>5023</td>\n",
       "      <td>ATL</td>\n",
       "      <td>Atlanta, GA</td>\n",
       "      <td>AEX</td>\n",
       "      <td>Alexandria, LA</td>\n",
       "      <td>NaN</td>\n",
       "      <td>115.0</td>\n",
       "      <td>500.0</td>\n",
       "      <td>12</td>\n",
       "    </tr>\n",
       "  </tbody>\n",
       "</table>\n",
       "</div>"
      ],
      "text/plain": [
       "  mkt_unique_carrier op_unique_carrier  op_carrier_fl_num origin  \\\n",
       "0                 DL                9E               5303    ATL   \n",
       "1                 DL                9E               5443    ATL   \n",
       "2                 DL                9E               5187    ATL   \n",
       "3                 DL                9E               5443    ATL   \n",
       "4                 DL                9E               5023    ATL   \n",
       "\n",
       "  origin_city_name dest                  dest_city_name  arr_delay  \\\n",
       "0      Atlanta, GA  ABE  Allentown/Bethlehem/Easton, PA      -17.0   \n",
       "1      Atlanta, GA  ABE  Allentown/Bethlehem/Easton, PA      -13.0   \n",
       "2      Atlanta, GA  ABE  Allentown/Bethlehem/Easton, PA      -17.0   \n",
       "3      Atlanta, GA  ABE  Allentown/Bethlehem/Easton, PA       -8.0   \n",
       "4      Atlanta, GA  AEX                  Alexandria, LA        NaN   \n",
       "\n",
       "   crs_elapsed_time  distance  inbound_flights  \n",
       "0             121.0     692.0                4  \n",
       "1             126.0     692.0                6  \n",
       "2             125.0     692.0                4  \n",
       "3             126.0     692.0                7  \n",
       "4             115.0     500.0               12  "
      ]
     },
     "execution_count": 94,
     "metadata": {},
     "output_type": "execute_result"
    }
   ],
   "source": [
    "flights_dropped  = flights_dropped.drop(columns=[\"arr_date_time\",\"dep_date_time\"])\n",
    "flights_dropped.head()"
   ]
  },
  {
   "cell_type": "code",
   "execution_count": 95,
   "id": "f71740a2-4668-4d81-9c59-1ad0c31963e0",
   "metadata": {},
   "outputs": [],
   "source": [
    "flights_or = pd.merge(left=flights_dropped,right=data,right_index=True,left_on='origin')"
   ]
  },
  {
   "cell_type": "code",
   "execution_count": 96,
   "id": "0f05e89a-20dd-4535-8d55-7d88a40c99e3",
   "metadata": {},
   "outputs": [],
   "source": [
    "flights_dest = pd.merge(left=flights_or,right=data,right_index=True,left_on='dest',suffixes=(\"_or\",\"_des\"))"
   ]
  },
  {
   "cell_type": "code",
   "execution_count": 97,
   "id": "d9fc8b79-f5d3-466c-bc55-eb1524518ee9",
   "metadata": {},
   "outputs": [],
   "source": [
    "flights_dest[\"origin_state\"] = flights_dest.origin_city_name.map(lambda x: x.split(\", \")[1])\n",
    "flights_dest[\"dest_state\"] = flights_dest.dest_city_name.map(lambda x: x.split(\", \")[1])"
   ]
  },
  {
   "cell_type": "code",
   "execution_count": 98,
   "id": "e4debeee-fc66-4032-96eb-5d70dc7ee18c",
   "metadata": {},
   "outputs": [
    {
     "data": {
      "text/html": [
       "<div>\n",
       "<style scoped>\n",
       "    .dataframe tbody tr th:only-of-type {\n",
       "        vertical-align: middle;\n",
       "    }\n",
       "\n",
       "    .dataframe tbody tr th {\n",
       "        vertical-align: top;\n",
       "    }\n",
       "\n",
       "    .dataframe thead th {\n",
       "        text-align: right;\n",
       "    }\n",
       "</style>\n",
       "<table border=\"1\" class=\"dataframe\">\n",
       "  <thead>\n",
       "    <tr style=\"text-align: right;\">\n",
       "      <th></th>\n",
       "      <th>mkt_unique_carrier</th>\n",
       "      <th>op_unique_carrier</th>\n",
       "      <th>op_carrier_fl_num</th>\n",
       "      <th>arr_delay</th>\n",
       "      <th>crs_elapsed_time</th>\n",
       "      <th>distance</th>\n",
       "      <th>inbound_flights</th>\n",
       "      <th>service_level_or</th>\n",
       "      <th>hub_type_or</th>\n",
       "      <th>ownership_status_or</th>\n",
       "      <th>...</th>\n",
       "      <th>service_level_des</th>\n",
       "      <th>hub_type_des</th>\n",
       "      <th>ownership_status_des</th>\n",
       "      <th>facility_use_des</th>\n",
       "      <th>area_des</th>\n",
       "      <th>fss_on_airport_des</th>\n",
       "      <th>beacon_color_des</th>\n",
       "      <th>total_operations_annual_des</th>\n",
       "      <th>origin_state</th>\n",
       "      <th>dest_state</th>\n",
       "    </tr>\n",
       "  </thead>\n",
       "  <tbody>\n",
       "    <tr>\n",
       "      <th>0</th>\n",
       "      <td>DL</td>\n",
       "      <td>9E</td>\n",
       "      <td>5303</td>\n",
       "      <td>-17.0</td>\n",
       "      <td>121.0</td>\n",
       "      <td>692.0</td>\n",
       "      <td>4</td>\n",
       "      <td>Primary</td>\n",
       "      <td>Large</td>\n",
       "      <td>PUBLIC</td>\n",
       "      <td>...</td>\n",
       "      <td>Primary</td>\n",
       "      <td>Non-Hub</td>\n",
       "      <td>PUBLIC</td>\n",
       "      <td>PUBLIC</td>\n",
       "      <td>2278.0</td>\n",
       "      <td>NO</td>\n",
       "      <td>Clear and Green</td>\n",
       "      <td>87505</td>\n",
       "      <td>GA</td>\n",
       "      <td>PA</td>\n",
       "    </tr>\n",
       "    <tr>\n",
       "      <th>1</th>\n",
       "      <td>DL</td>\n",
       "      <td>9E</td>\n",
       "      <td>5443</td>\n",
       "      <td>-13.0</td>\n",
       "      <td>126.0</td>\n",
       "      <td>692.0</td>\n",
       "      <td>6</td>\n",
       "      <td>Primary</td>\n",
       "      <td>Large</td>\n",
       "      <td>PUBLIC</td>\n",
       "      <td>...</td>\n",
       "      <td>Primary</td>\n",
       "      <td>Non-Hub</td>\n",
       "      <td>PUBLIC</td>\n",
       "      <td>PUBLIC</td>\n",
       "      <td>2278.0</td>\n",
       "      <td>NO</td>\n",
       "      <td>Clear and Green</td>\n",
       "      <td>87505</td>\n",
       "      <td>GA</td>\n",
       "      <td>PA</td>\n",
       "    </tr>\n",
       "    <tr>\n",
       "      <th>2</th>\n",
       "      <td>DL</td>\n",
       "      <td>9E</td>\n",
       "      <td>5187</td>\n",
       "      <td>-17.0</td>\n",
       "      <td>125.0</td>\n",
       "      <td>692.0</td>\n",
       "      <td>4</td>\n",
       "      <td>Primary</td>\n",
       "      <td>Large</td>\n",
       "      <td>PUBLIC</td>\n",
       "      <td>...</td>\n",
       "      <td>Primary</td>\n",
       "      <td>Non-Hub</td>\n",
       "      <td>PUBLIC</td>\n",
       "      <td>PUBLIC</td>\n",
       "      <td>2278.0</td>\n",
       "      <td>NO</td>\n",
       "      <td>Clear and Green</td>\n",
       "      <td>87505</td>\n",
       "      <td>GA</td>\n",
       "      <td>PA</td>\n",
       "    </tr>\n",
       "    <tr>\n",
       "      <th>3</th>\n",
       "      <td>DL</td>\n",
       "      <td>9E</td>\n",
       "      <td>5443</td>\n",
       "      <td>-8.0</td>\n",
       "      <td>126.0</td>\n",
       "      <td>692.0</td>\n",
       "      <td>7</td>\n",
       "      <td>Primary</td>\n",
       "      <td>Large</td>\n",
       "      <td>PUBLIC</td>\n",
       "      <td>...</td>\n",
       "      <td>Primary</td>\n",
       "      <td>Non-Hub</td>\n",
       "      <td>PUBLIC</td>\n",
       "      <td>PUBLIC</td>\n",
       "      <td>2278.0</td>\n",
       "      <td>NO</td>\n",
       "      <td>Clear and Green</td>\n",
       "      <td>87505</td>\n",
       "      <td>GA</td>\n",
       "      <td>PA</td>\n",
       "    </tr>\n",
       "    <tr>\n",
       "      <th>2017</th>\n",
       "      <td>DL</td>\n",
       "      <td>9E</td>\n",
       "      <td>5454</td>\n",
       "      <td>26.0</td>\n",
       "      <td>123.0</td>\n",
       "      <td>692.0</td>\n",
       "      <td>9</td>\n",
       "      <td>Primary</td>\n",
       "      <td>Large</td>\n",
       "      <td>PUBLIC</td>\n",
       "      <td>...</td>\n",
       "      <td>Primary</td>\n",
       "      <td>Non-Hub</td>\n",
       "      <td>PUBLIC</td>\n",
       "      <td>PUBLIC</td>\n",
       "      <td>2278.0</td>\n",
       "      <td>NO</td>\n",
       "      <td>Clear and Green</td>\n",
       "      <td>87505</td>\n",
       "      <td>GA</td>\n",
       "      <td>PA</td>\n",
       "    </tr>\n",
       "  </tbody>\n",
       "</table>\n",
       "<p>5 rows × 25 columns</p>\n",
       "</div>"
      ],
      "text/plain": [
       "     mkt_unique_carrier op_unique_carrier  op_carrier_fl_num  arr_delay  \\\n",
       "0                    DL                9E               5303      -17.0   \n",
       "1                    DL                9E               5443      -13.0   \n",
       "2                    DL                9E               5187      -17.0   \n",
       "3                    DL                9E               5443       -8.0   \n",
       "2017                 DL                9E               5454       26.0   \n",
       "\n",
       "      crs_elapsed_time  distance  inbound_flights service_level_or  \\\n",
       "0                121.0     692.0                4          Primary   \n",
       "1                126.0     692.0                6          Primary   \n",
       "2                125.0     692.0                4          Primary   \n",
       "3                126.0     692.0                7          Primary   \n",
       "2017             123.0     692.0                9          Primary   \n",
       "\n",
       "     hub_type_or ownership_status_or  ... service_level_des  hub_type_des  \\\n",
       "0          Large              PUBLIC  ...           Primary       Non-Hub   \n",
       "1          Large              PUBLIC  ...           Primary       Non-Hub   \n",
       "2          Large              PUBLIC  ...           Primary       Non-Hub   \n",
       "3          Large              PUBLIC  ...           Primary       Non-Hub   \n",
       "2017       Large              PUBLIC  ...           Primary       Non-Hub   \n",
       "\n",
       "     ownership_status_des facility_use_des  area_des fss_on_airport_des  \\\n",
       "0                  PUBLIC           PUBLIC    2278.0                 NO   \n",
       "1                  PUBLIC           PUBLIC    2278.0                 NO   \n",
       "2                  PUBLIC           PUBLIC    2278.0                 NO   \n",
       "3                  PUBLIC           PUBLIC    2278.0                 NO   \n",
       "2017               PUBLIC           PUBLIC    2278.0                 NO   \n",
       "\n",
       "     beacon_color_des total_operations_annual_des origin_state  dest_state  \n",
       "0     Clear and Green                       87505           GA          PA  \n",
       "1     Clear and Green                       87505           GA          PA  \n",
       "2     Clear and Green                       87505           GA          PA  \n",
       "3     Clear and Green                       87505           GA          PA  \n",
       "2017  Clear and Green                       87505           GA          PA  \n",
       "\n",
       "[5 rows x 25 columns]"
      ]
     },
     "execution_count": 98,
     "metadata": {},
     "output_type": "execute_result"
    }
   ],
   "source": [
    "flights_dest = flights_dest.drop(columns=[\"dest_city_name\",\"dest\",\"origin\",\"origin_city_name\"])\n",
    "flights_dest.head()"
   ]
  },
  {
   "cell_type": "code",
   "execution_count": 99,
   "id": "62c5339d-1a53-4cec-aa70-61177af4133f",
   "metadata": {},
   "outputs": [],
   "source": [
    "flights_dropped = flights_dest.replace({\"\":np.nan})"
   ]
  },
  {
   "cell_type": "code",
   "execution_count": 100,
   "id": "5c6caf7b-2cfb-4de1-ac1b-55614686bae2",
   "metadata": {},
   "outputs": [
    {
     "data": {
      "text/plain": [
       "mkt_unique_carrier                 0\n",
       "op_unique_carrier                  0\n",
       "op_carrier_fl_num                  0\n",
       "arr_delay                      16037\n",
       "crs_elapsed_time                   2\n",
       "distance                           0\n",
       "inbound_flights                    0\n",
       "service_level_or                   0\n",
       "hub_type_or                      220\n",
       "ownership_status_or                0\n",
       "facility_use_or                    0\n",
       "area_or                          937\n",
       "fss_on_airport_or                  0\n",
       "beacon_color_or                  160\n",
       "total_operations_annual_or         0\n",
       "service_level_des                  0\n",
       "hub_type_des                     197\n",
       "ownership_status_des               0\n",
       "facility_use_des                   0\n",
       "area_des                         915\n",
       "fss_on_airport_des                 0\n",
       "beacon_color_des                 131\n",
       "total_operations_annual_des        0\n",
       "origin_state                       0\n",
       "dest_state                         0\n",
       "dtype: int64"
      ]
     },
     "execution_count": 100,
     "metadata": {},
     "output_type": "execute_result"
    }
   ],
   "source": [
    "flights_dropped.isna().sum()"
   ]
  },
  {
   "cell_type": "code",
   "execution_count": 101,
   "id": "fff61e6b-7651-4bfb-9550-05d7f3fd1bdb",
   "metadata": {},
   "outputs": [],
   "source": [
    "flights_dropped = flights_dropped.dropna()"
   ]
  },
  {
   "cell_type": "code",
   "execution_count": 102,
   "id": "9dd7da03-f0f6-46a9-ab39-5f6dbf0dd613",
   "metadata": {},
   "outputs": [
    {
     "name": "stdout",
     "output_type": "stream",
     "text": [
      "23.0\n"
     ]
    }
   ],
   "source": [
    "# Import stats from scipy library\n",
    "from scipy import stats\n",
    "  \n",
    "# Interquartile range (IQR)\n",
    "IQR = stats.iqr(flights_dropped.arr_delay, interpolation = 'midpoint')\n",
    "\n",
    "# First quartile (Q1)\n",
    "Q1 = np.percentile(flights_dropped.arr_delay, 25, interpolation = 'midpoint')\n",
    "  \n",
    "# Third quartile (Q3)\n",
    "Q3 = np.percentile(flights_dropped.arr_delay, 75, interpolation = 'midpoint')\n",
    "  \n",
    "print(IQR)"
   ]
  },
  {
   "cell_type": "code",
   "execution_count": 103,
   "id": "5b93d510-0346-4d45-b228-f4b1dd3ea28e",
   "metadata": {},
   "outputs": [],
   "source": [
    "flights_dropped = flights_dropped[(flights_dropped.arr_delay<(Q3 + 1.5*IQR)) & (flights_dropped.arr_delay>(Q1 - 1.5*IQR))]"
   ]
  },
  {
   "cell_type": "code",
   "execution_count": 104,
   "id": "7d454ae7-4b13-4852-a6bb-70ffe1502185",
   "metadata": {},
   "outputs": [
    {
     "data": {
      "text/plain": [
       "(662128, 25)"
      ]
     },
     "execution_count": 104,
     "metadata": {},
     "output_type": "execute_result"
    }
   ],
   "source": [
    "flights_dropped.shape"
   ]
  },
  {
   "cell_type": "markdown",
   "id": "7b93e177-d2c8-4b6e-89b8-0476d6d54722",
   "metadata": {},
   "source": [
    "## Modelling"
   ]
  },
  {
   "cell_type": "code",
   "execution_count": 105,
   "id": "b7985652-0ebb-4afe-9ddc-33102e68df82",
   "metadata": {},
   "outputs": [],
   "source": [
    "X,y = flights_dropped.drop(columns=[\"arr_delay\"]), flights_dropped[\"arr_delay\"]"
   ]
  },
  {
   "cell_type": "code",
   "execution_count": 106,
   "id": "832fd9e2-196c-483e-a0ae-06ddeac14123",
   "metadata": {},
   "outputs": [],
   "source": [
    "X_dummy = X.drop(columns=[\"op_carrier_fl_num\",\"crs_elapsed_time\"])"
   ]
  },
  {
   "cell_type": "code",
   "execution_count": 107,
   "id": "45441aab-dc53-4d9a-aa12-a04bef07a52d",
   "metadata": {},
   "outputs": [
    {
     "data": {
      "text/plain": [
       "mkt_unique_carrier                          DL\n",
       "op_unique_carrier                           9E\n",
       "distance                                 692.0\n",
       "inbound_flights                              4\n",
       "service_level_or                       Primary\n",
       "hub_type_or                              Large\n",
       "ownership_status_or                     PUBLIC\n",
       "facility_use_or                         PUBLIC\n",
       "area_or                                 4700.0\n",
       "fss_on_airport_or                           NO\n",
       "beacon_color_or                Clear and Green\n",
       "total_operations_annual_or              525305\n",
       "service_level_des                      Primary\n",
       "hub_type_des                           Non-Hub\n",
       "ownership_status_des                    PUBLIC\n",
       "facility_use_des                        PUBLIC\n",
       "area_des                                2278.0\n",
       "fss_on_airport_des                          NO\n",
       "beacon_color_des               Clear and Green\n",
       "total_operations_annual_des              87505\n",
       "origin_state                                GA\n",
       "dest_state                                  PA\n",
       "Name: 0, dtype: object"
      ]
     },
     "execution_count": 107,
     "metadata": {},
     "output_type": "execute_result"
    }
   ],
   "source": [
    "X_dummy.iloc[0]"
   ]
  },
  {
   "cell_type": "code",
   "execution_count": 108,
   "id": "55af1904-f8ab-4d1a-8e8f-c6efe3f2cd2f",
   "metadata": {},
   "outputs": [
    {
     "data": {
      "text/plain": [
       "(662128, 169)"
      ]
     },
     "execution_count": 108,
     "metadata": {},
     "output_type": "execute_result"
    }
   ],
   "source": [
    "X_dummy = pd.get_dummies(\n",
    "    data=X_dummy,columns=[\"mkt_unique_carrier\",\"op_unique_carrier\",\n",
    "                        \"service_level_or\",\"hub_type_or\",\"fss_on_airport_or\",\"beacon_color_or\",\n",
    "                          \"ownership_status_or\",\"facility_use_or\",\n",
    "                        \"service_level_des\",\"hub_type_des\",\"fss_on_airport_des\",\"beacon_color_des\",\n",
    "                          \"ownership_status_des\",\"facility_use_des\",\n",
    "                        \"origin_state\",\"dest_state\"])\n",
    "X_dummy.shape"
   ]
  },
  {
   "cell_type": "code",
   "execution_count": 109,
   "id": "88750906-8223-4423-b295-41a482126325",
   "metadata": {},
   "outputs": [
    {
     "data": {
      "text/plain": [
       "<AxesSubplot:ylabel='arr_delay'>"
      ]
     },
     "execution_count": 109,
     "metadata": {},
     "output_type": "execute_result"
    },
    {
     "data": {
      "image/png": "[encoded data removed]",
      "text/plain": [
       "<Figure size 432x288 with 1 Axes>"
      ]
     },
     "metadata": {
      "needs_background": "light"
     },
     "output_type": "display_data"
    }
   ],
   "source": [
    "sns.boxplot(y=y)"
   ]
  },
  {
   "cell_type": "code",
   "execution_count": null,
   "id": "8cc4bbd9-d550-4693-b7c1-f7040f7d9d46",
   "metadata": {},
   "outputs": [],
   "source": []
  },
  {
   "cell_type": "code",
   "execution_count": 110,
   "id": "08f8e2c3-4af2-40f9-b2e7-af7f96c58175",
   "metadata": {},
   "outputs": [
    {
     "data": {
      "text/plain": [
       "-5.722570258318633"
      ]
     },
     "execution_count": 110,
     "metadata": {},
     "output_type": "execute_result"
    }
   ],
   "source": [
    "np.mean(y)"
   ]
  },
  {
   "cell_type": "code",
   "execution_count": 111,
   "id": "1fb43210-3ba3-4789-a202-79602108f5e6",
   "metadata": {},
   "outputs": [
    {
     "data": {
      "text/plain": [
       "-8.0"
      ]
     },
     "execution_count": 111,
     "metadata": {},
     "output_type": "execute_result"
    }
   ],
   "source": [
    "np.median(y)"
   ]
  },
  {
   "cell_type": "code",
   "execution_count": 112,
   "id": "824c14a6-26c3-407e-82db-d623b1516e4e",
   "metadata": {},
   "outputs": [
    {
     "data": {
      "text/plain": [
       "Series([], Name: arr_delay, dtype: float64)"
      ]
     },
     "execution_count": 112,
     "metadata": {},
     "output_type": "execute_result"
    }
   ],
   "source": [
    "y[y>Q3 + 1.5*IQR]"
   ]
  },
  {
   "cell_type": "code",
   "execution_count": 113,
   "id": "0cfe8e68-ead4-4574-87f2-fe9f8695fb32",
   "metadata": {},
   "outputs": [
    {
     "data": {
      "text/plain": [
       "(662128,)"
      ]
     },
     "execution_count": 113,
     "metadata": {},
     "output_type": "execute_result"
    }
   ],
   "source": [
    "y.shape"
   ]
  },
  {
   "cell_type": "code",
   "execution_count": null,
   "id": "f5f9adbd-00f8-4273-97fb-5fa2f5b3aae3",
   "metadata": {},
   "outputs": [],
   "source": []
  },
  {
   "cell_type": "code",
   "execution_count": 114,
   "id": "a1d29d71-ec06-4b69-bbc4-6e89ff478f20",
   "metadata": {},
   "outputs": [],
   "source": [
    "from sklearn.model_selection import train_test_split,GridSearchCV\n",
    "from sklearn.preprocessing import StandardScaler\n",
    "from sklearn.linear_model import LinearRegression\n",
    "from sklearn.metrics import r2_score,mean_absolute_error,mean_squared_error"
   ]
  },
  {
   "cell_type": "code",
   "execution_count": 115,
   "id": "4e3f4cc0-399f-4e4d-a023-d91d28653ddf",
   "metadata": {},
   "outputs": [],
   "source": [
    "X_train,X_test,y_train,y_test = train_test_split(X_dummy,y,train_size=0.7,random_state=1234)"
   ]
  },
  {
   "cell_type": "code",
   "execution_count": 116,
   "id": "29adc88b-9364-458c-975f-e687b4f2539a",
   "metadata": {},
   "outputs": [
    {
     "data": {
      "text/plain": [
       "GridSearchCV(estimator=LinearRegression(), param_grid={})"
      ]
     },
     "execution_count": 116,
     "metadata": {},
     "output_type": "execute_result"
    }
   ],
   "source": [
    "reg = LinearRegression()\n",
    "model = GridSearchCV(reg,param_grid={})\n",
    "model.fit(X_train,y_train)"
   ]
  },
  {
   "cell_type": "code",
   "execution_count": 117,
   "id": "4d7a1acd-95e6-4ea3-90e9-b50a66086f6f",
   "metadata": {},
   "outputs": [],
   "source": [
    "y_pred = model.predict(X_test)"
   ]
  },
  {
   "cell_type": "code",
   "execution_count": 118,
   "id": "f22e0485-9e5d-479e-b8cd-a743e60bc237",
   "metadata": {},
   "outputs": [
    {
     "name": "stdout",
     "output_type": "stream",
     "text": [
      "0.02146055239387845\n"
     ]
    }
   ],
   "source": [
    "print(r2_score(y_test,y_pred))"
   ]
  },
  {
   "cell_type": "code",
   "execution_count": 348,
   "id": "80b8973f-c3c6-4773-a63f-d01df6144d17",
   "metadata": {},
   "outputs": [],
   "source": [
    "from sklearn.ensemble import RandomForestRegressor"
   ]
  },
  {
   "cell_type": "code",
   "execution_count": 349,
   "id": "f2e81b2a-96ed-4d61-bf9d-c696c42fa438",
   "metadata": {},
   "outputs": [
    {
     "data": {
      "text/plain": [
       "GridSearchCV(estimator=RandomForestRegressor(), param_grid={})"
      ]
     },
     "execution_count": 349,
     "metadata": {},
     "output_type": "execute_result"
    }
   ],
   "source": [
    "reg = RandomForestRegressor(n_estimators=100)\n",
    "model = GridSearchCV(reg,param_grid={})\n",
    "model.fit(X_train,y_train)"
   ]
  },
  {
   "cell_type": "code",
   "execution_count": 350,
   "id": "952ee375-00fa-4c5f-8774-d862cd100920",
   "metadata": {},
   "outputs": [
    {
     "name": "stdout",
     "output_type": "stream",
     "text": [
      "-0.012584131383346797\n"
     ]
    }
   ],
   "source": [
    "y_pred = model.predict(X_test)\n",
    "print(r2_score(y_test,y_pred))"
   ]
  },
  {
   "cell_type": "code",
   "execution_count": null,
   "id": "7c459aa5-da86-4994-b1b8-0f20f40ab87d",
   "metadata": {},
   "outputs": [],
   "source": []
  }
 ],
 "metadata": {
  "kernelspec": {
   "display_name": "geo_env",
   "language": "python",
   "name": "geo_env"
  },
  "language_info": {
   "codemirror_mode": {
    "name": "ipython",
    "version": 3
   },
   "file_extension": ".py",
   "mimetype": "text/x-python",
   "name": "python",
   "nbconvert_exporter": "python",
   "pygments_lexer": "ipython3",
   "version": "3.9.6"
  }
 },
 "nbformat": 4,
 "nbformat_minor": 5
}
