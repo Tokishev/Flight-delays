{
 "cells": [
  {
   "cell_type": "code",
   "execution_count": 11,
   "id": "34ed64cb-a837-45f2-8e79-26fe7d5728c8",
   "metadata": {},
   "outputs": [],
   "source": [
    "import psycopg2\n",
    "import sys, os\n",
    "import numpy as np\n",
    "import pandas as pd\n",
    "# import example_psql as creds\n",
    "import pandas.io.sql as psql\n",
    "\n",
    "import credentials"
   ]
  },
  {
   "cell_type": "code",
   "execution_count": 18,
   "id": "54bf4f8f-ce61-4ece-aca7-c7da472f3df9",
   "metadata": {},
   "outputs": [],
   "source": [
    "sys.path.append(os.path.abspath('../helper/sql_helper.py'))\n",
    "import sql_helper"
   ]
  },
  {
   "cell_type": "code",
   "execution_count": 19,
   "id": "281879e9-e964-456b-98fb-278220d173bf",
   "metadata": {},
   "outputs": [],
   "source": [
    "tables = [\"flights\",\"passengers\",\"fuel_comsumption\",\"flights_test\"]"
   ]
  },
  {
   "cell_type": "code",
   "execution_count": 20,
   "id": "9f6c2b1a-2c89-465f-9923-78b357287680",
   "metadata": {},
   "outputs": [],
   "source": [
    "con = psycopg2.connect(database=credentials.REMOTE[\"PGDATABASE\"], user=credentials.REMOTE[\"PGUSER\"], password=credentials.REMOTE[\"PGPASSWORD\"], \n",
    "                       host=credentials.REMOTE[\"PGHOST\"], port=credentials.REMOTE[\"PGPORT\"])\n",
    "\n",
    "if con!=None:\n",
    "    row_count = sql_helper.get_number_of_rows(tables,con)\n",
    "    \n",
    "con.close()"
   ]
  },
  {
   "cell_type": "code",
   "execution_count": 21,
   "id": "0c42662f-32de-4087-bb5f-166e9301b2d8",
   "metadata": {},
   "outputs": [
    {
     "data": {
      "text/plain": [
       "{'flights_test': 660556}"
      ]
     },
     "execution_count": 21,
     "metadata": {},
     "output_type": "execute_result"
    }
   ],
   "source": [
    "row_count "
   ]
  },
  {
   "cell_type": "code",
   "execution_count": 22,
   "id": "f0831d11-9d55-4a26-921f-67135f333f0d",
   "metadata": {},
   "outputs": [
    {
     "name": "stdout",
     "output_type": "stream",
     "text": [
      "SELECT * from flights_test\n"
     ]
    }
   ],
   "source": [
    "con = psycopg2.connect(database=credentials.REMOTE[\"PGDATABASE\"], user=credentials.REMOTE[\"PGUSER\"], password=credentials.REMOTE[\"PGPASSWORD\"], \n",
    "                       host=credentials.REMOTE[\"PGHOST\"], port=credentials.REMOTE[\"PGPORT\"])\n",
    "\n",
    "if con!=None:\n",
    "    dataframes = sql_helper.get_df_from_sql(tables,con,number_of_rows=None)\n",
    "    \n",
    "con.close()"
   ]
  },
  {
   "cell_type": "code",
   "execution_count": 23,
   "id": "2db36fbc-3b1a-42d0-bf8f-6af8f7fb83b2",
   "metadata": {},
   "outputs": [],
   "source": [
    "for table_name,data in zip(tables,dataframes):\n",
    "    data.to_csv(f\"{table_name}.csv\")"
   ]
  },
  {
   "cell_type": "code",
   "execution_count": null,
   "id": "ed5e7f25-e018-407b-ab3c-7d1e9839400e",
   "metadata": {},
   "outputs": [],
   "source": []
  },
  {
   "cell_type": "code",
   "execution_count": null,
   "id": "72e16ade-98ec-4e64-98fc-6174032371ca",
   "metadata": {},
   "outputs": [],
   "source": []
  }
 ],
 "metadata": {
  "kernelspec": {
   "display_name": "geo_env",
   "language": "python",
   "name": "geo_env"
  },
  "language_info": {
   "codemirror_mode": {
    "name": "ipython",
    "version": 3
   },
   "file_extension": ".py",
   "mimetype": "text/x-python",
   "name": "python",
   "nbconvert_exporter": "python",
   "pygments_lexer": "ipython3",
   "version": "3.9.6"
  }
 },
 "nbformat": 4,
 "nbformat_minor": 5
}
